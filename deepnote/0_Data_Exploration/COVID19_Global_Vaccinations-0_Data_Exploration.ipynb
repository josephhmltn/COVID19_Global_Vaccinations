{
  "cells": [
    {
      "cell_type": "markdown",
      "source": "### Get a snapshot of the dataset",
      "metadata": {
        "noteable": {
          "cell_type": "markdown"
        },
        "cell_id": "e26b2c3c6994400e86138f999cb26085",
        "deepnote_cell_type": "markdown"
      },
      "block_group": "d8cc184ec6854e678bcfe4ce3c5712cc"
    },
    {
      "cell_type": "code",
      "source": "df_1 = _deepnote_execute_sql('SELECT * \\nFROM `covid19_data`.`covid19-data`\\nLIMIT 100;', 'SQL_E2E7BAC6_19C0_4753_95A0_157A1F88869C', audit_sql_comment='', sql_cache_mode='cache_disabled')\ndf_1",
      "metadata": {
        "source_hash": "4a9c9777",
        "execution_start": 1703086343592,
        "execution_millis": 2897,
        "sql_integration_id": "e2e7bac6-19c0-4753-95a0-157a1f88869c",
        "deepnote_table_state": {
          "sortBy": [],
          "filters": [],
          "pageSize": 25,
          "pageIndex": 0
        },
        "deepnote_table_loading": false,
        "deepnote_variable_name": "df_1",
        "deepnote_to_be_reexecuted": false,
        "cell_id": "0f0853df745c45408c40e132bd773ad9",
        "deepnote_cell_type": "sql",
        "deepnote_sql_source": "SELECT * \nFROM `covid19_data`.`covid19-data`\nLIMIT 100;"
      },
      "outputs": [
        {
          "data": {
            "application/vnd.deepnote.sql-output-metadata+json": {
              "status": "success_no_cache",
              "size_in_bytes": 149728
            }
          },
          "metadata": {},
          "output_type": "display_data"
        },
        {
          "output_type": "execute_result",
          "execution_count": 1,
          "data": {
            "application/vnd.deepnote.dataframe.v3+json": {
              "column_count": 67,
              "row_count": 100,
              "columns": [
                {
                  "name": "iso_code",
                  "dtype": "object",
                  "stats": {
                    "unique_count": 1,
                    "nan_count": 0,
                    "categories": [
                      {
                        "name": "OWID_AFR",
                        "count": 100
                      }
                    ]
                  }
                },
                {
                  "name": "continent",
                  "dtype": "object",
                  "stats": {
                    "unique_count": 0,
                    "nan_count": 100,
                    "categories": [
                      {
                        "name": "Missing",
                        "count": 100
                      }
                    ]
                  }
                },
                {
                  "name": "location",
                  "dtype": "object",
                  "stats": {
                    "unique_count": 1,
                    "nan_count": 0,
                    "categories": [
                      {
                        "name": "Africa",
                        "count": 100
                      }
                    ]
                  }
                },
                {
                  "name": "date",
                  "dtype": "object",
                  "stats": {
                    "unique_count": 100,
                    "nan_count": 0,
                    "categories": [
                      {
                        "name": "2020-01-03",
                        "count": 1
                      },
                      {
                        "name": "2020-01-04",
                        "count": 1
                      },
                      {
                        "name": "98 others",
                        "count": 98
                      }
                    ]
                  }
                },
                {
                  "name": "total_cases",
                  "dtype": "float64",
                  "stats": {
                    "unique_count": 44,
                    "nan_count": 42,
                    "min": "5.0",
                    "max": "13765.0",
                    "histogram": [
                      {
                        "bin_start": 5,
                        "bin_end": 1381,
                        "count": 38
                      },
                      {
                        "bin_start": 1381,
                        "bin_end": 2757,
                        "count": 3
                      },
                      {
                        "bin_start": 2757,
                        "bin_end": 4133,
                        "count": 2
                      },
                      {
                        "bin_start": 4133,
                        "bin_end": 5509,
                        "count": 3
                      },
                      {
                        "bin_start": 5509,
                        "bin_end": 6885,
                        "count": 3
                      },
                      {
                        "bin_start": 6885,
                        "bin_end": 8261,
                        "count": 1
                      },
                      {
                        "bin_start": 8261,
                        "bin_end": 9637,
                        "count": 2
                      },
                      {
                        "bin_start": 9637,
                        "bin_end": 11013,
                        "count": 2
                      },
                      {
                        "bin_start": 11013,
                        "bin_end": 12389,
                        "count": 2
                      },
                      {
                        "bin_start": 12389,
                        "bin_end": 13765,
                        "count": 2
                      }
                    ]
                  }
                },
                {
                  "name": "new_cases",
                  "dtype": "float64",
                  "stats": {
                    "unique_count": 42,
                    "nan_count": 0,
                    "min": "0.0",
                    "max": "883.0",
                    "histogram": [
                      {
                        "bin_start": 0,
                        "bin_end": 88.3,
                        "count": 74
                      },
                      {
                        "bin_start": 88.3,
                        "bin_end": 176.6,
                        "count": 3
                      },
                      {
                        "bin_start": 176.6,
                        "bin_end": 264.9,
                        "count": 3
                      },
                      {
                        "bin_start": 264.9,
                        "bin_end": 353.2,
                        "count": 2
                      },
                      {
                        "bin_start": 353.2,
                        "bin_end": 441.5,
                        "count": 3
                      },
                      {
                        "bin_start": 441.5,
                        "bin_end": 529.8,
                        "count": 1
                      },
                      {
                        "bin_start": 529.8,
                        "bin_end": 618.1,
                        "count": 3
                      },
                      {
                        "bin_start": 618.1,
                        "bin_end": 706.4,
                        "count": 4
                      },
                      {
                        "bin_start": 706.4,
                        "bin_end": 794.6999999999999,
                        "count": 3
                      },
                      {
                        "bin_start": 794.6999999999999,
                        "bin_end": 883,
                        "count": 4
                      }
                    ]
                  }
                },
                {
                  "name": "new_cases_smoothed",
                  "dtype": "float64",
                  "stats": {
                    "unique_count": 45,
                    "nan_count": 5,
                    "min": "0.0",
                    "max": "767.429",
                    "histogram": [
                      {
                        "bin_start": 0,
                        "bin_end": 76.74289999999999,
                        "count": 71
                      },
                      {
                        "bin_start": 76.74289999999999,
                        "bin_end": 153.48579999999998,
                        "count": 4
                      },
                      {
                        "bin_start": 153.48579999999998,
                        "bin_end": 230.22869999999998,
                        "count": 2
                      },
                      {
                        "bin_start": 230.22869999999998,
                        "bin_end": 306.97159999999997,
                        "count": 1
                      },
                      {
                        "bin_start": 306.97159999999997,
                        "bin_end": 383.71449999999993,
                        "count": 2
                      },
                      {
                        "bin_start": 383.71449999999993,
                        "bin_end": 460.45739999999995,
                        "count": 1
                      },
                      {
                        "bin_start": 460.45739999999995,
                        "bin_end": 537.2003,
                        "count": 4
                      },
                      {
                        "bin_start": 537.2003,
                        "bin_end": 613.9431999999999,
                        "count": 2
                      },
                      {
                        "bin_start": 613.9431999999999,
                        "bin_end": 690.6860999999999,
                        "count": 2
                      },
                      {
                        "bin_start": 690.6860999999999,
                        "bin_end": 767.429,
                        "count": 6
                      }
                    ]
                  }
                },
                {
                  "name": "total_deaths",
                  "dtype": "float64",
                  "stats": {
                    "unique_count": 31,
                    "nan_count": 62,
                    "min": "5.0",
                    "max": "865.0",
                    "histogram": [
                      {
                        "bin_start": 5,
                        "bin_end": 91,
                        "count": 23
                      },
                      {
                        "bin_start": 91,
                        "bin_end": 177,
                        "count": 3
                      },
                      {
                        "bin_start": 177,
                        "bin_end": 263,
                        "count": 0
                      },
                      {
                        "bin_start": 263,
                        "bin_end": 349,
                        "count": 1
                      },
                      {
                        "bin_start": 349,
                        "bin_end": 435,
                        "count": 1
                      },
                      {
                        "bin_start": 435,
                        "bin_end": 521,
                        "count": 2
                      },
                      {
                        "bin_start": 521,
                        "bin_end": 607,
                        "count": 2
                      },
                      {
                        "bin_start": 607,
                        "bin_end": 693,
                        "count": 2
                      },
                      {
                        "bin_start": 693,
                        "bin_end": 779,
                        "count": 2
                      },
                      {
                        "bin_start": 779,
                        "bin_end": 865,
                        "count": 2
                      }
                    ]
                  }
                },
                {
                  "name": "new_deaths",
                  "dtype": "float64",
                  "stats": {
                    "unique_count": 25,
                    "nan_count": 0,
                    "min": "0.0",
                    "max": "171.0",
                    "histogram": [
                      {
                        "bin_start": 0,
                        "bin_end": 17.1,
                        "count": 86
                      },
                      {
                        "bin_start": 17.1,
                        "bin_end": 34.2,
                        "count": 3
                      },
                      {
                        "bin_start": 34.2,
                        "bin_end": 51.300000000000004,
                        "count": 6
                      },
                      {
                        "bin_start": 51.300000000000004,
                        "bin_end": 68.4,
                        "count": 3
                      },
                      {
                        "bin_start": 68.4,
                        "bin_end": 85.5,
                        "count": 1
                      },
                      {
                        "bin_start": 85.5,
                        "bin_end": 102.60000000000001,
                        "count": 0
                      },
                      {
                        "bin_start": 102.60000000000001,
                        "bin_end": 119.70000000000002,
                        "count": 0
                      },
                      {
                        "bin_start": 119.70000000000002,
                        "bin_end": 136.8,
                        "count": 0
                      },
                      {
                        "bin_start": 136.8,
                        "bin_end": 153.9,
                        "count": 0
                      },
                      {
                        "bin_start": 153.9,
                        "bin_end": 171,
                        "count": 1
                      }
                    ]
                  }
                },
                {
                  "name": "new_deaths_smoothed",
                  "dtype": "float64",
                  "stats": {
                    "unique_count": 30,
                    "nan_count": 5,
                    "min": "0.0",
                    "max": "68.429",
                    "histogram": [
                      {
                        "bin_start": 0,
                        "bin_end": 6.8429,
                        "count": 79
                      },
                      {
                        "bin_start": 6.8429,
                        "bin_end": 13.6858,
                        "count": 2
                      },
                      {
                        "bin_start": 13.6858,
                        "bin_end": 20.5287,
                        "count": 2
                      },
                      {
                        "bin_start": 20.5287,
                        "bin_end": 27.3716,
                        "count": 0
                      },
                      {
                        "bin_start": 27.3716,
                        "bin_end": 34.2145,
                        "count": 0
                      },
                      {
                        "bin_start": 34.2145,
                        "bin_end": 41.0574,
                        "count": 1
                      },
                      {
                        "bin_start": 41.0574,
                        "bin_end": 47.9003,
                        "count": 4
                      },
                      {
                        "bin_start": 47.9003,
                        "bin_end": 54.7432,
                        "count": 3
                      },
                      {
                        "bin_start": 54.7432,
                        "bin_end": 61.5861,
                        "count": 1
                      },
                      {
                        "bin_start": 61.5861,
                        "bin_end": 68.429,
                        "count": 3
                      }
                    ]
                  }
                },
                {
                  "name": "total_cases_per_million",
                  "dtype": "float64",
                  "stats": {
                    "unique_count": 43,
                    "nan_count": 42,
                    "min": "0.004",
                    "max": "9.648",
                    "histogram": [
                      {
                        "bin_start": 0.004,
                        "bin_end": 0.9684,
                        "count": 38
                      },
                      {
                        "bin_start": 0.9684,
                        "bin_end": 1.9328,
                        "count": 3
                      },
                      {
                        "bin_start": 1.9328,
                        "bin_end": 2.8972,
                        "count": 2
                      },
                      {
                        "bin_start": 2.8972,
                        "bin_end": 3.8616,
                        "count": 3
                      },
                      {
                        "bin_start": 3.8616,
                        "bin_end": 4.826,
                        "count": 3
                      },
                      {
                        "bin_start": 4.826,
                        "bin_end": 5.7904,
                        "count": 1
                      },
                      {
                        "bin_start": 5.7904,
                        "bin_end": 6.7547999999999995,
                        "count": 2
                      },
                      {
                        "bin_start": 6.7547999999999995,
                        "bin_end": 7.7192,
                        "count": 2
                      },
                      {
                        "bin_start": 7.7192,
                        "bin_end": 8.6836,
                        "count": 2
                      },
                      {
                        "bin_start": 8.6836,
                        "bin_end": 9.648,
                        "count": 2
                      }
                    ]
                  }
                },
                {
                  "name": "new_cases_per_million",
                  "dtype": "float64",
                  "stats": {
                    "unique_count": 41,
                    "nan_count": 0,
                    "min": "0.0",
                    "max": "0.619",
                    "histogram": [
                      {
                        "bin_start": 0,
                        "bin_end": 0.0619,
                        "count": 74
                      },
                      {
                        "bin_start": 0.0619,
                        "bin_end": 0.1238,
                        "count": 3
                      },
                      {
                        "bin_start": 0.1238,
                        "bin_end": 0.18569999999999998,
                        "count": 3
                      },
                      {
                        "bin_start": 0.18569999999999998,
                        "bin_end": 0.2476,
                        "count": 2
                      },
                      {
                        "bin_start": 0.2476,
                        "bin_end": 0.3095,
                        "count": 3
                      },
                      {
                        "bin_start": 0.3095,
                        "bin_end": 0.37139999999999995,
                        "count": 1
                      },
                      {
                        "bin_start": 0.37139999999999995,
                        "bin_end": 0.43329999999999996,
                        "count": 3
                      },
                      {
                        "bin_start": 0.43329999999999996,
                        "bin_end": 0.4952,
                        "count": 4
                      },
                      {
                        "bin_start": 0.4952,
                        "bin_end": 0.5570999999999999,
                        "count": 3
                      },
                      {
                        "bin_start": 0.5570999999999999,
                        "bin_end": 0.619,
                        "count": 4
                      }
                    ]
                  }
                },
                {
                  "name": "new_cases_smoothed_per_million",
                  "dtype": "float64",
                  "stats": {
                    "unique_count": 40,
                    "nan_count": 5,
                    "min": "0.0",
                    "max": "0.538",
                    "histogram": [
                      {
                        "bin_start": 0,
                        "bin_end": 0.0538,
                        "count": 71
                      },
                      {
                        "bin_start": 0.0538,
                        "bin_end": 0.1076,
                        "count": 4
                      },
                      {
                        "bin_start": 0.1076,
                        "bin_end": 0.1614,
                        "count": 2
                      },
                      {
                        "bin_start": 0.1614,
                        "bin_end": 0.2152,
                        "count": 1
                      },
                      {
                        "bin_start": 0.2152,
                        "bin_end": 0.269,
                        "count": 2
                      },
                      {
                        "bin_start": 0.269,
                        "bin_end": 0.3228,
                        "count": 1
                      },
                      {
                        "bin_start": 0.3228,
                        "bin_end": 0.3766,
                        "count": 4
                      },
                      {
                        "bin_start": 0.3766,
                        "bin_end": 0.4304,
                        "count": 3
                      },
                      {
                        "bin_start": 0.4304,
                        "bin_end": 0.4842,
                        "count": 1
                      },
                      {
                        "bin_start": 0.4842,
                        "bin_end": 0.538,
                        "count": 6
                      }
                    ]
                  }
                },
                {
                  "name": "total_deaths_per_million",
                  "dtype": "float64",
                  "stats": {
                    "unique_count": 29,
                    "nan_count": 62,
                    "min": "0.004",
                    "max": "0.606",
                    "histogram": [
                      {
                        "bin_start": 0.004,
                        "bin_end": 0.0642,
                        "count": 23
                      },
                      {
                        "bin_start": 0.0642,
                        "bin_end": 0.1244,
                        "count": 3
                      },
                      {
                        "bin_start": 0.1244,
                        "bin_end": 0.1846,
                        "count": 0
                      },
                      {
                        "bin_start": 0.1846,
                        "bin_end": 0.2448,
                        "count": 1
                      },
                      {
                        "bin_start": 0.2448,
                        "bin_end": 0.305,
                        "count": 1
                      },
                      {
                        "bin_start": 0.305,
                        "bin_end": 0.36519999999999997,
                        "count": 2
                      },
                      {
                        "bin_start": 0.36519999999999997,
                        "bin_end": 0.4254,
                        "count": 2
                      },
                      {
                        "bin_start": 0.4254,
                        "bin_end": 0.4856,
                        "count": 2
                      },
                      {
                        "bin_start": 0.4856,
                        "bin_end": 0.5458,
                        "count": 2
                      },
                      {
                        "bin_start": 0.5458,
                        "bin_end": 0.606,
                        "count": 2
                      }
                    ]
                  }
                },
                {
                  "name": "new_deaths_per_million",
                  "dtype": "float64",
                  "stats": {
                    "unique_count": 22,
                    "nan_count": 0,
                    "min": "0.0",
                    "max": "0.12",
                    "histogram": [
                      {
                        "bin_start": 0,
                        "bin_end": 0.012,
                        "count": 86
                      },
                      {
                        "bin_start": 0.012,
                        "bin_end": 0.024,
                        "count": 2
                      },
                      {
                        "bin_start": 0.024,
                        "bin_end": 0.036000000000000004,
                        "count": 7
                      },
                      {
                        "bin_start": 0.036000000000000004,
                        "bin_end": 0.048,
                        "count": 3
                      },
                      {
                        "bin_start": 0.048,
                        "bin_end": 0.06,
                        "count": 1
                      },
                      {
                        "bin_start": 0.06,
                        "bin_end": 0.07200000000000001,
                        "count": 0
                      },
                      {
                        "bin_start": 0.07200000000000001,
                        "bin_end": 0.084,
                        "count": 0
                      },
                      {
                        "bin_start": 0.084,
                        "bin_end": 0.096,
                        "count": 0
                      },
                      {
                        "bin_start": 0.096,
                        "bin_end": 0.108,
                        "count": 0
                      },
                      {
                        "bin_start": 0.108,
                        "bin_end": 0.12,
                        "count": 1
                      }
                    ]
                  }
                },
                {
                  "name": "new_deaths_smoothed_per_million",
                  "dtype": "float64",
                  "stats": {
                    "unique_count": 17,
                    "nan_count": 5,
                    "min": "0.0",
                    "max": "0.048",
                    "histogram": [
                      {
                        "bin_start": 0,
                        "bin_end": 0.0048000000000000004,
                        "count": 79
                      },
                      {
                        "bin_start": 0.0048000000000000004,
                        "bin_end": 0.009600000000000001,
                        "count": 2
                      },
                      {
                        "bin_start": 0.009600000000000001,
                        "bin_end": 0.014400000000000001,
                        "count": 2
                      },
                      {
                        "bin_start": 0.014400000000000001,
                        "bin_end": 0.019200000000000002,
                        "count": 0
                      },
                      {
                        "bin_start": 0.019200000000000002,
                        "bin_end": 0.024,
                        "count": 0
                      },
                      {
                        "bin_start": 0.024,
                        "bin_end": 0.028800000000000003,
                        "count": 1
                      },
                      {
                        "bin_start": 0.028800000000000003,
                        "bin_end": 0.033600000000000005,
                        "count": 4
                      },
                      {
                        "bin_start": 0.033600000000000005,
                        "bin_end": 0.038400000000000004,
                        "count": 3
                      },
                      {
                        "bin_start": 0.038400000000000004,
                        "bin_end": 0.0432,
                        "count": 2
                      },
                      {
                        "bin_start": 0.0432,
                        "bin_end": 0.048,
                        "count": 2
                      }
                    ]
                  }
                },
                {
                  "name": "reproduction_rate",
                  "dtype": "object",
                  "stats": {
                    "unique_count": 0,
                    "nan_count": 100,
                    "categories": [
                      {
                        "name": "Missing",
                        "count": 100
                      }
                    ]
                  }
                },
                {
                  "name": "icu_patients",
                  "dtype": "object",
                  "stats": {
                    "unique_count": 0,
                    "nan_count": 100,
                    "categories": [
                      {
                        "name": "Missing",
                        "count": 100
                      }
                    ]
                  }
                },
                {
                  "name": "icu_patients_per_million",
                  "dtype": "object",
                  "stats": {
                    "unique_count": 0,
                    "nan_count": 100,
                    "categories": [
                      {
                        "name": "Missing",
                        "count": 100
                      }
                    ]
                  }
                },
                {
                  "name": "hosp_patients",
                  "dtype": "object",
                  "stats": {
                    "unique_count": 0,
                    "nan_count": 100,
                    "categories": [
                      {
                        "name": "Missing",
                        "count": 100
                      }
                    ]
                  }
                },
                {
                  "name": "hosp_patients_per_million",
                  "dtype": "object",
                  "stats": {
                    "unique_count": 0,
                    "nan_count": 100,
                    "categories": [
                      {
                        "name": "Missing",
                        "count": 100
                      }
                    ]
                  }
                },
                {
                  "name": "weekly_icu_admissions",
                  "dtype": "object",
                  "stats": {
                    "unique_count": 0,
                    "nan_count": 100,
                    "categories": [
                      {
                        "name": "Missing",
                        "count": 100
                      }
                    ]
                  }
                },
                {
                  "name": "weekly_icu_admissions_per_million",
                  "dtype": "object",
                  "stats": {
                    "unique_count": 0,
                    "nan_count": 100,
                    "categories": [
                      {
                        "name": "Missing",
                        "count": 100
                      }
                    ]
                  }
                },
                {
                  "name": "weekly_hosp_admissions",
                  "dtype": "object",
                  "stats": {
                    "unique_count": 0,
                    "nan_count": 100,
                    "categories": [
                      {
                        "name": "Missing",
                        "count": 100
                      }
                    ]
                  }
                },
                {
                  "name": "weekly_hosp_admissions_per_million",
                  "dtype": "object",
                  "stats": {
                    "unique_count": 0,
                    "nan_count": 100,
                    "categories": [
                      {
                        "name": "Missing",
                        "count": 100
                      }
                    ]
                  }
                },
                {
                  "name": "total_tests",
                  "dtype": "object",
                  "stats": {
                    "unique_count": 0,
                    "nan_count": 100,
                    "categories": [
                      {
                        "name": "Missing",
                        "count": 100
                      }
                    ]
                  }
                },
                {
                  "name": "new_tests",
                  "dtype": "object",
                  "stats": {
                    "unique_count": 0,
                    "nan_count": 100,
                    "categories": [
                      {
                        "name": "Missing",
                        "count": 100
                      }
                    ]
                  }
                },
                {
                  "name": "total_tests_per_thousand",
                  "dtype": "object",
                  "stats": {
                    "unique_count": 0,
                    "nan_count": 100,
                    "categories": [
                      {
                        "name": "Missing",
                        "count": 100
                      }
                    ]
                  }
                },
                {
                  "name": "new_tests_per_thousand",
                  "dtype": "object",
                  "stats": {
                    "unique_count": 0,
                    "nan_count": 100,
                    "categories": [
                      {
                        "name": "Missing",
                        "count": 100
                      }
                    ]
                  }
                },
                {
                  "name": "new_tests_smoothed",
                  "dtype": "object",
                  "stats": {
                    "unique_count": 0,
                    "nan_count": 100,
                    "categories": [
                      {
                        "name": "Missing",
                        "count": 100
                      }
                    ]
                  }
                },
                {
                  "name": "new_tests_smoothed_per_thousand",
                  "dtype": "object",
                  "stats": {
                    "unique_count": 0,
                    "nan_count": 100,
                    "categories": [
                      {
                        "name": "Missing",
                        "count": 100
                      }
                    ]
                  }
                },
                {
                  "name": "positive_rate",
                  "dtype": "object",
                  "stats": {
                    "unique_count": 0,
                    "nan_count": 100,
                    "categories": [
                      {
                        "name": "Missing",
                        "count": 100
                      }
                    ]
                  }
                },
                {
                  "name": "tests_per_case",
                  "dtype": "object",
                  "stats": {
                    "unique_count": 0,
                    "nan_count": 100,
                    "categories": [
                      {
                        "name": "Missing",
                        "count": 100
                      }
                    ]
                  }
                },
                {
                  "name": "tests_units",
                  "dtype": "object",
                  "stats": {
                    "unique_count": 0,
                    "nan_count": 100,
                    "categories": [
                      {
                        "name": "Missing",
                        "count": 100
                      }
                    ]
                  }
                },
                {
                  "name": "total_vaccinations",
                  "dtype": "object",
                  "stats": {
                    "unique_count": 0,
                    "nan_count": 100,
                    "categories": [
                      {
                        "name": "Missing",
                        "count": 100
                      }
                    ]
                  }
                },
                {
                  "name": "people_vaccinated",
                  "dtype": "object",
                  "stats": {
                    "unique_count": 0,
                    "nan_count": 100,
                    "categories": [
                      {
                        "name": "Missing",
                        "count": 100
                      }
                    ]
                  }
                },
                {
                  "name": "people_fully_vaccinated",
                  "dtype": "object",
                  "stats": {
                    "unique_count": 0,
                    "nan_count": 100,
                    "categories": [
                      {
                        "name": "Missing",
                        "count": 100
                      }
                    ]
                  }
                },
                {
                  "name": "total_boosters",
                  "dtype": "object",
                  "stats": {
                    "unique_count": 0,
                    "nan_count": 100,
                    "categories": [
                      {
                        "name": "Missing",
                        "count": 100
                      }
                    ]
                  }
                },
                {
                  "name": "new_vaccinations",
                  "dtype": "object",
                  "stats": {
                    "unique_count": 0,
                    "nan_count": 100,
                    "categories": [
                      {
                        "name": "Missing",
                        "count": 100
                      }
                    ]
                  }
                },
                {
                  "name": "new_vaccinations_smoothed",
                  "dtype": "object",
                  "stats": {
                    "unique_count": 0,
                    "nan_count": 100,
                    "categories": [
                      {
                        "name": "Missing",
                        "count": 100
                      }
                    ]
                  }
                },
                {
                  "name": "total_vaccinations_per_hundred",
                  "dtype": "object",
                  "stats": {
                    "unique_count": 0,
                    "nan_count": 100,
                    "categories": [
                      {
                        "name": "Missing",
                        "count": 100
                      }
                    ]
                  }
                },
                {
                  "name": "people_vaccinated_per_hundred",
                  "dtype": "object",
                  "stats": {
                    "unique_count": 0,
                    "nan_count": 100,
                    "categories": [
                      {
                        "name": "Missing",
                        "count": 100
                      }
                    ]
                  }
                },
                {
                  "name": "people_fully_vaccinated_per_hundred",
                  "dtype": "object",
                  "stats": {
                    "unique_count": 0,
                    "nan_count": 100,
                    "categories": [
                      {
                        "name": "Missing",
                        "count": 100
                      }
                    ]
                  }
                },
                {
                  "name": "total_boosters_per_hundred",
                  "dtype": "object",
                  "stats": {
                    "unique_count": 0,
                    "nan_count": 100,
                    "categories": [
                      {
                        "name": "Missing",
                        "count": 100
                      }
                    ]
                  }
                },
                {
                  "name": "new_vaccinations_smoothed_per_million",
                  "dtype": "object",
                  "stats": {
                    "unique_count": 0,
                    "nan_count": 100,
                    "categories": [
                      {
                        "name": "Missing",
                        "count": 100
                      }
                    ]
                  }
                },
                {
                  "name": "new_people_vaccinated_smoothed",
                  "dtype": "object",
                  "stats": {
                    "unique_count": 0,
                    "nan_count": 100,
                    "categories": [
                      {
                        "name": "Missing",
                        "count": 100
                      }
                    ]
                  }
                },
                {
                  "name": "new_people_vaccinated_smoothed_per_hundred",
                  "dtype": "object",
                  "stats": {
                    "unique_count": 0,
                    "nan_count": 100,
                    "categories": [
                      {
                        "name": "Missing",
                        "count": 100
                      }
                    ]
                  }
                },
                {
                  "name": "stringency_index",
                  "dtype": "object",
                  "stats": {
                    "unique_count": 0,
                    "nan_count": 100,
                    "categories": [
                      {
                        "name": "Missing",
                        "count": 100
                      }
                    ]
                  }
                },
                {
                  "name": "population_density",
                  "dtype": "object",
                  "stats": {
                    "unique_count": 0,
                    "nan_count": 100,
                    "categories": [
                      {
                        "name": "Missing",
                        "count": 100
                      }
                    ]
                  }
                },
                {
                  "name": "median_age",
                  "dtype": "object",
                  "stats": {
                    "unique_count": 0,
                    "nan_count": 100,
                    "categories": [
                      {
                        "name": "Missing",
                        "count": 100
                      }
                    ]
                  }
                },
                {
                  "name": "aged_65_older",
                  "dtype": "object",
                  "stats": {
                    "unique_count": 0,
                    "nan_count": 100,
                    "categories": [
                      {
                        "name": "Missing",
                        "count": 100
                      }
                    ]
                  }
                },
                {
                  "name": "aged_70_older",
                  "dtype": "object",
                  "stats": {
                    "unique_count": 0,
                    "nan_count": 100,
                    "categories": [
                      {
                        "name": "Missing",
                        "count": 100
                      }
                    ]
                  }
                },
                {
                  "name": "gdp_per_capita",
                  "dtype": "object",
                  "stats": {
                    "unique_count": 0,
                    "nan_count": 100,
                    "categories": [
                      {
                        "name": "Missing",
                        "count": 100
                      }
                    ]
                  }
                },
                {
                  "name": "extreme_poverty",
                  "dtype": "object",
                  "stats": {
                    "unique_count": 0,
                    "nan_count": 100,
                    "categories": [
                      {
                        "name": "Missing",
                        "count": 100
                      }
                    ]
                  }
                },
                {
                  "name": "cardiovasc_death_rate",
                  "dtype": "object",
                  "stats": {
                    "unique_count": 0,
                    "nan_count": 100,
                    "categories": [
                      {
                        "name": "Missing",
                        "count": 100
                      }
                    ]
                  }
                },
                {
                  "name": "diabetes_prevalence",
                  "dtype": "object",
                  "stats": {
                    "unique_count": 0,
                    "nan_count": 100,
                    "categories": [
                      {
                        "name": "Missing",
                        "count": 100
                      }
                    ]
                  }
                },
                {
                  "name": "female_smokers",
                  "dtype": "object",
                  "stats": {
                    "unique_count": 0,
                    "nan_count": 100,
                    "categories": [
                      {
                        "name": "Missing",
                        "count": 100
                      }
                    ]
                  }
                },
                {
                  "name": "male_smokers",
                  "dtype": "object",
                  "stats": {
                    "unique_count": 0,
                    "nan_count": 100,
                    "categories": [
                      {
                        "name": "Missing",
                        "count": 100
                      }
                    ]
                  }
                },
                {
                  "name": "handwashing_facilities",
                  "dtype": "object",
                  "stats": {
                    "unique_count": 0,
                    "nan_count": 100,
                    "categories": [
                      {
                        "name": "Missing",
                        "count": 100
                      }
                    ]
                  }
                },
                {
                  "name": "hospital_beds_per_thousand",
                  "dtype": "object",
                  "stats": {
                    "unique_count": 0,
                    "nan_count": 100,
                    "categories": [
                      {
                        "name": "Missing",
                        "count": 100
                      }
                    ]
                  }
                },
                {
                  "name": "life_expectancy",
                  "dtype": "object",
                  "stats": {
                    "unique_count": 0,
                    "nan_count": 100,
                    "categories": [
                      {
                        "name": "Missing",
                        "count": 100
                      }
                    ]
                  }
                },
                {
                  "name": "human_development_index",
                  "dtype": "object",
                  "stats": {
                    "unique_count": 0,
                    "nan_count": 100,
                    "categories": [
                      {
                        "name": "Missing",
                        "count": 100
                      }
                    ]
                  }
                },
                {
                  "name": "population",
                  "dtype": "float64",
                  "stats": {
                    "unique_count": 1,
                    "nan_count": 0,
                    "min": "1426736614.0",
                    "max": "1426736614.0",
                    "histogram": [
                      {
                        "bin_start": 1426736613.5,
                        "bin_end": 1426736613.6,
                        "count": 0
                      },
                      {
                        "bin_start": 1426736613.6,
                        "bin_end": 1426736613.7,
                        "count": 0
                      },
                      {
                        "bin_start": 1426736613.7,
                        "bin_end": 1426736613.8,
                        "count": 0
                      },
                      {
                        "bin_start": 1426736613.8,
                        "bin_end": 1426736613.9,
                        "count": 0
                      },
                      {
                        "bin_start": 1426736613.9,
                        "bin_end": 1426736614,
                        "count": 0
                      },
                      {
                        "bin_start": 1426736614,
                        "bin_end": 1426736614.1,
                        "count": 100
                      },
                      {
                        "bin_start": 1426736614.1,
                        "bin_end": 1426736614.2,
                        "count": 0
                      },
                      {
                        "bin_start": 1426736614.2,
                        "bin_end": 1426736614.3,
                        "count": 0
                      },
                      {
                        "bin_start": 1426736614.3,
                        "bin_end": 1426736614.4,
                        "count": 0
                      },
                      {
                        "bin_start": 1426736614.4,
                        "bin_end": 1426736614.5,
                        "count": 0
                      }
                    ]
                  }
                },
                {
                  "name": "excess_mortality_cumulative_absolute",
                  "dtype": "object",
                  "stats": {
                    "unique_count": 0,
                    "nan_count": 100,
                    "categories": [
                      {
                        "name": "Missing",
                        "count": 100
                      }
                    ]
                  }
                },
                {
                  "name": "excess_mortality_cumulative",
                  "dtype": "object",
                  "stats": {
                    "unique_count": 0,
                    "nan_count": 100,
                    "categories": [
                      {
                        "name": "Missing",
                        "count": 100
                      }
                    ]
                  }
                },
                {
                  "name": "excess_mortality",
                  "dtype": "object",
                  "stats": {
                    "unique_count": 0,
                    "nan_count": 100,
                    "categories": [
                      {
                        "name": "Missing",
                        "count": 100
                      }
                    ]
                  }
                },
                {
                  "name": "excess_mortality_cumulative_per_million",
                  "dtype": "object",
                  "stats": {
                    "unique_count": 0,
                    "nan_count": 100,
                    "categories": [
                      {
                        "name": "Missing",
                        "count": 100
                      }
                    ]
                  }
                },
                {
                  "name": "_deepnote_index_column",
                  "dtype": "int64"
                }
              ],
              "rows": [
                {
                  "iso_code": "OWID_AFR",
                  "continent": "None",
                  "location": "Africa",
                  "date": "2020-01-03",
                  "total_cases": "nan",
                  "new_cases": 0,
                  "new_cases_smoothed": "nan",
                  "total_deaths": "nan",
                  "new_deaths": 0,
                  "new_deaths_smoothed": "nan",
                  "total_cases_per_million": "nan",
                  "new_cases_per_million": 0,
                  "new_cases_smoothed_per_million": "nan",
                  "total_deaths_per_million": "nan",
                  "new_deaths_per_million": 0,
                  "new_deaths_smoothed_per_million": "nan",
                  "reproduction_rate": "None",
                  "icu_patients": "None",
                  "icu_patients_per_million": "None",
                  "hosp_patients": "None",
                  "hosp_patients_per_million": "None",
                  "weekly_icu_admissions": "None",
                  "weekly_icu_admissions_per_million": "None",
                  "weekly_hosp_admissions": "None",
                  "weekly_hosp_admissions_per_million": "None",
                  "total_tests": "None",
                  "new_tests": "None",
                  "total_tests_per_thousand": "None",
                  "new_tests_per_thousand": "None",
                  "new_tests_smoothed": "None",
                  "new_tests_smoothed_per_thousand": "None",
                  "positive_rate": "None",
                  "tests_per_case": "None",
                  "tests_units": "None",
                  "total_vaccinations": "None",
                  "people_vaccinated": "None",
                  "people_fully_vaccinated": "None",
                  "total_boosters": "None",
                  "new_vaccinations": "None",
                  "new_vaccinations_smoothed": "None",
                  "total_vaccinations_per_hundred": "None",
                  "people_vaccinated_per_hundred": "None",
                  "people_fully_vaccinated_per_hundred": "None",
                  "total_boosters_per_hundred": "None",
                  "new_vaccinations_smoothed_per_million": "None",
                  "new_people_vaccinated_smoothed": "None",
                  "new_people_vaccinated_smoothed_per_hundred": "None",
                  "stringency_index": "None",
                  "population_density": "None",
                  "median_age": "None",
                  "aged_65_older": "None",
                  "aged_70_older": "None",
                  "gdp_per_capita": "None",
                  "extreme_poverty": "None",
                  "cardiovasc_death_rate": "None",
                  "diabetes_prevalence": "None",
                  "female_smokers": "None",
                  "male_smokers": "None",
                  "handwashing_facilities": "None",
                  "hospital_beds_per_thousand": "None",
                  "life_expectancy": "None",
                  "human_development_index": "None",
                  "population": 1426736614,
                  "excess_mortality_cumulative_absolute": "None",
                  "excess_mortality_cumulative": "None",
                  "excess_mortality": "None",
                  "excess_mortality_cumulative_per_million": "None",
                  "_deepnote_index_column": 0
                },
                {
                  "iso_code": "OWID_AFR",
                  "continent": "None",
                  "location": "Africa",
                  "date": "2020-01-04",
                  "total_cases": "nan",
                  "new_cases": 0,
                  "new_cases_smoothed": "nan",
                  "total_deaths": "nan",
                  "new_deaths": 0,
                  "new_deaths_smoothed": "nan",
                  "total_cases_per_million": "nan",
                  "new_cases_per_million": 0,
                  "new_cases_smoothed_per_million": "nan",
                  "total_deaths_per_million": "nan",
                  "new_deaths_per_million": 0,
                  "new_deaths_smoothed_per_million": "nan",
                  "reproduction_rate": "None",
                  "icu_patients": "None",
                  "icu_patients_per_million": "None",
                  "hosp_patients": "None",
                  "hosp_patients_per_million": "None",
                  "weekly_icu_admissions": "None",
                  "weekly_icu_admissions_per_million": "None",
                  "weekly_hosp_admissions": "None",
                  "weekly_hosp_admissions_per_million": "None",
                  "total_tests": "None",
                  "new_tests": "None",
                  "total_tests_per_thousand": "None",
                  "new_tests_per_thousand": "None",
                  "new_tests_smoothed": "None",
                  "new_tests_smoothed_per_thousand": "None",
                  "positive_rate": "None",
                  "tests_per_case": "None",
                  "tests_units": "None",
                  "total_vaccinations": "None",
                  "people_vaccinated": "None",
                  "people_fully_vaccinated": "None",
                  "total_boosters": "None",
                  "new_vaccinations": "None",
                  "new_vaccinations_smoothed": "None",
                  "total_vaccinations_per_hundred": "None",
                  "people_vaccinated_per_hundred": "None",
                  "people_fully_vaccinated_per_hundred": "None",
                  "total_boosters_per_hundred": "None",
                  "new_vaccinations_smoothed_per_million": "None",
                  "new_people_vaccinated_smoothed": "None",
                  "new_people_vaccinated_smoothed_per_hundred": "None",
                  "stringency_index": "None",
                  "population_density": "None",
                  "median_age": "None",
                  "aged_65_older": "None",
                  "aged_70_older": "None",
                  "gdp_per_capita": "None",
                  "extreme_poverty": "None",
                  "cardiovasc_death_rate": "None",
                  "diabetes_prevalence": "None",
                  "female_smokers": "None",
                  "male_smokers": "None",
                  "handwashing_facilities": "None",
                  "hospital_beds_per_thousand": "None",
                  "life_expectancy": "None",
                  "human_development_index": "None",
                  "population": 1426736614,
                  "excess_mortality_cumulative_absolute": "None",
                  "excess_mortality_cumulative": "None",
                  "excess_mortality": "None",
                  "excess_mortality_cumulative_per_million": "None",
                  "_deepnote_index_column": 1
                },
                {
                  "iso_code": "OWID_AFR",
                  "continent": "None",
                  "location": "Africa",
                  "date": "2020-01-05",
                  "total_cases": "nan",
                  "new_cases": 0,
                  "new_cases_smoothed": "nan",
                  "total_deaths": "nan",
                  "new_deaths": 0,
                  "new_deaths_smoothed": "nan",
                  "total_cases_per_million": "nan",
                  "new_cases_per_million": 0,
                  "new_cases_smoothed_per_million": "nan",
                  "total_deaths_per_million": "nan",
                  "new_deaths_per_million": 0,
                  "new_deaths_smoothed_per_million": "nan",
                  "reproduction_rate": "None",
                  "icu_patients": "None",
                  "icu_patients_per_million": "None",
                  "hosp_patients": "None",
                  "hosp_patients_per_million": "None",
                  "weekly_icu_admissions": "None",
                  "weekly_icu_admissions_per_million": "None",
                  "weekly_hosp_admissions": "None",
                  "weekly_hosp_admissions_per_million": "None",
                  "total_tests": "None",
                  "new_tests": "None",
                  "total_tests_per_thousand": "None",
                  "new_tests_per_thousand": "None",
                  "new_tests_smoothed": "None",
                  "new_tests_smoothed_per_thousand": "None",
                  "positive_rate": "None",
                  "tests_per_case": "None",
                  "tests_units": "None",
                  "total_vaccinations": "None",
                  "people_vaccinated": "None",
                  "people_fully_vaccinated": "None",
                  "total_boosters": "None",
                  "new_vaccinations": "None",
                  "new_vaccinations_smoothed": "None",
                  "total_vaccinations_per_hundred": "None",
                  "people_vaccinated_per_hundred": "None",
                  "people_fully_vaccinated_per_hundred": "None",
                  "total_boosters_per_hundred": "None",
                  "new_vaccinations_smoothed_per_million": "None",
                  "new_people_vaccinated_smoothed": "None",
                  "new_people_vaccinated_smoothed_per_hundred": "None",
                  "stringency_index": "None",
                  "population_density": "None",
                  "median_age": "None",
                  "aged_65_older": "None",
                  "aged_70_older": "None",
                  "gdp_per_capita": "None",
                  "extreme_poverty": "None",
                  "cardiovasc_death_rate": "None",
                  "diabetes_prevalence": "None",
                  "female_smokers": "None",
                  "male_smokers": "None",
                  "handwashing_facilities": "None",
                  "hospital_beds_per_thousand": "None",
                  "life_expectancy": "None",
                  "human_development_index": "None",
                  "population": 1426736614,
                  "excess_mortality_cumulative_absolute": "None",
                  "excess_mortality_cumulative": "None",
                  "excess_mortality": "None",
                  "excess_mortality_cumulative_per_million": "None",
                  "_deepnote_index_column": 2
                },
                {
                  "iso_code": "OWID_AFR",
                  "continent": "None",
                  "location": "Africa",
                  "date": "2020-01-06",
                  "total_cases": "nan",
                  "new_cases": 0,
                  "new_cases_smoothed": "nan",
                  "total_deaths": "nan",
                  "new_deaths": 0,
                  "new_deaths_smoothed": "nan",
                  "total_cases_per_million": "nan",
                  "new_cases_per_million": 0,
                  "new_cases_smoothed_per_million": "nan",
                  "total_deaths_per_million": "nan",
                  "new_deaths_per_million": 0,
                  "new_deaths_smoothed_per_million": "nan",
                  "reproduction_rate": "None",
                  "icu_patients": "None",
                  "icu_patients_per_million": "None",
                  "hosp_patients": "None",
                  "hosp_patients_per_million": "None",
                  "weekly_icu_admissions": "None",
                  "weekly_icu_admissions_per_million": "None",
                  "weekly_hosp_admissions": "None",
                  "weekly_hosp_admissions_per_million": "None",
                  "total_tests": "None",
                  "new_tests": "None",
                  "total_tests_per_thousand": "None",
                  "new_tests_per_thousand": "None",
                  "new_tests_smoothed": "None",
                  "new_tests_smoothed_per_thousand": "None",
                  "positive_rate": "None",
                  "tests_per_case": "None",
                  "tests_units": "None",
                  "total_vaccinations": "None",
                  "people_vaccinated": "None",
                  "people_fully_vaccinated": "None",
                  "total_boosters": "None",
                  "new_vaccinations": "None",
                  "new_vaccinations_smoothed": "None",
                  "total_vaccinations_per_hundred": "None",
                  "people_vaccinated_per_hundred": "None",
                  "people_fully_vaccinated_per_hundred": "None",
                  "total_boosters_per_hundred": "None",
                  "new_vaccinations_smoothed_per_million": "None",
                  "new_people_vaccinated_smoothed": "None",
                  "new_people_vaccinated_smoothed_per_hundred": "None",
                  "stringency_index": "None",
                  "population_density": "None",
                  "median_age": "None",
                  "aged_65_older": "None",
                  "aged_70_older": "None",
                  "gdp_per_capita": "None",
                  "extreme_poverty": "None",
                  "cardiovasc_death_rate": "None",
                  "diabetes_prevalence": "None",
                  "female_smokers": "None",
                  "male_smokers": "None",
                  "handwashing_facilities": "None",
                  "hospital_beds_per_thousand": "None",
                  "life_expectancy": "None",
                  "human_development_index": "None",
                  "population": 1426736614,
                  "excess_mortality_cumulative_absolute": "None",
                  "excess_mortality_cumulative": "None",
                  "excess_mortality": "None",
                  "excess_mortality_cumulative_per_million": "None",
                  "_deepnote_index_column": 3
                },
                {
                  "iso_code": "OWID_AFR",
                  "continent": "None",
                  "location": "Africa",
                  "date": "2020-01-07",
                  "total_cases": "nan",
                  "new_cases": 0,
                  "new_cases_smoothed": "nan",
                  "total_deaths": "nan",
                  "new_deaths": 0,
                  "new_deaths_smoothed": "nan",
                  "total_cases_per_million": "nan",
                  "new_cases_per_million": 0,
                  "new_cases_smoothed_per_million": "nan",
                  "total_deaths_per_million": "nan",
                  "new_deaths_per_million": 0,
                  "new_deaths_smoothed_per_million": "nan",
                  "reproduction_rate": "None",
                  "icu_patients": "None",
                  "icu_patients_per_million": "None",
                  "hosp_patients": "None",
                  "hosp_patients_per_million": "None",
                  "weekly_icu_admissions": "None",
                  "weekly_icu_admissions_per_million": "None",
                  "weekly_hosp_admissions": "None",
                  "weekly_hosp_admissions_per_million": "None",
                  "total_tests": "None",
                  "new_tests": "None",
                  "total_tests_per_thousand": "None",
                  "new_tests_per_thousand": "None",
                  "new_tests_smoothed": "None",
                  "new_tests_smoothed_per_thousand": "None",
                  "positive_rate": "None",
                  "tests_per_case": "None",
                  "tests_units": "None",
                  "total_vaccinations": "None",
                  "people_vaccinated": "None",
                  "people_fully_vaccinated": "None",
                  "total_boosters": "None",
                  "new_vaccinations": "None",
                  "new_vaccinations_smoothed": "None",
                  "total_vaccinations_per_hundred": "None",
                  "people_vaccinated_per_hundred": "None",
                  "people_fully_vaccinated_per_hundred": "None",
                  "total_boosters_per_hundred": "None",
                  "new_vaccinations_smoothed_per_million": "None",
                  "new_people_vaccinated_smoothed": "None",
                  "new_people_vaccinated_smoothed_per_hundred": "None",
                  "stringency_index": "None",
                  "population_density": "None",
                  "median_age": "None",
                  "aged_65_older": "None",
                  "aged_70_older": "None",
                  "gdp_per_capita": "None",
                  "extreme_poverty": "None",
                  "cardiovasc_death_rate": "None",
                  "diabetes_prevalence": "None",
                  "female_smokers": "None",
                  "male_smokers": "None",
                  "handwashing_facilities": "None",
                  "hospital_beds_per_thousand": "None",
                  "life_expectancy": "None",
                  "human_development_index": "None",
                  "population": 1426736614,
                  "excess_mortality_cumulative_absolute": "None",
                  "excess_mortality_cumulative": "None",
                  "excess_mortality": "None",
                  "excess_mortality_cumulative_per_million": "None",
                  "_deepnote_index_column": 4
                },
                {
                  "iso_code": "OWID_AFR",
                  "continent": "None",
                  "location": "Africa",
                  "date": "2020-01-08",
                  "total_cases": "nan",
                  "new_cases": 0,
                  "new_cases_smoothed": 0,
                  "total_deaths": "nan",
                  "new_deaths": 0,
                  "new_deaths_smoothed": 0,
                  "total_cases_per_million": "nan",
                  "new_cases_per_million": 0,
                  "new_cases_smoothed_per_million": 0,
                  "total_deaths_per_million": "nan",
                  "new_deaths_per_million": 0,
                  "new_deaths_smoothed_per_million": 0,
                  "reproduction_rate": "None",
                  "icu_patients": "None",
                  "icu_patients_per_million": "None",
                  "hosp_patients": "None",
                  "hosp_patients_per_million": "None",
                  "weekly_icu_admissions": "None",
                  "weekly_icu_admissions_per_million": "None",
                  "weekly_hosp_admissions": "None",
                  "weekly_hosp_admissions_per_million": "None",
                  "total_tests": "None",
                  "new_tests": "None",
                  "total_tests_per_thousand": "None",
                  "new_tests_per_thousand": "None",
                  "new_tests_smoothed": "None",
                  "new_tests_smoothed_per_thousand": "None",
                  "positive_rate": "None",
                  "tests_per_case": "None",
                  "tests_units": "None",
                  "total_vaccinations": "None",
                  "people_vaccinated": "None",
                  "people_fully_vaccinated": "None",
                  "total_boosters": "None",
                  "new_vaccinations": "None",
                  "new_vaccinations_smoothed": "None",
                  "total_vaccinations_per_hundred": "None",
                  "people_vaccinated_per_hundred": "None",
                  "people_fully_vaccinated_per_hundred": "None",
                  "total_boosters_per_hundred": "None",
                  "new_vaccinations_smoothed_per_million": "None",
                  "new_people_vaccinated_smoothed": "None",
                  "new_people_vaccinated_smoothed_per_hundred": "None",
                  "stringency_index": "None",
                  "population_density": "None",
                  "median_age": "None",
                  "aged_65_older": "None",
                  "aged_70_older": "None",
                  "gdp_per_capita": "None",
                  "extreme_poverty": "None",
                  "cardiovasc_death_rate": "None",
                  "diabetes_prevalence": "None",
                  "female_smokers": "None",
                  "male_smokers": "None",
                  "handwashing_facilities": "None",
                  "hospital_beds_per_thousand": "None",
                  "life_expectancy": "None",
                  "human_development_index": "None",
                  "population": 1426736614,
                  "excess_mortality_cumulative_absolute": "None",
                  "excess_mortality_cumulative": "None",
                  "excess_mortality": "None",
                  "excess_mortality_cumulative_per_million": "None",
                  "_deepnote_index_column": 5
                },
                {
                  "iso_code": "OWID_AFR",
                  "continent": "None",
                  "location": "Africa",
                  "date": "2020-01-09",
                  "total_cases": "nan",
                  "new_cases": 0,
                  "new_cases_smoothed": 0,
                  "total_deaths": "nan",
                  "new_deaths": 0,
                  "new_deaths_smoothed": 0,
                  "total_cases_per_million": "nan",
                  "new_cases_per_million": 0,
                  "new_cases_smoothed_per_million": 0,
                  "total_deaths_per_million": "nan",
                  "new_deaths_per_million": 0,
                  "new_deaths_smoothed_per_million": 0,
                  "reproduction_rate": "None",
                  "icu_patients": "None",
                  "icu_patients_per_million": "None",
                  "hosp_patients": "None",
                  "hosp_patients_per_million": "None",
                  "weekly_icu_admissions": "None",
                  "weekly_icu_admissions_per_million": "None",
                  "weekly_hosp_admissions": "None",
                  "weekly_hosp_admissions_per_million": "None",
                  "total_tests": "None",
                  "new_tests": "None",
                  "total_tests_per_thousand": "None",
                  "new_tests_per_thousand": "None",
                  "new_tests_smoothed": "None",
                  "new_tests_smoothed_per_thousand": "None",
                  "positive_rate": "None",
                  "tests_per_case": "None",
                  "tests_units": "None",
                  "total_vaccinations": "None",
                  "people_vaccinated": "None",
                  "people_fully_vaccinated": "None",
                  "total_boosters": "None",
                  "new_vaccinations": "None",
                  "new_vaccinations_smoothed": "None",
                  "total_vaccinations_per_hundred": "None",
                  "people_vaccinated_per_hundred": "None",
                  "people_fully_vaccinated_per_hundred": "None",
                  "total_boosters_per_hundred": "None",
                  "new_vaccinations_smoothed_per_million": "None",
                  "new_people_vaccinated_smoothed": "None",
                  "new_people_vaccinated_smoothed_per_hundred": "None",
                  "stringency_index": "None",
                  "population_density": "None",
                  "median_age": "None",
                  "aged_65_older": "None",
                  "aged_70_older": "None",
                  "gdp_per_capita": "None",
                  "extreme_poverty": "None",
                  "cardiovasc_death_rate": "None",
                  "diabetes_prevalence": "None",
                  "female_smokers": "None",
                  "male_smokers": "None",
                  "handwashing_facilities": "None",
                  "hospital_beds_per_thousand": "None",
                  "life_expectancy": "None",
                  "human_development_index": "None",
                  "population": 1426736614,
                  "excess_mortality_cumulative_absolute": "None",
                  "excess_mortality_cumulative": "None",
                  "excess_mortality": "None",
                  "excess_mortality_cumulative_per_million": "None",
                  "_deepnote_index_column": 6
                },
                {
                  "iso_code": "OWID_AFR",
                  "continent": "None",
                  "location": "Africa",
                  "date": "2020-01-10",
                  "total_cases": "nan",
                  "new_cases": 0,
                  "new_cases_smoothed": 0,
                  "total_deaths": "nan",
                  "new_deaths": 0,
                  "new_deaths_smoothed": 0,
                  "total_cases_per_million": "nan",
                  "new_cases_per_million": 0,
                  "new_cases_smoothed_per_million": 0,
                  "total_deaths_per_million": "nan",
                  "new_deaths_per_million": 0,
                  "new_deaths_smoothed_per_million": 0,
                  "reproduction_rate": "None",
                  "icu_patients": "None",
                  "icu_patients_per_million": "None",
                  "hosp_patients": "None",
                  "hosp_patients_per_million": "None",
                  "weekly_icu_admissions": "None",
                  "weekly_icu_admissions_per_million": "None",
                  "weekly_hosp_admissions": "None",
                  "weekly_hosp_admissions_per_million": "None",
                  "total_tests": "None",
                  "new_tests": "None",
                  "total_tests_per_thousand": "None",
                  "new_tests_per_thousand": "None",
                  "new_tests_smoothed": "None",
                  "new_tests_smoothed_per_thousand": "None",
                  "positive_rate": "None",
                  "tests_per_case": "None",
                  "tests_units": "None",
                  "total_vaccinations": "None",
                  "people_vaccinated": "None",
                  "people_fully_vaccinated": "None",
                  "total_boosters": "None",
                  "new_vaccinations": "None",
                  "new_vaccinations_smoothed": "None",
                  "total_vaccinations_per_hundred": "None",
                  "people_vaccinated_per_hundred": "None",
                  "people_fully_vaccinated_per_hundred": "None",
                  "total_boosters_per_hundred": "None",
                  "new_vaccinations_smoothed_per_million": "None",
                  "new_people_vaccinated_smoothed": "None",
                  "new_people_vaccinated_smoothed_per_hundred": "None",
                  "stringency_index": "None",
                  "population_density": "None",
                  "median_age": "None",
                  "aged_65_older": "None",
                  "aged_70_older": "None",
                  "gdp_per_capita": "None",
                  "extreme_poverty": "None",
                  "cardiovasc_death_rate": "None",
                  "diabetes_prevalence": "None",
                  "female_smokers": "None",
                  "male_smokers": "None",
                  "handwashing_facilities": "None",
                  "hospital_beds_per_thousand": "None",
                  "life_expectancy": "None",
                  "human_development_index": "None",
                  "population": 1426736614,
                  "excess_mortality_cumulative_absolute": "None",
                  "excess_mortality_cumulative": "None",
                  "excess_mortality": "None",
                  "excess_mortality_cumulative_per_million": "None",
                  "_deepnote_index_column": 7
                },
                {
                  "iso_code": "OWID_AFR",
                  "continent": "None",
                  "location": "Africa",
                  "date": "2020-01-11",
                  "total_cases": "nan",
                  "new_cases": 0,
                  "new_cases_smoothed": 0,
                  "total_deaths": "nan",
                  "new_deaths": 0,
                  "new_deaths_smoothed": 0,
                  "total_cases_per_million": "nan",
                  "new_cases_per_million": 0,
                  "new_cases_smoothed_per_million": 0,
                  "total_deaths_per_million": "nan",
                  "new_deaths_per_million": 0,
                  "new_deaths_smoothed_per_million": 0,
                  "reproduction_rate": "None",
                  "icu_patients": "None",
                  "icu_patients_per_million": "None",
                  "hosp_patients": "None",
                  "hosp_patients_per_million": "None",
                  "weekly_icu_admissions": "None",
                  "weekly_icu_admissions_per_million": "None",
                  "weekly_hosp_admissions": "None",
                  "weekly_hosp_admissions_per_million": "None",
                  "total_tests": "None",
                  "new_tests": "None",
                  "total_tests_per_thousand": "None",
                  "new_tests_per_thousand": "None",
                  "new_tests_smoothed": "None",
                  "new_tests_smoothed_per_thousand": "None",
                  "positive_rate": "None",
                  "tests_per_case": "None",
                  "tests_units": "None",
                  "total_vaccinations": "None",
                  "people_vaccinated": "None",
                  "people_fully_vaccinated": "None",
                  "total_boosters": "None",
                  "new_vaccinations": "None",
                  "new_vaccinations_smoothed": "None",
                  "total_vaccinations_per_hundred": "None",
                  "people_vaccinated_per_hundred": "None",
                  "people_fully_vaccinated_per_hundred": "None",
                  "total_boosters_per_hundred": "None",
                  "new_vaccinations_smoothed_per_million": "None",
                  "new_people_vaccinated_smoothed": "None",
                  "new_people_vaccinated_smoothed_per_hundred": "None",
                  "stringency_index": "None",
                  "population_density": "None",
                  "median_age": "None",
                  "aged_65_older": "None",
                  "aged_70_older": "None",
                  "gdp_per_capita": "None",
                  "extreme_poverty": "None",
                  "cardiovasc_death_rate": "None",
                  "diabetes_prevalence": "None",
                  "female_smokers": "None",
                  "male_smokers": "None",
                  "handwashing_facilities": "None",
                  "hospital_beds_per_thousand": "None",
                  "life_expectancy": "None",
                  "human_development_index": "None",
                  "population": 1426736614,
                  "excess_mortality_cumulative_absolute": "None",
                  "excess_mortality_cumulative": "None",
                  "excess_mortality": "None",
                  "excess_mortality_cumulative_per_million": "None",
                  "_deepnote_index_column": 8
                },
                {
                  "iso_code": "OWID_AFR",
                  "continent": "None",
                  "location": "Africa",
                  "date": "2020-01-12",
                  "total_cases": "nan",
                  "new_cases": 0,
                  "new_cases_smoothed": 0,
                  "total_deaths": "nan",
                  "new_deaths": 0,
                  "new_deaths_smoothed": 0,
                  "total_cases_per_million": "nan",
                  "new_cases_per_million": 0,
                  "new_cases_smoothed_per_million": 0,
                  "total_deaths_per_million": "nan",
                  "new_deaths_per_million": 0,
                  "new_deaths_smoothed_per_million": 0,
                  "reproduction_rate": "None",
                  "icu_patients": "None",
                  "icu_patients_per_million": "None",
                  "hosp_patients": "None",
                  "hosp_patients_per_million": "None",
                  "weekly_icu_admissions": "None",
                  "weekly_icu_admissions_per_million": "None",
                  "weekly_hosp_admissions": "None",
                  "weekly_hosp_admissions_per_million": "None",
                  "total_tests": "None",
                  "new_tests": "None",
                  "total_tests_per_thousand": "None",
                  "new_tests_per_thousand": "None",
                  "new_tests_smoothed": "None",
                  "new_tests_smoothed_per_thousand": "None",
                  "positive_rate": "None",
                  "tests_per_case": "None",
                  "tests_units": "None",
                  "total_vaccinations": "None",
                  "people_vaccinated": "None",
                  "people_fully_vaccinated": "None",
                  "total_boosters": "None",
                  "new_vaccinations": "None",
                  "new_vaccinations_smoothed": "None",
                  "total_vaccinations_per_hundred": "None",
                  "people_vaccinated_per_hundred": "None",
                  "people_fully_vaccinated_per_hundred": "None",
                  "total_boosters_per_hundred": "None",
                  "new_vaccinations_smoothed_per_million": "None",
                  "new_people_vaccinated_smoothed": "None",
                  "new_people_vaccinated_smoothed_per_hundred": "None",
                  "stringency_index": "None",
                  "population_density": "None",
                  "median_age": "None",
                  "aged_65_older": "None",
                  "aged_70_older": "None",
                  "gdp_per_capita": "None",
                  "extreme_poverty": "None",
                  "cardiovasc_death_rate": "None",
                  "diabetes_prevalence": "None",
                  "female_smokers": "None",
                  "male_smokers": "None",
                  "handwashing_facilities": "None",
                  "hospital_beds_per_thousand": "None",
                  "life_expectancy": "None",
                  "human_development_index": "None",
                  "population": 1426736614,
                  "excess_mortality_cumulative_absolute": "None",
                  "excess_mortality_cumulative": "None",
                  "excess_mortality": "None",
                  "excess_mortality_cumulative_per_million": "None",
                  "_deepnote_index_column": 9
                },
                {
                  "iso_code": "OWID_AFR",
                  "continent": "None",
                  "location": "Africa",
                  "date": "2020-01-13",
                  "total_cases": "nan",
                  "new_cases": 0,
                  "new_cases_smoothed": 0,
                  "total_deaths": "nan",
                  "new_deaths": 0,
                  "new_deaths_smoothed": 0,
                  "total_cases_per_million": "nan",
                  "new_cases_per_million": 0,
                  "new_cases_smoothed_per_million": 0,
                  "total_deaths_per_million": "nan",
                  "new_deaths_per_million": 0,
                  "new_deaths_smoothed_per_million": 0,
                  "reproduction_rate": "None",
                  "icu_patients": "None",
                  "icu_patients_per_million": "None",
                  "hosp_patients": "None",
                  "hosp_patients_per_million": "None",
                  "weekly_icu_admissions": "None",
                  "weekly_icu_admissions_per_million": "None",
                  "weekly_hosp_admissions": "None",
                  "weekly_hosp_admissions_per_million": "None",
                  "total_tests": "None",
                  "new_tests": "None",
                  "total_tests_per_thousand": "None",
                  "new_tests_per_thousand": "None",
                  "new_tests_smoothed": "None",
                  "new_tests_smoothed_per_thousand": "None",
                  "positive_rate": "None",
                  "tests_per_case": "None",
                  "tests_units": "None",
                  "total_vaccinations": "None",
                  "people_vaccinated": "None",
                  "people_fully_vaccinated": "None",
                  "total_boosters": "None",
                  "new_vaccinations": "None",
                  "new_vaccinations_smoothed": "None",
                  "total_vaccinations_per_hundred": "None",
                  "people_vaccinated_per_hundred": "None",
                  "people_fully_vaccinated_per_hundred": "None",
                  "total_boosters_per_hundred": "None",
                  "new_vaccinations_smoothed_per_million": "None",
                  "new_people_vaccinated_smoothed": "None",
                  "new_people_vaccinated_smoothed_per_hundred": "None",
                  "stringency_index": "None",
                  "population_density": "None",
                  "median_age": "None",
                  "aged_65_older": "None",
                  "aged_70_older": "None",
                  "gdp_per_capita": "None",
                  "extreme_poverty": "None",
                  "cardiovasc_death_rate": "None",
                  "diabetes_prevalence": "None",
                  "female_smokers": "None",
                  "male_smokers": "None",
                  "handwashing_facilities": "None",
                  "hospital_beds_per_thousand": "None",
                  "life_expectancy": "None",
                  "human_development_index": "None",
                  "population": 1426736614,
                  "excess_mortality_cumulative_absolute": "None",
                  "excess_mortality_cumulative": "None",
                  "excess_mortality": "None",
                  "excess_mortality_cumulative_per_million": "None",
                  "_deepnote_index_column": 10
                },
                {
                  "iso_code": "OWID_AFR",
                  "continent": "None",
                  "location": "Africa",
                  "date": "2020-01-14",
                  "total_cases": "nan",
                  "new_cases": 0,
                  "new_cases_smoothed": 0,
                  "total_deaths": "nan",
                  "new_deaths": 0,
                  "new_deaths_smoothed": 0,
                  "total_cases_per_million": "nan",
                  "new_cases_per_million": 0,
                  "new_cases_smoothed_per_million": 0,
                  "total_deaths_per_million": "nan",
                  "new_deaths_per_million": 0,
                  "new_deaths_smoothed_per_million": 0,
                  "reproduction_rate": "None",
                  "icu_patients": "None",
                  "icu_patients_per_million": "None",
                  "hosp_patients": "None",
                  "hosp_patients_per_million": "None",
                  "weekly_icu_admissions": "None",
                  "weekly_icu_admissions_per_million": "None",
                  "weekly_hosp_admissions": "None",
                  "weekly_hosp_admissions_per_million": "None",
                  "total_tests": "None",
                  "new_tests": "None",
                  "total_tests_per_thousand": "None",
                  "new_tests_per_thousand": "None",
                  "new_tests_smoothed": "None",
                  "new_tests_smoothed_per_thousand": "None",
                  "positive_rate": "None",
                  "tests_per_case": "None",
                  "tests_units": "None",
                  "total_vaccinations": "None",
                  "people_vaccinated": "None",
                  "people_fully_vaccinated": "None",
                  "total_boosters": "None",
                  "new_vaccinations": "None",
                  "new_vaccinations_smoothed": "None",
                  "total_vaccinations_per_hundred": "None",
                  "people_vaccinated_per_hundred": "None",
                  "people_fully_vaccinated_per_hundred": "None",
                  "total_boosters_per_hundred": "None",
                  "new_vaccinations_smoothed_per_million": "None",
                  "new_people_vaccinated_smoothed": "None",
                  "new_people_vaccinated_smoothed_per_hundred": "None",
                  "stringency_index": "None",
                  "population_density": "None",
                  "median_age": "None",
                  "aged_65_older": "None",
                  "aged_70_older": "None",
                  "gdp_per_capita": "None",
                  "extreme_poverty": "None",
                  "cardiovasc_death_rate": "None",
                  "diabetes_prevalence": "None",
                  "female_smokers": "None",
                  "male_smokers": "None",
                  "handwashing_facilities": "None",
                  "hospital_beds_per_thousand": "None",
                  "life_expectancy": "None",
                  "human_development_index": "None",
                  "population": 1426736614,
                  "excess_mortality_cumulative_absolute": "None",
                  "excess_mortality_cumulative": "None",
                  "excess_mortality": "None",
                  "excess_mortality_cumulative_per_million": "None",
                  "_deepnote_index_column": 11
                },
                {
                  "iso_code": "OWID_AFR",
                  "continent": "None",
                  "location": "Africa",
                  "date": "2020-01-15",
                  "total_cases": "nan",
                  "new_cases": 0,
                  "new_cases_smoothed": 0,
                  "total_deaths": "nan",
                  "new_deaths": 0,
                  "new_deaths_smoothed": 0,
                  "total_cases_per_million": "nan",
                  "new_cases_per_million": 0,
                  "new_cases_smoothed_per_million": 0,
                  "total_deaths_per_million": "nan",
                  "new_deaths_per_million": 0,
                  "new_deaths_smoothed_per_million": 0,
                  "reproduction_rate": "None",
                  "icu_patients": "None",
                  "icu_patients_per_million": "None",
                  "hosp_patients": "None",
                  "hosp_patients_per_million": "None",
                  "weekly_icu_admissions": "None",
                  "weekly_icu_admissions_per_million": "None",
                  "weekly_hosp_admissions": "None",
                  "weekly_hosp_admissions_per_million": "None",
                  "total_tests": "None",
                  "new_tests": "None",
                  "total_tests_per_thousand": "None",
                  "new_tests_per_thousand": "None",
                  "new_tests_smoothed": "None",
                  "new_tests_smoothed_per_thousand": "None",
                  "positive_rate": "None",
                  "tests_per_case": "None",
                  "tests_units": "None",
                  "total_vaccinations": "None",
                  "people_vaccinated": "None",
                  "people_fully_vaccinated": "None",
                  "total_boosters": "None",
                  "new_vaccinations": "None",
                  "new_vaccinations_smoothed": "None",
                  "total_vaccinations_per_hundred": "None",
                  "people_vaccinated_per_hundred": "None",
                  "people_fully_vaccinated_per_hundred": "None",
                  "total_boosters_per_hundred": "None",
                  "new_vaccinations_smoothed_per_million": "None",
                  "new_people_vaccinated_smoothed": "None",
                  "new_people_vaccinated_smoothed_per_hundred": "None",
                  "stringency_index": "None",
                  "population_density": "None",
                  "median_age": "None",
                  "aged_65_older": "None",
                  "aged_70_older": "None",
                  "gdp_per_capita": "None",
                  "extreme_poverty": "None",
                  "cardiovasc_death_rate": "None",
                  "diabetes_prevalence": "None",
                  "female_smokers": "None",
                  "male_smokers": "None",
                  "handwashing_facilities": "None",
                  "hospital_beds_per_thousand": "None",
                  "life_expectancy": "None",
                  "human_development_index": "None",
                  "population": 1426736614,
                  "excess_mortality_cumulative_absolute": "None",
                  "excess_mortality_cumulative": "None",
                  "excess_mortality": "None",
                  "excess_mortality_cumulative_per_million": "None",
                  "_deepnote_index_column": 12
                },
                {
                  "iso_code": "OWID_AFR",
                  "continent": "None",
                  "location": "Africa",
                  "date": "2020-01-16",
                  "total_cases": "nan",
                  "new_cases": 0,
                  "new_cases_smoothed": 0,
                  "total_deaths": "nan",
                  "new_deaths": 0,
                  "new_deaths_smoothed": 0,
                  "total_cases_per_million": "nan",
                  "new_cases_per_million": 0,
                  "new_cases_smoothed_per_million": 0,
                  "total_deaths_per_million": "nan",
                  "new_deaths_per_million": 0,
                  "new_deaths_smoothed_per_million": 0,
                  "reproduction_rate": "None",
                  "icu_patients": "None",
                  "icu_patients_per_million": "None",
                  "hosp_patients": "None",
                  "hosp_patients_per_million": "None",
                  "weekly_icu_admissions": "None",
                  "weekly_icu_admissions_per_million": "None",
                  "weekly_hosp_admissions": "None",
                  "weekly_hosp_admissions_per_million": "None",
                  "total_tests": "None",
                  "new_tests": "None",
                  "total_tests_per_thousand": "None",
                  "new_tests_per_thousand": "None",
                  "new_tests_smoothed": "None",
                  "new_tests_smoothed_per_thousand": "None",
                  "positive_rate": "None",
                  "tests_per_case": "None",
                  "tests_units": "None",
                  "total_vaccinations": "None",
                  "people_vaccinated": "None",
                  "people_fully_vaccinated": "None",
                  "total_boosters": "None",
                  "new_vaccinations": "None",
                  "new_vaccinations_smoothed": "None",
                  "total_vaccinations_per_hundred": "None",
                  "people_vaccinated_per_hundred": "None",
                  "people_fully_vaccinated_per_hundred": "None",
                  "total_boosters_per_hundred": "None",
                  "new_vaccinations_smoothed_per_million": "None",
                  "new_people_vaccinated_smoothed": "None",
                  "new_people_vaccinated_smoothed_per_hundred": "None",
                  "stringency_index": "None",
                  "population_density": "None",
                  "median_age": "None",
                  "aged_65_older": "None",
                  "aged_70_older": "None",
                  "gdp_per_capita": "None",
                  "extreme_poverty": "None",
                  "cardiovasc_death_rate": "None",
                  "diabetes_prevalence": "None",
                  "female_smokers": "None",
                  "male_smokers": "None",
                  "handwashing_facilities": "None",
                  "hospital_beds_per_thousand": "None",
                  "life_expectancy": "None",
                  "human_development_index": "None",
                  "population": 1426736614,
                  "excess_mortality_cumulative_absolute": "None",
                  "excess_mortality_cumulative": "None",
                  "excess_mortality": "None",
                  "excess_mortality_cumulative_per_million": "None",
                  "_deepnote_index_column": 13
                },
                {
                  "iso_code": "OWID_AFR",
                  "continent": "None",
                  "location": "Africa",
                  "date": "2020-01-17",
                  "total_cases": "nan",
                  "new_cases": 0,
                  "new_cases_smoothed": 0,
                  "total_deaths": "nan",
                  "new_deaths": 0,
                  "new_deaths_smoothed": 0,
                  "total_cases_per_million": "nan",
                  "new_cases_per_million": 0,
                  "new_cases_smoothed_per_million": 0,
                  "total_deaths_per_million": "nan",
                  "new_deaths_per_million": 0,
                  "new_deaths_smoothed_per_million": 0,
                  "reproduction_rate": "None",
                  "icu_patients": "None",
                  "icu_patients_per_million": "None",
                  "hosp_patients": "None",
                  "hosp_patients_per_million": "None",
                  "weekly_icu_admissions": "None",
                  "weekly_icu_admissions_per_million": "None",
                  "weekly_hosp_admissions": "None",
                  "weekly_hosp_admissions_per_million": "None",
                  "total_tests": "None",
                  "new_tests": "None",
                  "total_tests_per_thousand": "None",
                  "new_tests_per_thousand": "None",
                  "new_tests_smoothed": "None",
                  "new_tests_smoothed_per_thousand": "None",
                  "positive_rate": "None",
                  "tests_per_case": "None",
                  "tests_units": "None",
                  "total_vaccinations": "None",
                  "people_vaccinated": "None",
                  "people_fully_vaccinated": "None",
                  "total_boosters": "None",
                  "new_vaccinations": "None",
                  "new_vaccinations_smoothed": "None",
                  "total_vaccinations_per_hundred": "None",
                  "people_vaccinated_per_hundred": "None",
                  "people_fully_vaccinated_per_hundred": "None",
                  "total_boosters_per_hundred": "None",
                  "new_vaccinations_smoothed_per_million": "None",
                  "new_people_vaccinated_smoothed": "None",
                  "new_people_vaccinated_smoothed_per_hundred": "None",
                  "stringency_index": "None",
                  "population_density": "None",
                  "median_age": "None",
                  "aged_65_older": "None",
                  "aged_70_older": "None",
                  "gdp_per_capita": "None",
                  "extreme_poverty": "None",
                  "cardiovasc_death_rate": "None",
                  "diabetes_prevalence": "None",
                  "female_smokers": "None",
                  "male_smokers": "None",
                  "handwashing_facilities": "None",
                  "hospital_beds_per_thousand": "None",
                  "life_expectancy": "None",
                  "human_development_index": "None",
                  "population": 1426736614,
                  "excess_mortality_cumulative_absolute": "None",
                  "excess_mortality_cumulative": "None",
                  "excess_mortality": "None",
                  "excess_mortality_cumulative_per_million": "None",
                  "_deepnote_index_column": 14
                },
                {
                  "iso_code": "OWID_AFR",
                  "continent": "None",
                  "location": "Africa",
                  "date": "2020-01-18",
                  "total_cases": "nan",
                  "new_cases": 0,
                  "new_cases_smoothed": 0,
                  "total_deaths": "nan",
                  "new_deaths": 0,
                  "new_deaths_smoothed": 0,
                  "total_cases_per_million": "nan",
                  "new_cases_per_million": 0,
                  "new_cases_smoothed_per_million": 0,
                  "total_deaths_per_million": "nan",
                  "new_deaths_per_million": 0,
                  "new_deaths_smoothed_per_million": 0,
                  "reproduction_rate": "None",
                  "icu_patients": "None",
                  "icu_patients_per_million": "None",
                  "hosp_patients": "None",
                  "hosp_patients_per_million": "None",
                  "weekly_icu_admissions": "None",
                  "weekly_icu_admissions_per_million": "None",
                  "weekly_hosp_admissions": "None",
                  "weekly_hosp_admissions_per_million": "None",
                  "total_tests": "None",
                  "new_tests": "None",
                  "total_tests_per_thousand": "None",
                  "new_tests_per_thousand": "None",
                  "new_tests_smoothed": "None",
                  "new_tests_smoothed_per_thousand": "None",
                  "positive_rate": "None",
                  "tests_per_case": "None",
                  "tests_units": "None",
                  "total_vaccinations": "None",
                  "people_vaccinated": "None",
                  "people_fully_vaccinated": "None",
                  "total_boosters": "None",
                  "new_vaccinations": "None",
                  "new_vaccinations_smoothed": "None",
                  "total_vaccinations_per_hundred": "None",
                  "people_vaccinated_per_hundred": "None",
                  "people_fully_vaccinated_per_hundred": "None",
                  "total_boosters_per_hundred": "None",
                  "new_vaccinations_smoothed_per_million": "None",
                  "new_people_vaccinated_smoothed": "None",
                  "new_people_vaccinated_smoothed_per_hundred": "None",
                  "stringency_index": "None",
                  "population_density": "None",
                  "median_age": "None",
                  "aged_65_older": "None",
                  "aged_70_older": "None",
                  "gdp_per_capita": "None",
                  "extreme_poverty": "None",
                  "cardiovasc_death_rate": "None",
                  "diabetes_prevalence": "None",
                  "female_smokers": "None",
                  "male_smokers": "None",
                  "handwashing_facilities": "None",
                  "hospital_beds_per_thousand": "None",
                  "life_expectancy": "None",
                  "human_development_index": "None",
                  "population": 1426736614,
                  "excess_mortality_cumulative_absolute": "None",
                  "excess_mortality_cumulative": "None",
                  "excess_mortality": "None",
                  "excess_mortality_cumulative_per_million": "None",
                  "_deepnote_index_column": 15
                },
                {
                  "iso_code": "OWID_AFR",
                  "continent": "None",
                  "location": "Africa",
                  "date": "2020-01-19",
                  "total_cases": "nan",
                  "new_cases": 0,
                  "new_cases_smoothed": 0,
                  "total_deaths": "nan",
                  "new_deaths": 0,
                  "new_deaths_smoothed": 0,
                  "total_cases_per_million": "nan",
                  "new_cases_per_million": 0,
                  "new_cases_smoothed_per_million": 0,
                  "total_deaths_per_million": "nan",
                  "new_deaths_per_million": 0,
                  "new_deaths_smoothed_per_million": 0,
                  "reproduction_rate": "None",
                  "icu_patients": "None",
                  "icu_patients_per_million": "None",
                  "hosp_patients": "None",
                  "hosp_patients_per_million": "None",
                  "weekly_icu_admissions": "None",
                  "weekly_icu_admissions_per_million": "None",
                  "weekly_hosp_admissions": "None",
                  "weekly_hosp_admissions_per_million": "None",
                  "total_tests": "None",
                  "new_tests": "None",
                  "total_tests_per_thousand": "None",
                  "new_tests_per_thousand": "None",
                  "new_tests_smoothed": "None",
                  "new_tests_smoothed_per_thousand": "None",
                  "positive_rate": "None",
                  "tests_per_case": "None",
                  "tests_units": "None",
                  "total_vaccinations": "None",
                  "people_vaccinated": "None",
                  "people_fully_vaccinated": "None",
                  "total_boosters": "None",
                  "new_vaccinations": "None",
                  "new_vaccinations_smoothed": "None",
                  "total_vaccinations_per_hundred": "None",
                  "people_vaccinated_per_hundred": "None",
                  "people_fully_vaccinated_per_hundred": "None",
                  "total_boosters_per_hundred": "None",
                  "new_vaccinations_smoothed_per_million": "None",
                  "new_people_vaccinated_smoothed": "None",
                  "new_people_vaccinated_smoothed_per_hundred": "None",
                  "stringency_index": "None",
                  "population_density": "None",
                  "median_age": "None",
                  "aged_65_older": "None",
                  "aged_70_older": "None",
                  "gdp_per_capita": "None",
                  "extreme_poverty": "None",
                  "cardiovasc_death_rate": "None",
                  "diabetes_prevalence": "None",
                  "female_smokers": "None",
                  "male_smokers": "None",
                  "handwashing_facilities": "None",
                  "hospital_beds_per_thousand": "None",
                  "life_expectancy": "None",
                  "human_development_index": "None",
                  "population": 1426736614,
                  "excess_mortality_cumulative_absolute": "None",
                  "excess_mortality_cumulative": "None",
                  "excess_mortality": "None",
                  "excess_mortality_cumulative_per_million": "None",
                  "_deepnote_index_column": 16
                },
                {
                  "iso_code": "OWID_AFR",
                  "continent": "None",
                  "location": "Africa",
                  "date": "2020-01-20",
                  "total_cases": "nan",
                  "new_cases": 0,
                  "new_cases_smoothed": 0,
                  "total_deaths": "nan",
                  "new_deaths": 0,
                  "new_deaths_smoothed": 0,
                  "total_cases_per_million": "nan",
                  "new_cases_per_million": 0,
                  "new_cases_smoothed_per_million": 0,
                  "total_deaths_per_million": "nan",
                  "new_deaths_per_million": 0,
                  "new_deaths_smoothed_per_million": 0,
                  "reproduction_rate": "None",
                  "icu_patients": "None",
                  "icu_patients_per_million": "None",
                  "hosp_patients": "None",
                  "hosp_patients_per_million": "None",
                  "weekly_icu_admissions": "None",
                  "weekly_icu_admissions_per_million": "None",
                  "weekly_hosp_admissions": "None",
                  "weekly_hosp_admissions_per_million": "None",
                  "total_tests": "None",
                  "new_tests": "None",
                  "total_tests_per_thousand": "None",
                  "new_tests_per_thousand": "None",
                  "new_tests_smoothed": "None",
                  "new_tests_smoothed_per_thousand": "None",
                  "positive_rate": "None",
                  "tests_per_case": "None",
                  "tests_units": "None",
                  "total_vaccinations": "None",
                  "people_vaccinated": "None",
                  "people_fully_vaccinated": "None",
                  "total_boosters": "None",
                  "new_vaccinations": "None",
                  "new_vaccinations_smoothed": "None",
                  "total_vaccinations_per_hundred": "None",
                  "people_vaccinated_per_hundred": "None",
                  "people_fully_vaccinated_per_hundred": "None",
                  "total_boosters_per_hundred": "None",
                  "new_vaccinations_smoothed_per_million": "None",
                  "new_people_vaccinated_smoothed": "None",
                  "new_people_vaccinated_smoothed_per_hundred": "None",
                  "stringency_index": "None",
                  "population_density": "None",
                  "median_age": "None",
                  "aged_65_older": "None",
                  "aged_70_older": "None",
                  "gdp_per_capita": "None",
                  "extreme_poverty": "None",
                  "cardiovasc_death_rate": "None",
                  "diabetes_prevalence": "None",
                  "female_smokers": "None",
                  "male_smokers": "None",
                  "handwashing_facilities": "None",
                  "hospital_beds_per_thousand": "None",
                  "life_expectancy": "None",
                  "human_development_index": "None",
                  "population": 1426736614,
                  "excess_mortality_cumulative_absolute": "None",
                  "excess_mortality_cumulative": "None",
                  "excess_mortality": "None",
                  "excess_mortality_cumulative_per_million": "None",
                  "_deepnote_index_column": 17
                },
                {
                  "iso_code": "OWID_AFR",
                  "continent": "None",
                  "location": "Africa",
                  "date": "2020-01-21",
                  "total_cases": "nan",
                  "new_cases": 0,
                  "new_cases_smoothed": 0,
                  "total_deaths": "nan",
                  "new_deaths": 0,
                  "new_deaths_smoothed": 0,
                  "total_cases_per_million": "nan",
                  "new_cases_per_million": 0,
                  "new_cases_smoothed_per_million": 0,
                  "total_deaths_per_million": "nan",
                  "new_deaths_per_million": 0,
                  "new_deaths_smoothed_per_million": 0,
                  "reproduction_rate": "None",
                  "icu_patients": "None",
                  "icu_patients_per_million": "None",
                  "hosp_patients": "None",
                  "hosp_patients_per_million": "None",
                  "weekly_icu_admissions": "None",
                  "weekly_icu_admissions_per_million": "None",
                  "weekly_hosp_admissions": "None",
                  "weekly_hosp_admissions_per_million": "None",
                  "total_tests": "None",
                  "new_tests": "None",
                  "total_tests_per_thousand": "None",
                  "new_tests_per_thousand": "None",
                  "new_tests_smoothed": "None",
                  "new_tests_smoothed_per_thousand": "None",
                  "positive_rate": "None",
                  "tests_per_case": "None",
                  "tests_units": "None",
                  "total_vaccinations": "None",
                  "people_vaccinated": "None",
                  "people_fully_vaccinated": "None",
                  "total_boosters": "None",
                  "new_vaccinations": "None",
                  "new_vaccinations_smoothed": "None",
                  "total_vaccinations_per_hundred": "None",
                  "people_vaccinated_per_hundred": "None",
                  "people_fully_vaccinated_per_hundred": "None",
                  "total_boosters_per_hundred": "None",
                  "new_vaccinations_smoothed_per_million": "None",
                  "new_people_vaccinated_smoothed": "None",
                  "new_people_vaccinated_smoothed_per_hundred": "None",
                  "stringency_index": "None",
                  "population_density": "None",
                  "median_age": "None",
                  "aged_65_older": "None",
                  "aged_70_older": "None",
                  "gdp_per_capita": "None",
                  "extreme_poverty": "None",
                  "cardiovasc_death_rate": "None",
                  "diabetes_prevalence": "None",
                  "female_smokers": "None",
                  "male_smokers": "None",
                  "handwashing_facilities": "None",
                  "hospital_beds_per_thousand": "None",
                  "life_expectancy": "None",
                  "human_development_index": "None",
                  "population": 1426736614,
                  "excess_mortality_cumulative_absolute": "None",
                  "excess_mortality_cumulative": "None",
                  "excess_mortality": "None",
                  "excess_mortality_cumulative_per_million": "None",
                  "_deepnote_index_column": 18
                },
                {
                  "iso_code": "OWID_AFR",
                  "continent": "None",
                  "location": "Africa",
                  "date": "2020-01-22",
                  "total_cases": "nan",
                  "new_cases": 0,
                  "new_cases_smoothed": 0,
                  "total_deaths": "nan",
                  "new_deaths": 0,
                  "new_deaths_smoothed": 0,
                  "total_cases_per_million": "nan",
                  "new_cases_per_million": 0,
                  "new_cases_smoothed_per_million": 0,
                  "total_deaths_per_million": "nan",
                  "new_deaths_per_million": 0,
                  "new_deaths_smoothed_per_million": 0,
                  "reproduction_rate": "None",
                  "icu_patients": "None",
                  "icu_patients_per_million": "None",
                  "hosp_patients": "None",
                  "hosp_patients_per_million": "None",
                  "weekly_icu_admissions": "None",
                  "weekly_icu_admissions_per_million": "None",
                  "weekly_hosp_admissions": "None",
                  "weekly_hosp_admissions_per_million": "None",
                  "total_tests": "None",
                  "new_tests": "None",
                  "total_tests_per_thousand": "None",
                  "new_tests_per_thousand": "None",
                  "new_tests_smoothed": "None",
                  "new_tests_smoothed_per_thousand": "None",
                  "positive_rate": "None",
                  "tests_per_case": "None",
                  "tests_units": "None",
                  "total_vaccinations": "None",
                  "people_vaccinated": "None",
                  "people_fully_vaccinated": "None",
                  "total_boosters": "None",
                  "new_vaccinations": "None",
                  "new_vaccinations_smoothed": "None",
                  "total_vaccinations_per_hundred": "None",
                  "people_vaccinated_per_hundred": "None",
                  "people_fully_vaccinated_per_hundred": "None",
                  "total_boosters_per_hundred": "None",
                  "new_vaccinations_smoothed_per_million": "None",
                  "new_people_vaccinated_smoothed": "None",
                  "new_people_vaccinated_smoothed_per_hundred": "None",
                  "stringency_index": "None",
                  "population_density": "None",
                  "median_age": "None",
                  "aged_65_older": "None",
                  "aged_70_older": "None",
                  "gdp_per_capita": "None",
                  "extreme_poverty": "None",
                  "cardiovasc_death_rate": "None",
                  "diabetes_prevalence": "None",
                  "female_smokers": "None",
                  "male_smokers": "None",
                  "handwashing_facilities": "None",
                  "hospital_beds_per_thousand": "None",
                  "life_expectancy": "None",
                  "human_development_index": "None",
                  "population": 1426736614,
                  "excess_mortality_cumulative_absolute": "None",
                  "excess_mortality_cumulative": "None",
                  "excess_mortality": "None",
                  "excess_mortality_cumulative_per_million": "None",
                  "_deepnote_index_column": 19
                },
                {
                  "iso_code": "OWID_AFR",
                  "continent": "None",
                  "location": "Africa",
                  "date": "2020-01-23",
                  "total_cases": "nan",
                  "new_cases": 0,
                  "new_cases_smoothed": 0,
                  "total_deaths": "nan",
                  "new_deaths": 0,
                  "new_deaths_smoothed": 0,
                  "total_cases_per_million": "nan",
                  "new_cases_per_million": 0,
                  "new_cases_smoothed_per_million": 0,
                  "total_deaths_per_million": "nan",
                  "new_deaths_per_million": 0,
                  "new_deaths_smoothed_per_million": 0,
                  "reproduction_rate": "None",
                  "icu_patients": "None",
                  "icu_patients_per_million": "None",
                  "hosp_patients": "None",
                  "hosp_patients_per_million": "None",
                  "weekly_icu_admissions": "None",
                  "weekly_icu_admissions_per_million": "None",
                  "weekly_hosp_admissions": "None",
                  "weekly_hosp_admissions_per_million": "None",
                  "total_tests": "None",
                  "new_tests": "None",
                  "total_tests_per_thousand": "None",
                  "new_tests_per_thousand": "None",
                  "new_tests_smoothed": "None",
                  "new_tests_smoothed_per_thousand": "None",
                  "positive_rate": "None",
                  "tests_per_case": "None",
                  "tests_units": "None",
                  "total_vaccinations": "None",
                  "people_vaccinated": "None",
                  "people_fully_vaccinated": "None",
                  "total_boosters": "None",
                  "new_vaccinations": "None",
                  "new_vaccinations_smoothed": "None",
                  "total_vaccinations_per_hundred": "None",
                  "people_vaccinated_per_hundred": "None",
                  "people_fully_vaccinated_per_hundred": "None",
                  "total_boosters_per_hundred": "None",
                  "new_vaccinations_smoothed_per_million": "None",
                  "new_people_vaccinated_smoothed": "None",
                  "new_people_vaccinated_smoothed_per_hundred": "None",
                  "stringency_index": "None",
                  "population_density": "None",
                  "median_age": "None",
                  "aged_65_older": "None",
                  "aged_70_older": "None",
                  "gdp_per_capita": "None",
                  "extreme_poverty": "None",
                  "cardiovasc_death_rate": "None",
                  "diabetes_prevalence": "None",
                  "female_smokers": "None",
                  "male_smokers": "None",
                  "handwashing_facilities": "None",
                  "hospital_beds_per_thousand": "None",
                  "life_expectancy": "None",
                  "human_development_index": "None",
                  "population": 1426736614,
                  "excess_mortality_cumulative_absolute": "None",
                  "excess_mortality_cumulative": "None",
                  "excess_mortality": "None",
                  "excess_mortality_cumulative_per_million": "None",
                  "_deepnote_index_column": 20
                },
                {
                  "iso_code": "OWID_AFR",
                  "continent": "None",
                  "location": "Africa",
                  "date": "2020-01-24",
                  "total_cases": "nan",
                  "new_cases": 0,
                  "new_cases_smoothed": 0,
                  "total_deaths": "nan",
                  "new_deaths": 0,
                  "new_deaths_smoothed": 0,
                  "total_cases_per_million": "nan",
                  "new_cases_per_million": 0,
                  "new_cases_smoothed_per_million": 0,
                  "total_deaths_per_million": "nan",
                  "new_deaths_per_million": 0,
                  "new_deaths_smoothed_per_million": 0,
                  "reproduction_rate": "None",
                  "icu_patients": "None",
                  "icu_patients_per_million": "None",
                  "hosp_patients": "None",
                  "hosp_patients_per_million": "None",
                  "weekly_icu_admissions": "None",
                  "weekly_icu_admissions_per_million": "None",
                  "weekly_hosp_admissions": "None",
                  "weekly_hosp_admissions_per_million": "None",
                  "total_tests": "None",
                  "new_tests": "None",
                  "total_tests_per_thousand": "None",
                  "new_tests_per_thousand": "None",
                  "new_tests_smoothed": "None",
                  "new_tests_smoothed_per_thousand": "None",
                  "positive_rate": "None",
                  "tests_per_case": "None",
                  "tests_units": "None",
                  "total_vaccinations": "None",
                  "people_vaccinated": "None",
                  "people_fully_vaccinated": "None",
                  "total_boosters": "None",
                  "new_vaccinations": "None",
                  "new_vaccinations_smoothed": "None",
                  "total_vaccinations_per_hundred": "None",
                  "people_vaccinated_per_hundred": "None",
                  "people_fully_vaccinated_per_hundred": "None",
                  "total_boosters_per_hundred": "None",
                  "new_vaccinations_smoothed_per_million": "None",
                  "new_people_vaccinated_smoothed": "None",
                  "new_people_vaccinated_smoothed_per_hundred": "None",
                  "stringency_index": "None",
                  "population_density": "None",
                  "median_age": "None",
                  "aged_65_older": "None",
                  "aged_70_older": "None",
                  "gdp_per_capita": "None",
                  "extreme_poverty": "None",
                  "cardiovasc_death_rate": "None",
                  "diabetes_prevalence": "None",
                  "female_smokers": "None",
                  "male_smokers": "None",
                  "handwashing_facilities": "None",
                  "hospital_beds_per_thousand": "None",
                  "life_expectancy": "None",
                  "human_development_index": "None",
                  "population": 1426736614,
                  "excess_mortality_cumulative_absolute": "None",
                  "excess_mortality_cumulative": "None",
                  "excess_mortality": "None",
                  "excess_mortality_cumulative_per_million": "None",
                  "_deepnote_index_column": 21
                },
                {
                  "iso_code": "OWID_AFR",
                  "continent": "None",
                  "location": "Africa",
                  "date": "2020-01-25",
                  "total_cases": "nan",
                  "new_cases": 0,
                  "new_cases_smoothed": 0,
                  "total_deaths": "nan",
                  "new_deaths": 0,
                  "new_deaths_smoothed": 0,
                  "total_cases_per_million": "nan",
                  "new_cases_per_million": 0,
                  "new_cases_smoothed_per_million": 0,
                  "total_deaths_per_million": "nan",
                  "new_deaths_per_million": 0,
                  "new_deaths_smoothed_per_million": 0,
                  "reproduction_rate": "None",
                  "icu_patients": "None",
                  "icu_patients_per_million": "None",
                  "hosp_patients": "None",
                  "hosp_patients_per_million": "None",
                  "weekly_icu_admissions": "None",
                  "weekly_icu_admissions_per_million": "None",
                  "weekly_hosp_admissions": "None",
                  "weekly_hosp_admissions_per_million": "None",
                  "total_tests": "None",
                  "new_tests": "None",
                  "total_tests_per_thousand": "None",
                  "new_tests_per_thousand": "None",
                  "new_tests_smoothed": "None",
                  "new_tests_smoothed_per_thousand": "None",
                  "positive_rate": "None",
                  "tests_per_case": "None",
                  "tests_units": "None",
                  "total_vaccinations": "None",
                  "people_vaccinated": "None",
                  "people_fully_vaccinated": "None",
                  "total_boosters": "None",
                  "new_vaccinations": "None",
                  "new_vaccinations_smoothed": "None",
                  "total_vaccinations_per_hundred": "None",
                  "people_vaccinated_per_hundred": "None",
                  "people_fully_vaccinated_per_hundred": "None",
                  "total_boosters_per_hundred": "None",
                  "new_vaccinations_smoothed_per_million": "None",
                  "new_people_vaccinated_smoothed": "None",
                  "new_people_vaccinated_smoothed_per_hundred": "None",
                  "stringency_index": "None",
                  "population_density": "None",
                  "median_age": "None",
                  "aged_65_older": "None",
                  "aged_70_older": "None",
                  "gdp_per_capita": "None",
                  "extreme_poverty": "None",
                  "cardiovasc_death_rate": "None",
                  "diabetes_prevalence": "None",
                  "female_smokers": "None",
                  "male_smokers": "None",
                  "handwashing_facilities": "None",
                  "hospital_beds_per_thousand": "None",
                  "life_expectancy": "None",
                  "human_development_index": "None",
                  "population": 1426736614,
                  "excess_mortality_cumulative_absolute": "None",
                  "excess_mortality_cumulative": "None",
                  "excess_mortality": "None",
                  "excess_mortality_cumulative_per_million": "None",
                  "_deepnote_index_column": 22
                },
                {
                  "iso_code": "OWID_AFR",
                  "continent": "None",
                  "location": "Africa",
                  "date": "2020-01-26",
                  "total_cases": "nan",
                  "new_cases": 0,
                  "new_cases_smoothed": 0,
                  "total_deaths": "nan",
                  "new_deaths": 0,
                  "new_deaths_smoothed": 0,
                  "total_cases_per_million": "nan",
                  "new_cases_per_million": 0,
                  "new_cases_smoothed_per_million": 0,
                  "total_deaths_per_million": "nan",
                  "new_deaths_per_million": 0,
                  "new_deaths_smoothed_per_million": 0,
                  "reproduction_rate": "None",
                  "icu_patients": "None",
                  "icu_patients_per_million": "None",
                  "hosp_patients": "None",
                  "hosp_patients_per_million": "None",
                  "weekly_icu_admissions": "None",
                  "weekly_icu_admissions_per_million": "None",
                  "weekly_hosp_admissions": "None",
                  "weekly_hosp_admissions_per_million": "None",
                  "total_tests": "None",
                  "new_tests": "None",
                  "total_tests_per_thousand": "None",
                  "new_tests_per_thousand": "None",
                  "new_tests_smoothed": "None",
                  "new_tests_smoothed_per_thousand": "None",
                  "positive_rate": "None",
                  "tests_per_case": "None",
                  "tests_units": "None",
                  "total_vaccinations": "None",
                  "people_vaccinated": "None",
                  "people_fully_vaccinated": "None",
                  "total_boosters": "None",
                  "new_vaccinations": "None",
                  "new_vaccinations_smoothed": "None",
                  "total_vaccinations_per_hundred": "None",
                  "people_vaccinated_per_hundred": "None",
                  "people_fully_vaccinated_per_hundred": "None",
                  "total_boosters_per_hundred": "None",
                  "new_vaccinations_smoothed_per_million": "None",
                  "new_people_vaccinated_smoothed": "None",
                  "new_people_vaccinated_smoothed_per_hundred": "None",
                  "stringency_index": "None",
                  "population_density": "None",
                  "median_age": "None",
                  "aged_65_older": "None",
                  "aged_70_older": "None",
                  "gdp_per_capita": "None",
                  "extreme_poverty": "None",
                  "cardiovasc_death_rate": "None",
                  "diabetes_prevalence": "None",
                  "female_smokers": "None",
                  "male_smokers": "None",
                  "handwashing_facilities": "None",
                  "hospital_beds_per_thousand": "None",
                  "life_expectancy": "None",
                  "human_development_index": "None",
                  "population": 1426736614,
                  "excess_mortality_cumulative_absolute": "None",
                  "excess_mortality_cumulative": "None",
                  "excess_mortality": "None",
                  "excess_mortality_cumulative_per_million": "None",
                  "_deepnote_index_column": 23
                },
                {
                  "iso_code": "OWID_AFR",
                  "continent": "None",
                  "location": "Africa",
                  "date": "2020-01-27",
                  "total_cases": "nan",
                  "new_cases": 0,
                  "new_cases_smoothed": 0,
                  "total_deaths": "nan",
                  "new_deaths": 0,
                  "new_deaths_smoothed": 0,
                  "total_cases_per_million": "nan",
                  "new_cases_per_million": 0,
                  "new_cases_smoothed_per_million": 0,
                  "total_deaths_per_million": "nan",
                  "new_deaths_per_million": 0,
                  "new_deaths_smoothed_per_million": 0,
                  "reproduction_rate": "None",
                  "icu_patients": "None",
                  "icu_patients_per_million": "None",
                  "hosp_patients": "None",
                  "hosp_patients_per_million": "None",
                  "weekly_icu_admissions": "None",
                  "weekly_icu_admissions_per_million": "None",
                  "weekly_hosp_admissions": "None",
                  "weekly_hosp_admissions_per_million": "None",
                  "total_tests": "None",
                  "new_tests": "None",
                  "total_tests_per_thousand": "None",
                  "new_tests_per_thousand": "None",
                  "new_tests_smoothed": "None",
                  "new_tests_smoothed_per_thousand": "None",
                  "positive_rate": "None",
                  "tests_per_case": "None",
                  "tests_units": "None",
                  "total_vaccinations": "None",
                  "people_vaccinated": "None",
                  "people_fully_vaccinated": "None",
                  "total_boosters": "None",
                  "new_vaccinations": "None",
                  "new_vaccinations_smoothed": "None",
                  "total_vaccinations_per_hundred": "None",
                  "people_vaccinated_per_hundred": "None",
                  "people_fully_vaccinated_per_hundred": "None",
                  "total_boosters_per_hundred": "None",
                  "new_vaccinations_smoothed_per_million": "None",
                  "new_people_vaccinated_smoothed": "None",
                  "new_people_vaccinated_smoothed_per_hundred": "None",
                  "stringency_index": "None",
                  "population_density": "None",
                  "median_age": "None",
                  "aged_65_older": "None",
                  "aged_70_older": "None",
                  "gdp_per_capita": "None",
                  "extreme_poverty": "None",
                  "cardiovasc_death_rate": "None",
                  "diabetes_prevalence": "None",
                  "female_smokers": "None",
                  "male_smokers": "None",
                  "handwashing_facilities": "None",
                  "hospital_beds_per_thousand": "None",
                  "life_expectancy": "None",
                  "human_development_index": "None",
                  "population": 1426736614,
                  "excess_mortality_cumulative_absolute": "None",
                  "excess_mortality_cumulative": "None",
                  "excess_mortality": "None",
                  "excess_mortality_cumulative_per_million": "None",
                  "_deepnote_index_column": 24
                }
              ]
            },
            "text/plain": "    iso_code continent location        date  total_cases  new_cases  \\\n0   OWID_AFR      None   Africa  2020-01-03          NaN        0.0   \n1   OWID_AFR      None   Africa  2020-01-04          NaN        0.0   \n2   OWID_AFR      None   Africa  2020-01-05          NaN        0.0   \n3   OWID_AFR      None   Africa  2020-01-06          NaN        0.0   \n4   OWID_AFR      None   Africa  2020-01-07          NaN        0.0   \n..       ...       ...      ...         ...          ...        ...   \n95  OWID_AFR      None   Africa  2020-04-07      10725.0      672.0   \n96  OWID_AFR      None   Africa  2020-04-08      11522.0      797.0   \n97  OWID_AFR      None   Africa  2020-04-09      12202.0      680.0   \n98  OWID_AFR      None   Africa  2020-04-10      12998.0      796.0   \n99  OWID_AFR      None   Africa  2020-04-11      13765.0      767.0   \n\n    new_cases_smoothed  total_deaths  new_deaths  new_deaths_smoothed  ...  \\\n0                  NaN           NaN         0.0                  NaN  ...   \n1                  NaN           NaN         0.0                  NaN  ...   \n2                  NaN           NaN         0.0                  NaN  ...   \n3                  NaN           NaN         0.0                  NaN  ...   \n4                  NaN           NaN         0.0                  NaN  ...   \n..                 ...           ...         ...                  ...  ...   \n95             719.714         672.0        42.0               50.000  ...   \n96             754.143         715.0        43.0               44.286  ...   \n97             767.429         748.0        33.0               44.143  ...   \n98             758.429         801.0        53.0               44.857  ...   \n99             741.857         865.0        64.0               47.571  ...   \n\n    male_smokers  handwashing_facilities  hospital_beds_per_thousand  \\\n0           None                    None                        None   \n1           None                    None                        None   \n2           None                    None                        None   \n3           None                    None                        None   \n4           None                    None                        None   \n..           ...                     ...                         ...   \n95          None                    None                        None   \n96          None                    None                        None   \n97          None                    None                        None   \n98          None                    None                        None   \n99          None                    None                        None   \n\n    life_expectancy  human_development_index    population  \\\n0              None                     None  1.426737e+09   \n1              None                     None  1.426737e+09   \n2              None                     None  1.426737e+09   \n3              None                     None  1.426737e+09   \n4              None                     None  1.426737e+09   \n..              ...                      ...           ...   \n95             None                     None  1.426737e+09   \n96             None                     None  1.426737e+09   \n97             None                     None  1.426737e+09   \n98             None                     None  1.426737e+09   \n99             None                     None  1.426737e+09   \n\n   excess_mortality_cumulative_absolute excess_mortality_cumulative  \\\n0                                  None                        None   \n1                                  None                        None   \n2                                  None                        None   \n3                                  None                        None   \n4                                  None                        None   \n..                                  ...                         ...   \n95                                 None                        None   \n96                                 None                        None   \n97                                 None                        None   \n98                                 None                        None   \n99                                 None                        None   \n\n   excess_mortality excess_mortality_cumulative_per_million  \n0              None                                    None  \n1              None                                    None  \n2              None                                    None  \n3              None                                    None  \n4              None                                    None  \n..              ...                                     ...  \n95             None                                    None  \n96             None                                    None  \n97             None                                    None  \n98             None                                    None  \n99             None                                    None  \n\n[100 rows x 67 columns]",
            "text/html": "<div>\n<style scoped>\n    .dataframe tbody tr th:only-of-type {\n        vertical-align: middle;\n    }\n\n    .dataframe tbody tr th {\n        vertical-align: top;\n    }\n\n    .dataframe thead th {\n        text-align: right;\n    }\n</style>\n<table border=\"1\" class=\"dataframe\">\n  <thead>\n    <tr style=\"text-align: right;\">\n      <th></th>\n      <th>iso_code</th>\n      <th>continent</th>\n      <th>location</th>\n      <th>date</th>\n      <th>total_cases</th>\n      <th>new_cases</th>\n      <th>new_cases_smoothed</th>\n      <th>total_deaths</th>\n      <th>new_deaths</th>\n      <th>new_deaths_smoothed</th>\n      <th>...</th>\n      <th>male_smokers</th>\n      <th>handwashing_facilities</th>\n      <th>hospital_beds_per_thousand</th>\n      <th>life_expectancy</th>\n      <th>human_development_index</th>\n      <th>population</th>\n      <th>excess_mortality_cumulative_absolute</th>\n      <th>excess_mortality_cumulative</th>\n      <th>excess_mortality</th>\n      <th>excess_mortality_cumulative_per_million</th>\n    </tr>\n  </thead>\n  <tbody>\n    <tr>\n      <th>0</th>\n      <td>OWID_AFR</td>\n      <td>None</td>\n      <td>Africa</td>\n      <td>2020-01-03</td>\n      <td>NaN</td>\n      <td>0.0</td>\n      <td>NaN</td>\n      <td>NaN</td>\n      <td>0.0</td>\n      <td>NaN</td>\n      <td>...</td>\n      <td>None</td>\n      <td>None</td>\n      <td>None</td>\n      <td>None</td>\n      <td>None</td>\n      <td>1.426737e+09</td>\n      <td>None</td>\n      <td>None</td>\n      <td>None</td>\n      <td>None</td>\n    </tr>\n    <tr>\n      <th>1</th>\n      <td>OWID_AFR</td>\n      <td>None</td>\n      <td>Africa</td>\n      <td>2020-01-04</td>\n      <td>NaN</td>\n      <td>0.0</td>\n      <td>NaN</td>\n      <td>NaN</td>\n      <td>0.0</td>\n      <td>NaN</td>\n      <td>...</td>\n      <td>None</td>\n      <td>None</td>\n      <td>None</td>\n      <td>None</td>\n      <td>None</td>\n      <td>1.426737e+09</td>\n      <td>None</td>\n      <td>None</td>\n      <td>None</td>\n      <td>None</td>\n    </tr>\n    <tr>\n      <th>2</th>\n      <td>OWID_AFR</td>\n      <td>None</td>\n      <td>Africa</td>\n      <td>2020-01-05</td>\n      <td>NaN</td>\n      <td>0.0</td>\n      <td>NaN</td>\n      <td>NaN</td>\n      <td>0.0</td>\n      <td>NaN</td>\n      <td>...</td>\n      <td>None</td>\n      <td>None</td>\n      <td>None</td>\n      <td>None</td>\n      <td>None</td>\n      <td>1.426737e+09</td>\n      <td>None</td>\n      <td>None</td>\n      <td>None</td>\n      <td>None</td>\n    </tr>\n    <tr>\n      <th>3</th>\n      <td>OWID_AFR</td>\n      <td>None</td>\n      <td>Africa</td>\n      <td>2020-01-06</td>\n      <td>NaN</td>\n      <td>0.0</td>\n      <td>NaN</td>\n      <td>NaN</td>\n      <td>0.0</td>\n      <td>NaN</td>\n      <td>...</td>\n      <td>None</td>\n      <td>None</td>\n      <td>None</td>\n      <td>None</td>\n      <td>None</td>\n      <td>1.426737e+09</td>\n      <td>None</td>\n      <td>None</td>\n      <td>None</td>\n      <td>None</td>\n    </tr>\n    <tr>\n      <th>4</th>\n      <td>OWID_AFR</td>\n      <td>None</td>\n      <td>Africa</td>\n      <td>2020-01-07</td>\n      <td>NaN</td>\n      <td>0.0</td>\n      <td>NaN</td>\n      <td>NaN</td>\n      <td>0.0</td>\n      <td>NaN</td>\n      <td>...</td>\n      <td>None</td>\n      <td>None</td>\n      <td>None</td>\n      <td>None</td>\n      <td>None</td>\n      <td>1.426737e+09</td>\n      <td>None</td>\n      <td>None</td>\n      <td>None</td>\n      <td>None</td>\n    </tr>\n    <tr>\n      <th>...</th>\n      <td>...</td>\n      <td>...</td>\n      <td>...</td>\n      <td>...</td>\n      <td>...</td>\n      <td>...</td>\n      <td>...</td>\n      <td>...</td>\n      <td>...</td>\n      <td>...</td>\n      <td>...</td>\n      <td>...</td>\n      <td>...</td>\n      <td>...</td>\n      <td>...</td>\n      <td>...</td>\n      <td>...</td>\n      <td>...</td>\n      <td>...</td>\n      <td>...</td>\n      <td>...</td>\n    </tr>\n    <tr>\n      <th>95</th>\n      <td>OWID_AFR</td>\n      <td>None</td>\n      <td>Africa</td>\n      <td>2020-04-07</td>\n      <td>10725.0</td>\n      <td>672.0</td>\n      <td>719.714</td>\n      <td>672.0</td>\n      <td>42.0</td>\n      <td>50.000</td>\n      <td>...</td>\n      <td>None</td>\n      <td>None</td>\n      <td>None</td>\n      <td>None</td>\n      <td>None</td>\n      <td>1.426737e+09</td>\n      <td>None</td>\n      <td>None</td>\n      <td>None</td>\n      <td>None</td>\n    </tr>\n    <tr>\n      <th>96</th>\n      <td>OWID_AFR</td>\n      <td>None</td>\n      <td>Africa</td>\n      <td>2020-04-08</td>\n      <td>11522.0</td>\n      <td>797.0</td>\n      <td>754.143</td>\n      <td>715.0</td>\n      <td>43.0</td>\n      <td>44.286</td>\n      <td>...</td>\n      <td>None</td>\n      <td>None</td>\n      <td>None</td>\n      <td>None</td>\n      <td>None</td>\n      <td>1.426737e+09</td>\n      <td>None</td>\n      <td>None</td>\n      <td>None</td>\n      <td>None</td>\n    </tr>\n    <tr>\n      <th>97</th>\n      <td>OWID_AFR</td>\n      <td>None</td>\n      <td>Africa</td>\n      <td>2020-04-09</td>\n      <td>12202.0</td>\n      <td>680.0</td>\n      <td>767.429</td>\n      <td>748.0</td>\n      <td>33.0</td>\n      <td>44.143</td>\n      <td>...</td>\n      <td>None</td>\n      <td>None</td>\n      <td>None</td>\n      <td>None</td>\n      <td>None</td>\n      <td>1.426737e+09</td>\n      <td>None</td>\n      <td>None</td>\n      <td>None</td>\n      <td>None</td>\n    </tr>\n    <tr>\n      <th>98</th>\n      <td>OWID_AFR</td>\n      <td>None</td>\n      <td>Africa</td>\n      <td>2020-04-10</td>\n      <td>12998.0</td>\n      <td>796.0</td>\n      <td>758.429</td>\n      <td>801.0</td>\n      <td>53.0</td>\n      <td>44.857</td>\n      <td>...</td>\n      <td>None</td>\n      <td>None</td>\n      <td>None</td>\n      <td>None</td>\n      <td>None</td>\n      <td>1.426737e+09</td>\n      <td>None</td>\n      <td>None</td>\n      <td>None</td>\n      <td>None</td>\n    </tr>\n    <tr>\n      <th>99</th>\n      <td>OWID_AFR</td>\n      <td>None</td>\n      <td>Africa</td>\n      <td>2020-04-11</td>\n      <td>13765.0</td>\n      <td>767.0</td>\n      <td>741.857</td>\n      <td>865.0</td>\n      <td>64.0</td>\n      <td>47.571</td>\n      <td>...</td>\n      <td>None</td>\n      <td>None</td>\n      <td>None</td>\n      <td>None</td>\n      <td>None</td>\n      <td>1.426737e+09</td>\n      <td>None</td>\n      <td>None</td>\n      <td>None</td>\n      <td>None</td>\n    </tr>\n  </tbody>\n</table>\n<p>100 rows × 67 columns</p>\n</div>"
          },
          "metadata": {}
        }
      ],
      "execution_count": 1,
      "block_group": "d1961fbe09984087b72d4a4fc2c5b73c"
    },
    {
      "cell_type": "markdown",
      "source": "### Get a list of all column names for easier reference",
      "metadata": {
        "noteable": {
          "cell_type": "markdown"
        },
        "cell_id": "229c07ace17848ff86b0fa433571bba0",
        "deepnote_cell_type": "markdown"
      },
      "block_group": "4e70ab2455a94d808c76777ecde20281"
    },
    {
      "cell_type": "code",
      "source": "df_2 = _deepnote_execute_sql('SELECT column_name \\nFROM covid19_data.INFORMATION_SCHEMA.COLUMNS\\nWHERE table_name = \\'covid19-data\\';', 'SQL_E2E7BAC6_19C0_4753_95A0_157A1F88869C', audit_sql_comment='', sql_cache_mode='cache_disabled')\ndf_2",
      "metadata": {
        "source_hash": "4d0d78cf",
        "execution_start": 1703086346487,
        "execution_millis": 1800,
        "sql_integration_id": "e2e7bac6-19c0-4753-95a0-157a1f88869c",
        "deepnote_variable_name": "df_2",
        "deepnote_to_be_reexecuted": false,
        "cell_id": "43b72fd55f13492f969f297e2c24da95",
        "deepnote_cell_type": "sql",
        "deepnote_sql_source": "SELECT column_name \nFROM covid19_data.INFORMATION_SCHEMA.COLUMNS\nWHERE table_name = 'covid19-data';"
      },
      "outputs": [
        {
          "data": {
            "application/vnd.deepnote.sql-output-metadata+json": {
              "status": "success_no_cache",
              "size_in_bytes": 5281
            }
          },
          "metadata": {},
          "output_type": "display_data"
        },
        {
          "output_type": "execute_result",
          "execution_count": 2,
          "data": {
            "application/vnd.deepnote.dataframe.v3+json": {
              "column_count": 1,
              "row_count": 67,
              "columns": [
                {
                  "name": "column_name",
                  "dtype": "object",
                  "stats": {
                    "unique_count": 67,
                    "nan_count": 0,
                    "categories": [
                      {
                        "name": "iso_code",
                        "count": 1
                      },
                      {
                        "name": "continent",
                        "count": 1
                      },
                      {
                        "name": "65 others",
                        "count": 65
                      }
                    ]
                  }
                },
                {
                  "name": "_deepnote_index_column",
                  "dtype": "int64"
                }
              ],
              "rows": [
                {
                  "column_name": "iso_code",
                  "_deepnote_index_column": 0
                },
                {
                  "column_name": "continent",
                  "_deepnote_index_column": 1
                },
                {
                  "column_name": "location",
                  "_deepnote_index_column": 2
                },
                {
                  "column_name": "date",
                  "_deepnote_index_column": 3
                },
                {
                  "column_name": "total_cases",
                  "_deepnote_index_column": 4
                },
                {
                  "column_name": "new_cases",
                  "_deepnote_index_column": 5
                },
                {
                  "column_name": "new_cases_smoothed",
                  "_deepnote_index_column": 6
                },
                {
                  "column_name": "total_deaths",
                  "_deepnote_index_column": 7
                },
                {
                  "column_name": "new_deaths",
                  "_deepnote_index_column": 8
                },
                {
                  "column_name": "new_deaths_smoothed",
                  "_deepnote_index_column": 9
                }
              ]
            },
            "text/plain": "                                column_name\n0                                  iso_code\n1                                 continent\n2                                  location\n3                                      date\n4                               total_cases\n..                                      ...\n62                               population\n63     excess_mortality_cumulative_absolute\n64              excess_mortality_cumulative\n65                         excess_mortality\n66  excess_mortality_cumulative_per_million\n\n[67 rows x 1 columns]",
            "text/html": "<div>\n<style scoped>\n    .dataframe tbody tr th:only-of-type {\n        vertical-align: middle;\n    }\n\n    .dataframe tbody tr th {\n        vertical-align: top;\n    }\n\n    .dataframe thead th {\n        text-align: right;\n    }\n</style>\n<table border=\"1\" class=\"dataframe\">\n  <thead>\n    <tr style=\"text-align: right;\">\n      <th></th>\n      <th>column_name</th>\n    </tr>\n  </thead>\n  <tbody>\n    <tr>\n      <th>0</th>\n      <td>iso_code</td>\n    </tr>\n    <tr>\n      <th>1</th>\n      <td>continent</td>\n    </tr>\n    <tr>\n      <th>2</th>\n      <td>location</td>\n    </tr>\n    <tr>\n      <th>3</th>\n      <td>date</td>\n    </tr>\n    <tr>\n      <th>4</th>\n      <td>total_cases</td>\n    </tr>\n    <tr>\n      <th>...</th>\n      <td>...</td>\n    </tr>\n    <tr>\n      <th>62</th>\n      <td>population</td>\n    </tr>\n    <tr>\n      <th>63</th>\n      <td>excess_mortality_cumulative_absolute</td>\n    </tr>\n    <tr>\n      <th>64</th>\n      <td>excess_mortality_cumulative</td>\n    </tr>\n    <tr>\n      <th>65</th>\n      <td>excess_mortality</td>\n    </tr>\n    <tr>\n      <th>66</th>\n      <td>excess_mortality_cumulative_per_million</td>\n    </tr>\n  </tbody>\n</table>\n<p>67 rows × 1 columns</p>\n</div>"
          },
          "metadata": {}
        }
      ],
      "execution_count": 2,
      "block_group": "b176e402c4cc4311a0cb88ab305eb24b"
    },
    {
      "cell_type": "markdown",
      "source": "### Aggregate Data by Country/Region\nCalculate total cases, deaths, and recoveries per country, using the correct column names.",
      "metadata": {
        "noteable": {
          "cell_type": "markdown"
        },
        "cell_id": "bc2d1a996d90413c9af61cc5dcbe8794",
        "deepnote_cell_type": "markdown"
      },
      "block_group": "710f47c112104cdb8e86d6a6a833b997"
    },
    {
      "cell_type": "code",
      "source": "df_3 = _deepnote_execute_sql('SELECT  location, \\n        MAX(total_cases) AS total_cases, \\n        MAX(total_deaths) AS total_deaths \\nFROM `covid19_data.covid19-data` \\nWHERE location NOT LIKE \\'%income%\\' AND \\n      location NOT LIKE \\'%World%\\' AND \\n      (total_cases IS NOT NULL OR total_deaths IS NOT NULL) \\nGROUP BY location \\nORDER BY total_cases DESC;', 'SQL_E2E7BAC6_19C0_4753_95A0_157A1F88869C', audit_sql_comment='', sql_cache_mode='cache_disabled')\ndf_3",
      "metadata": {
        "source_hash": "6aff19dd",
        "execution_start": 1703086348298,
        "execution_millis": 2021,
        "sql_integration_id": "e2e7bac6-19c0-4753-95a0-157a1f88869c",
        "deepnote_variable_name": "df_3",
        "deepnote_to_be_reexecuted": false,
        "cell_id": "eb64c54920064b4c948fe7d2d56e52d4",
        "deepnote_cell_type": "sql",
        "deepnote_sql_source": "SELECT  location, \n        MAX(total_cases) AS total_cases, \n        MAX(total_deaths) AS total_deaths \nFROM `covid19_data.covid19-data` \nWHERE location NOT LIKE '%income%' AND \n      location NOT LIKE '%World%' AND \n      (total_cases IS NOT NULL OR total_deaths IS NOT NULL) \nGROUP BY location \nORDER BY total_cases DESC;"
      },
      "outputs": [
        {
          "data": {
            "application/vnd.deepnote.sql-output-metadata+json": {
              "status": "success_no_cache",
              "size_in_bytes": 19782
            }
          },
          "metadata": {},
          "output_type": "display_data"
        },
        {
          "output_type": "execute_result",
          "execution_count": 3,
          "data": {
            "application/vnd.deepnote.dataframe.v3+json": {
              "column_count": 3,
              "row_count": 239,
              "columns": [
                {
                  "name": "location",
                  "dtype": "object",
                  "stats": {
                    "unique_count": 239,
                    "nan_count": 0,
                    "categories": [
                      {
                        "name": "Asia",
                        "count": 1
                      },
                      {
                        "name": "Europe",
                        "count": 1
                      },
                      {
                        "name": "237 others",
                        "count": 237
                      }
                    ]
                  }
                },
                {
                  "name": "total_cases",
                  "dtype": "float64",
                  "stats": {
                    "unique_count": 239,
                    "nan_count": 0,
                    "min": "4.0",
                    "max": "295438685.0",
                    "histogram": [
                      {
                        "bin_start": 4,
                        "bin_end": 29543872.1,
                        "count": 226
                      },
                      {
                        "bin_start": 29543872.1,
                        "bin_end": 59087740.2,
                        "count": 6
                      },
                      {
                        "bin_start": 59087740.2,
                        "bin_end": 88631608.30000001,
                        "count": 1
                      },
                      {
                        "bin_start": 88631608.30000001,
                        "bin_end": 118175476.4,
                        "count": 2
                      },
                      {
                        "bin_start": 118175476.4,
                        "bin_end": 147719344.5,
                        "count": 1
                      },
                      {
                        "bin_start": 147719344.5,
                        "bin_end": 177263212.60000002,
                        "count": 0
                      },
                      {
                        "bin_start": 177263212.60000002,
                        "bin_end": 206807080.70000002,
                        "count": 1
                      },
                      {
                        "bin_start": 206807080.70000002,
                        "bin_end": 236350948.8,
                        "count": 0
                      },
                      {
                        "bin_start": 236350948.8,
                        "bin_end": 265894816.9,
                        "count": 1
                      },
                      {
                        "bin_start": 265894816.9,
                        "bin_end": 295438685,
                        "count": 1
                      }
                    ]
                  }
                },
                {
                  "name": "total_deaths",
                  "dtype": "float64",
                  "stats": {
                    "unique_count": 220,
                    "nan_count": 7,
                    "min": "1.0",
                    "max": "2033047.0",
                    "histogram": [
                      {
                        "bin_start": 1,
                        "bin_end": 203305.6,
                        "count": 219
                      },
                      {
                        "bin_start": 203305.6,
                        "bin_end": 406610.2,
                        "count": 5
                      },
                      {
                        "bin_start": 406610.2,
                        "bin_end": 609914.8,
                        "count": 1
                      },
                      {
                        "bin_start": 609914.8,
                        "bin_end": 813219.4,
                        "count": 1
                      },
                      {
                        "bin_start": 813219.4,
                        "bin_end": 1016524,
                        "count": 0
                      },
                      {
                        "bin_start": 1016524,
                        "bin_end": 1219828.6,
                        "count": 1
                      },
                      {
                        "bin_start": 1219828.6,
                        "bin_end": 1423133.2,
                        "count": 2
                      },
                      {
                        "bin_start": 1423133.2,
                        "bin_end": 1626437.8,
                        "count": 1
                      },
                      {
                        "bin_start": 1626437.8,
                        "bin_end": 1829742.4000000001,
                        "count": 1
                      },
                      {
                        "bin_start": 1829742.4000000001,
                        "bin_end": 2033047,
                        "count": 1
                      }
                    ]
                  }
                },
                {
                  "name": "_deepnote_index_column",
                  "dtype": "int64"
                }
              ],
              "rows": [
                {
                  "location": "Asia",
                  "total_cases": 295438685,
                  "total_deaths": 1627329,
                  "_deepnote_index_column": 0
                },
                {
                  "location": "Europe",
                  "total_cases": 247649657,
                  "total_deaths": 2033047,
                  "_deepnote_index_column": 1
                },
                {
                  "location": "European Union",
                  "total_cases": 183150392,
                  "total_deaths": 1220782,
                  "_deepnote_index_column": 2
                },
                {
                  "location": "North America",
                  "total_cases": 123272458,
                  "total_deaths": 1590127,
                  "_deepnote_index_column": 3
                },
                {
                  "location": "United States",
                  "total_cases": 102697566,
                  "total_deaths": 1117054,
                  "_deepnote_index_column": 4
                },
                {
                  "location": "China",
                  "total_cases": 99238143,
                  "total_deaths": 120894,
                  "_deepnote_index_column": 5
                },
                {
                  "location": "South America",
                  "total_cases": 68193137,
                  "total_deaths": 1352152,
                  "_deepnote_index_column": 6
                },
                {
                  "location": "India",
                  "total_cases": 44707525,
                  "total_deaths": 530841,
                  "_deepnote_index_column": 7
                },
                {
                  "location": "France",
                  "total_cases": 38677413,
                  "total_deaths": 161857,
                  "_deepnote_index_column": 8
                },
                {
                  "location": "Germany",
                  "total_cases": 38338298,
                  "total_deaths": 170493,
                  "_deepnote_index_column": 9
                }
              ]
            },
            "text/plain": "           location  total_cases  total_deaths\n0              Asia  295438685.0     1627329.0\n1            Europe  247649657.0     2033047.0\n2    European Union  183150392.0     1220782.0\n3     North America  123272458.0     1590127.0\n4     United States  102697566.0     1117054.0\n..              ...          ...           ...\n234      Montserrat       1403.0           8.0\n235            Niue        747.0           NaN\n236         Vatican         26.0           NaN\n237         Tokelau          5.0           NaN\n238        Pitcairn          4.0           NaN\n\n[239 rows x 3 columns]",
            "text/html": "<div>\n<style scoped>\n    .dataframe tbody tr th:only-of-type {\n        vertical-align: middle;\n    }\n\n    .dataframe tbody tr th {\n        vertical-align: top;\n    }\n\n    .dataframe thead th {\n        text-align: right;\n    }\n</style>\n<table border=\"1\" class=\"dataframe\">\n  <thead>\n    <tr style=\"text-align: right;\">\n      <th></th>\n      <th>location</th>\n      <th>total_cases</th>\n      <th>total_deaths</th>\n    </tr>\n  </thead>\n  <tbody>\n    <tr>\n      <th>0</th>\n      <td>Asia</td>\n      <td>295438685.0</td>\n      <td>1627329.0</td>\n    </tr>\n    <tr>\n      <th>1</th>\n      <td>Europe</td>\n      <td>247649657.0</td>\n      <td>2033047.0</td>\n    </tr>\n    <tr>\n      <th>2</th>\n      <td>European Union</td>\n      <td>183150392.0</td>\n      <td>1220782.0</td>\n    </tr>\n    <tr>\n      <th>3</th>\n      <td>North America</td>\n      <td>123272458.0</td>\n      <td>1590127.0</td>\n    </tr>\n    <tr>\n      <th>4</th>\n      <td>United States</td>\n      <td>102697566.0</td>\n      <td>1117054.0</td>\n    </tr>\n    <tr>\n      <th>...</th>\n      <td>...</td>\n      <td>...</td>\n      <td>...</td>\n    </tr>\n    <tr>\n      <th>234</th>\n      <td>Montserrat</td>\n      <td>1403.0</td>\n      <td>8.0</td>\n    </tr>\n    <tr>\n      <th>235</th>\n      <td>Niue</td>\n      <td>747.0</td>\n      <td>NaN</td>\n    </tr>\n    <tr>\n      <th>236</th>\n      <td>Vatican</td>\n      <td>26.0</td>\n      <td>NaN</td>\n    </tr>\n    <tr>\n      <th>237</th>\n      <td>Tokelau</td>\n      <td>5.0</td>\n      <td>NaN</td>\n    </tr>\n    <tr>\n      <th>238</th>\n      <td>Pitcairn</td>\n      <td>4.0</td>\n      <td>NaN</td>\n    </tr>\n  </tbody>\n</table>\n<p>239 rows × 3 columns</p>\n</div>"
          },
          "metadata": {}
        }
      ],
      "execution_count": 3,
      "block_group": "8cf65446371940a99e18c9f000a105e3"
    },
    {
      "cell_type": "markdown",
      "source": "### Trend Analysis Over Time\nAnalyze the trend of cases, deaths, and recoveries over time.",
      "metadata": {
        "noteable": {
          "cell_type": "markdown"
        },
        "cell_id": "26a583aa76e041539a1d1b06c60c1d16",
        "deepnote_cell_type": "markdown"
      },
      "block_group": "142a5e548bde44f49a82371f6ae89312"
    },
    {
      "cell_type": "code",
      "source": "df_4 = _deepnote_execute_sql('SELECT  date, \\n        SUM(new_cases) AS daily_cases, \\n        SUM(new_deaths) AS daily_deaths \\nFROM `covid19_data.covid19-data` \\nGROUP BY date\\nHAVING  daily_cases > 0 OR \\n        daily_deaths > 0 \\nORDER BY date;', 'SQL_E2E7BAC6_19C0_4753_95A0_157A1F88869C', audit_sql_comment='', sql_cache_mode='cache_disabled')\ndf_4",
      "metadata": {
        "source_hash": "df925819",
        "execution_start": 1703086350318,
        "execution_millis": 1860,
        "sql_integration_id": "e2e7bac6-19c0-4753-95a0-157a1f88869c",
        "deepnote_variable_name": "df_4",
        "deepnote_to_be_reexecuted": false,
        "cell_id": "f34171bf10e1453993091bc3508aaba0",
        "deepnote_cell_type": "sql",
        "deepnote_sql_source": "SELECT  date, \n        SUM(new_cases) AS daily_cases, \n        SUM(new_deaths) AS daily_deaths \nFROM `covid19_data.covid19-data` \nGROUP BY date\nHAVING  daily_cases > 0 OR \n        daily_deaths > 0 \nORDER BY date;"
      },
      "outputs": [
        {
          "data": {
            "application/vnd.deepnote.sql-output-metadata+json": {
              "status": "success_no_cache",
              "size_in_bytes": 65928
            }
          },
          "metadata": {},
          "output_type": "display_data"
        },
        {
          "output_type": "execute_result",
          "execution_count": 4,
          "data": {
            "application/vnd.deepnote.dataframe.v3+json": {
              "column_count": 3,
              "row_count": 1175,
              "columns": [
                {
                  "name": "date",
                  "dtype": "object",
                  "stats": {
                    "unique_count": 1175,
                    "nan_count": 0,
                    "categories": [
                      {
                        "name": "2020-01-04",
                        "count": 1
                      },
                      {
                        "name": "2020-01-06",
                        "count": 1
                      },
                      {
                        "name": "1173 others",
                        "count": 1173
                      }
                    ]
                  }
                },
                {
                  "name": "daily_cases",
                  "dtype": "float64",
                  "stats": {
                    "unique_count": 1173,
                    "nan_count": 0,
                    "min": "4.0",
                    "max": "31914171.0",
                    "histogram": [
                      {
                        "bin_start": 4,
                        "bin_end": 3191420.7,
                        "count": 947
                      },
                      {
                        "bin_start": 3191420.7,
                        "bin_end": 6382837.4,
                        "count": 128
                      },
                      {
                        "bin_start": 6382837.4,
                        "bin_end": 9574254.100000001,
                        "count": 47
                      },
                      {
                        "bin_start": 9574254.100000001,
                        "bin_end": 12765670.8,
                        "count": 19
                      },
                      {
                        "bin_start": 12765670.8,
                        "bin_end": 15957087.5,
                        "count": 19
                      },
                      {
                        "bin_start": 15957087.5,
                        "bin_end": 19148504.200000003,
                        "count": 6
                      },
                      {
                        "bin_start": 19148504.200000003,
                        "bin_end": 22339920.900000002,
                        "count": 4
                      },
                      {
                        "bin_start": 22339920.900000002,
                        "bin_end": 25531337.6,
                        "count": 1
                      },
                      {
                        "bin_start": 25531337.6,
                        "bin_end": 28722754.3,
                        "count": 3
                      },
                      {
                        "bin_start": 28722754.3,
                        "bin_end": 31914171,
                        "count": 1
                      }
                    ]
                  }
                },
                {
                  "name": "daily_deaths",
                  "dtype": "float64",
                  "stats": {
                    "unique_count": 1152,
                    "nan_count": 0,
                    "min": "0.0",
                    "max": "80128.0",
                    "histogram": [
                      {
                        "bin_start": 0,
                        "bin_end": 8012.8,
                        "count": 284
                      },
                      {
                        "bin_start": 8012.8,
                        "bin_end": 16025.6,
                        "count": 132
                      },
                      {
                        "bin_start": 16025.6,
                        "bin_end": 24038.4,
                        "count": 179
                      },
                      {
                        "bin_start": 24038.4,
                        "bin_end": 32051.2,
                        "count": 185
                      },
                      {
                        "bin_start": 32051.2,
                        "bin_end": 40064,
                        "count": 173
                      },
                      {
                        "bin_start": 40064,
                        "bin_end": 48076.8,
                        "count": 100
                      },
                      {
                        "bin_start": 48076.8,
                        "bin_end": 56089.6,
                        "count": 78
                      },
                      {
                        "bin_start": 56089.6,
                        "bin_end": 64102.4,
                        "count": 33
                      },
                      {
                        "bin_start": 64102.4,
                        "bin_end": 72115.2,
                        "count": 10
                      },
                      {
                        "bin_start": 72115.2,
                        "bin_end": 80128,
                        "count": 1
                      }
                    ]
                  }
                },
                {
                  "name": "_deepnote_index_column",
                  "dtype": "int64"
                }
              ],
              "rows": [
                {
                  "date": "2020-01-04",
                  "daily_cases": 14,
                  "daily_deaths": 0,
                  "_deepnote_index_column": 0
                },
                {
                  "date": "2020-01-06",
                  "daily_cases": 12,
                  "daily_deaths": 0,
                  "_deepnote_index_column": 1
                },
                {
                  "date": "2020-01-09",
                  "daily_cases": 5,
                  "daily_deaths": 0,
                  "_deepnote_index_column": 2
                },
                {
                  "date": "2020-01-11",
                  "daily_cases": 5,
                  "daily_deaths": 0,
                  "_deepnote_index_column": 3
                },
                {
                  "date": "2020-01-12",
                  "daily_cases": 169,
                  "daily_deaths": 4,
                  "_deepnote_index_column": 4
                },
                {
                  "date": "2020-01-13",
                  "daily_cases": 4,
                  "daily_deaths": 0,
                  "_deepnote_index_column": 5
                },
                {
                  "date": "2020-01-14",
                  "daily_cases": 25,
                  "daily_deaths": 0,
                  "_deepnote_index_column": 6
                },
                {
                  "date": "2020-01-17",
                  "daily_cases": 16,
                  "daily_deaths": 4,
                  "_deepnote_index_column": 7
                },
                {
                  "date": "2020-01-18",
                  "daily_cases": 16,
                  "daily_deaths": 0,
                  "_deepnote_index_column": 8
                },
                {
                  "date": "2020-01-19",
                  "daily_cases": 308,
                  "daily_deaths": 4,
                  "_deepnote_index_column": 9
                }
              ]
            },
            "text/plain": "            date  daily_cases  daily_deaths\n0     2020-01-04         14.0           0.0\n1     2020-01-06         12.0           0.0\n2     2020-01-09          5.0           0.0\n3     2020-01-11          5.0           0.0\n4     2020-01-12        169.0           4.0\n...          ...          ...           ...\n1170  2023-03-25     971312.0       11271.0\n1171  2023-03-26     271045.0        1047.0\n1172  2023-03-27     213504.0        1223.0\n1173  2023-03-28     120793.0         881.0\n1174  2023-03-29      10771.0         100.0\n\n[1175 rows x 3 columns]",
            "text/html": "<div>\n<style scoped>\n    .dataframe tbody tr th:only-of-type {\n        vertical-align: middle;\n    }\n\n    .dataframe tbody tr th {\n        vertical-align: top;\n    }\n\n    .dataframe thead th {\n        text-align: right;\n    }\n</style>\n<table border=\"1\" class=\"dataframe\">\n  <thead>\n    <tr style=\"text-align: right;\">\n      <th></th>\n      <th>date</th>\n      <th>daily_cases</th>\n      <th>daily_deaths</th>\n    </tr>\n  </thead>\n  <tbody>\n    <tr>\n      <th>0</th>\n      <td>2020-01-04</td>\n      <td>14.0</td>\n      <td>0.0</td>\n    </tr>\n    <tr>\n      <th>1</th>\n      <td>2020-01-06</td>\n      <td>12.0</td>\n      <td>0.0</td>\n    </tr>\n    <tr>\n      <th>2</th>\n      <td>2020-01-09</td>\n      <td>5.0</td>\n      <td>0.0</td>\n    </tr>\n    <tr>\n      <th>3</th>\n      <td>2020-01-11</td>\n      <td>5.0</td>\n      <td>0.0</td>\n    </tr>\n    <tr>\n      <th>4</th>\n      <td>2020-01-12</td>\n      <td>169.0</td>\n      <td>4.0</td>\n    </tr>\n    <tr>\n      <th>...</th>\n      <td>...</td>\n      <td>...</td>\n      <td>...</td>\n    </tr>\n    <tr>\n      <th>1170</th>\n      <td>2023-03-25</td>\n      <td>971312.0</td>\n      <td>11271.0</td>\n    </tr>\n    <tr>\n      <th>1171</th>\n      <td>2023-03-26</td>\n      <td>271045.0</td>\n      <td>1047.0</td>\n    </tr>\n    <tr>\n      <th>1172</th>\n      <td>2023-03-27</td>\n      <td>213504.0</td>\n      <td>1223.0</td>\n    </tr>\n    <tr>\n      <th>1173</th>\n      <td>2023-03-28</td>\n      <td>120793.0</td>\n      <td>881.0</td>\n    </tr>\n    <tr>\n      <th>1174</th>\n      <td>2023-03-29</td>\n      <td>10771.0</td>\n      <td>100.0</td>\n    </tr>\n  </tbody>\n</table>\n<p>1175 rows × 3 columns</p>\n</div>"
          },
          "metadata": {}
        }
      ],
      "execution_count": 4,
      "block_group": "aee6b2f29c68435d8bba7568ebfe0a7a"
    },
    {
      "cell_type": "markdown",
      "source": "### Yearly Trend Analysis\nAnalyze the trend of cases and deaths per year.",
      "metadata": {
        "noteable": {
          "cell_type": "markdown"
        },
        "cell_id": "c3d6fe3eea5a4d4ba4af06f246607b5b",
        "deepnote_cell_type": "markdown"
      },
      "block_group": "cf1f3fc0dcc2414cac2be6c115c2bc12"
    },
    {
      "cell_type": "code",
      "source": "df_5 = _deepnote_execute_sql('SELECT  EXTRACT(YEAR FROM date) AS year, \\n        SUM(new_cases) AS yearly_cases, \\n        SUM(new_deaths) AS yearly_deaths \\nFROM `covid19_data.covid19-data` \\nWHERE continent IS NOT NULL \\nGROUP BY year \\nORDER BY year;', 'SQL_E2E7BAC6_19C0_4753_95A0_157A1F88869C', audit_sql_comment='', sql_cache_mode='cache_disabled')\ndf_5",
      "metadata": {
        "source_hash": "71e4cedf",
        "execution_start": 1703086352237,
        "execution_millis": 1873,
        "sql_integration_id": "e2e7bac6-19c0-4753-95a0-157a1f88869c",
        "deepnote_variable_name": "df_5",
        "deepnote_to_be_reexecuted": false,
        "cell_id": "d7b7440b498f4537912a47e7df8677b5",
        "deepnote_cell_type": "sql",
        "deepnote_sql_source": "SELECT  EXTRACT(YEAR FROM date) AS year, \n        SUM(new_cases) AS yearly_cases, \n        SUM(new_deaths) AS yearly_deaths \nFROM `covid19_data.covid19-data` \nWHERE continent IS NOT NULL \nGROUP BY year \nORDER BY year;"
      },
      "outputs": [
        {
          "data": {
            "application/vnd.deepnote.sql-output-metadata+json": {
              "status": "success_no_cache",
              "size_in_bytes": 224
            }
          },
          "metadata": {},
          "output_type": "display_data"
        },
        {
          "output_type": "execute_result",
          "execution_count": 5,
          "data": {
            "application/vnd.deepnote.dataframe.v3+json": {
              "column_count": 3,
              "row_count": 4,
              "columns": [
                {
                  "name": "year",
                  "dtype": "int64",
                  "stats": {
                    "unique_count": 4,
                    "nan_count": 0,
                    "min": "2020",
                    "max": "2023",
                    "histogram": [
                      {
                        "bin_start": 2020,
                        "bin_end": 2020.3,
                        "count": 1
                      },
                      {
                        "bin_start": 2020.3,
                        "bin_end": 2020.6,
                        "count": 0
                      },
                      {
                        "bin_start": 2020.6,
                        "bin_end": 2020.9,
                        "count": 0
                      },
                      {
                        "bin_start": 2020.9,
                        "bin_end": 2021.2,
                        "count": 1
                      },
                      {
                        "bin_start": 2021.2,
                        "bin_end": 2021.5,
                        "count": 0
                      },
                      {
                        "bin_start": 2021.5,
                        "bin_end": 2021.8,
                        "count": 0
                      },
                      {
                        "bin_start": 2021.8,
                        "bin_end": 2022.1,
                        "count": 1
                      },
                      {
                        "bin_start": 2022.1,
                        "bin_end": 2022.4,
                        "count": 0
                      },
                      {
                        "bin_start": 2022.4,
                        "bin_end": 2022.7,
                        "count": 0
                      },
                      {
                        "bin_start": 2022.7,
                        "bin_end": 2023,
                        "count": 1
                      }
                    ]
                  }
                },
                {
                  "name": "yearly_cases",
                  "dtype": "float64",
                  "stats": {
                    "unique_count": 4,
                    "nan_count": 0,
                    "min": "31077318.0",
                    "max": "443212003.0",
                    "histogram": [
                      {
                        "bin_start": 31077318,
                        "bin_end": 72290786.5,
                        "count": 1
                      },
                      {
                        "bin_start": 72290786.5,
                        "bin_end": 113504255,
                        "count": 1
                      },
                      {
                        "bin_start": 113504255,
                        "bin_end": 154717723.5,
                        "count": 0
                      },
                      {
                        "bin_start": 154717723.5,
                        "bin_end": 195931192,
                        "count": 0
                      },
                      {
                        "bin_start": 195931192,
                        "bin_end": 237144660.5,
                        "count": 1
                      },
                      {
                        "bin_start": 237144660.5,
                        "bin_end": 278358129,
                        "count": 0
                      },
                      {
                        "bin_start": 278358129,
                        "bin_end": 319571597.5,
                        "count": 0
                      },
                      {
                        "bin_start": 319571597.5,
                        "bin_end": 360785066,
                        "count": 0
                      },
                      {
                        "bin_start": 360785066,
                        "bin_end": 401998534.5,
                        "count": 0
                      },
                      {
                        "bin_start": 401998534.5,
                        "bin_end": 443212003,
                        "count": 1
                      }
                    ]
                  }
                },
                {
                  "name": "yearly_deaths",
                  "dtype": "float64",
                  "stats": {
                    "unique_count": 4,
                    "nan_count": 0,
                    "min": "189446.0",
                    "max": "3522324.0",
                    "histogram": [
                      {
                        "bin_start": 189446,
                        "bin_end": 522733.8,
                        "count": 1
                      },
                      {
                        "bin_start": 522733.8,
                        "bin_end": 856021.6,
                        "count": 0
                      },
                      {
                        "bin_start": 856021.6,
                        "bin_end": 1189309.4,
                        "count": 0
                      },
                      {
                        "bin_start": 1189309.4,
                        "bin_end": 1522597.2,
                        "count": 1
                      },
                      {
                        "bin_start": 1522597.2,
                        "bin_end": 1855885,
                        "count": 0
                      },
                      {
                        "bin_start": 1855885,
                        "bin_end": 2189172.8,
                        "count": 1
                      },
                      {
                        "bin_start": 2189172.8,
                        "bin_end": 2522460.6,
                        "count": 0
                      },
                      {
                        "bin_start": 2522460.6,
                        "bin_end": 2855748.4,
                        "count": 0
                      },
                      {
                        "bin_start": 2855748.4,
                        "bin_end": 3189036.1999999997,
                        "count": 0
                      },
                      {
                        "bin_start": 3189036.1999999997,
                        "bin_end": 3522324,
                        "count": 1
                      }
                    ]
                  }
                },
                {
                  "name": "_deepnote_index_column",
                  "dtype": "int64"
                }
              ],
              "rows": [
                {
                  "year": 2020,
                  "yearly_cases": 82946139,
                  "yearly_deaths": 1928665,
                  "_deepnote_index_column": 0
                },
                {
                  "year": 2021,
                  "yearly_cases": 204181293,
                  "yearly_deaths": 3522324,
                  "_deepnote_index_column": 1
                },
                {
                  "year": 2022,
                  "yearly_cases": 443212003,
                  "yearly_deaths": 1249132,
                  "_deepnote_index_column": 2
                },
                {
                  "year": 2023,
                  "yearly_cases": 31077318,
                  "yearly_deaths": 189446,
                  "_deepnote_index_column": 3
                }
              ]
            },
            "text/plain": "   year  yearly_cases  yearly_deaths\n0  2020    82946139.0      1928665.0\n1  2021   204181293.0      3522324.0\n2  2022   443212003.0      1249132.0\n3  2023    31077318.0       189446.0",
            "text/html": "<div>\n<style scoped>\n    .dataframe tbody tr th:only-of-type {\n        vertical-align: middle;\n    }\n\n    .dataframe tbody tr th {\n        vertical-align: top;\n    }\n\n    .dataframe thead th {\n        text-align: right;\n    }\n</style>\n<table border=\"1\" class=\"dataframe\">\n  <thead>\n    <tr style=\"text-align: right;\">\n      <th></th>\n      <th>year</th>\n      <th>yearly_cases</th>\n      <th>yearly_deaths</th>\n    </tr>\n  </thead>\n  <tbody>\n    <tr>\n      <th>0</th>\n      <td>2020</td>\n      <td>82946139.0</td>\n      <td>1928665.0</td>\n    </tr>\n    <tr>\n      <th>1</th>\n      <td>2021</td>\n      <td>204181293.0</td>\n      <td>3522324.0</td>\n    </tr>\n    <tr>\n      <th>2</th>\n      <td>2022</td>\n      <td>443212003.0</td>\n      <td>1249132.0</td>\n    </tr>\n    <tr>\n      <th>3</th>\n      <td>2023</td>\n      <td>31077318.0</td>\n      <td>189446.0</td>\n    </tr>\n  </tbody>\n</table>\n</div>"
          },
          "metadata": {}
        }
      ],
      "execution_count": 5,
      "block_group": "b124873f630e4f43afef85808a558258"
    },
    {
      "cell_type": "markdown",
      "source": "### Monthly Trend Analysis\nAnalyze the trend of cases and deaths per month.",
      "metadata": {
        "noteable": {
          "cell_type": "markdown"
        },
        "cell_id": "d3305a42ac6c452c8ce9988c2855288e",
        "deepnote_cell_type": "markdown"
      },
      "block_group": "c85df6a84d184175bfadc3788ef7de3f"
    },
    {
      "cell_type": "code",
      "source": "df_6 = _deepnote_execute_sql('SELECT \\n    EXTRACT(YEAR FROM date) AS year, \\n    EXTRACT(MONTH FROM date) AS month,\\n    CASE EXTRACT(MONTH FROM date)\\n        WHEN 1 THEN \\'January\\'\\n        WHEN 2 THEN \\'February\\'\\n        WHEN 3 THEN \\'March\\'\\n        WHEN 4 THEN \\'April\\'\\n        WHEN 5 THEN \\'May\\'\\n        WHEN 6 THEN \\'June\\'\\n        WHEN 7 THEN \\'July\\'\\n        WHEN 8 THEN \\'August\\'\\n        WHEN 9 THEN \\'September\\'\\n        WHEN 10 THEN \\'October\\'\\n        WHEN 11 THEN \\'November\\'\\n        WHEN 12 THEN \\'December\\'\\n    END AS month_name,\\n    MAX(new_cases) AS monthly_cases, \\n    MAX(new_deaths) AS monthly_deaths \\nFROM `covid19_data.covid19-data` \\nGROUP BY year, month, month_name\\nORDER BY year, month, month_name;', 'SQL_E2E7BAC6_19C0_4753_95A0_157A1F88869C', audit_sql_comment='', sql_cache_mode='cache_disabled')\ndf_6",
      "metadata": {
        "source_hash": "e17d3bb1",
        "execution_start": 1703086432216,
        "execution_millis": 2039,
        "sql_integration_id": "e2e7bac6-19c0-4753-95a0-157a1f88869c",
        "deepnote_variable_name": "df_6",
        "deepnote_to_be_reexecuted": false,
        "cell_id": "e249e94a0eb74e44af69b9c5fd976047",
        "deepnote_cell_type": "sql",
        "deepnote_sql_source": "SELECT \n    EXTRACT(YEAR FROM date) AS year, \n    EXTRACT(MONTH FROM date) AS month,\n    CASE EXTRACT(MONTH FROM date)\n        WHEN 1 THEN 'January'\n        WHEN 2 THEN 'February'\n        WHEN 3 THEN 'March'\n        WHEN 4 THEN 'April'\n        WHEN 5 THEN 'May'\n        WHEN 6 THEN 'June'\n        WHEN 7 THEN 'July'\n        WHEN 8 THEN 'August'\n        WHEN 9 THEN 'September'\n        WHEN 10 THEN 'October'\n        WHEN 11 THEN 'November'\n        WHEN 12 THEN 'December'\n    END AS month_name,\n    MAX(new_cases) AS monthly_cases, \n    MAX(new_deaths) AS monthly_deaths \nFROM `covid19_data.covid19-data` \nGROUP BY year, month, month_name\nORDER BY year, month, month_name;"
      },
      "outputs": [
        {
          "data": {
            "application/vnd.deepnote.sql-output-metadata+json": {
              "status": "success_no_cache",
              "size_in_bytes": 3841
            }
          },
          "metadata": {},
          "output_type": "display_data"
        },
        {
          "output_type": "execute_result",
          "execution_count": 18,
          "data": {
            "application/vnd.deepnote.dataframe.v3+json": {
              "column_count": 5,
              "row_count": 39,
              "columns": [
                {
                  "name": "year",
                  "dtype": "int64",
                  "stats": {
                    "unique_count": 4,
                    "nan_count": 0,
                    "min": "2020",
                    "max": "2023",
                    "histogram": [
                      {
                        "bin_start": 2020,
                        "bin_end": 2020.3,
                        "count": 12
                      },
                      {
                        "bin_start": 2020.3,
                        "bin_end": 2020.6,
                        "count": 0
                      },
                      {
                        "bin_start": 2020.6,
                        "bin_end": 2020.9,
                        "count": 0
                      },
                      {
                        "bin_start": 2020.9,
                        "bin_end": 2021.2,
                        "count": 12
                      },
                      {
                        "bin_start": 2021.2,
                        "bin_end": 2021.5,
                        "count": 0
                      },
                      {
                        "bin_start": 2021.5,
                        "bin_end": 2021.8,
                        "count": 0
                      },
                      {
                        "bin_start": 2021.8,
                        "bin_end": 2022.1,
                        "count": 12
                      },
                      {
                        "bin_start": 2022.1,
                        "bin_end": 2022.4,
                        "count": 0
                      },
                      {
                        "bin_start": 2022.4,
                        "bin_end": 2022.7,
                        "count": 0
                      },
                      {
                        "bin_start": 2022.7,
                        "bin_end": 2023,
                        "count": 3
                      }
                    ]
                  }
                },
                {
                  "name": "month",
                  "dtype": "int64",
                  "stats": {
                    "unique_count": 12,
                    "nan_count": 0,
                    "min": "1",
                    "max": "12",
                    "histogram": [
                      {
                        "bin_start": 1,
                        "bin_end": 2.1,
                        "count": 8
                      },
                      {
                        "bin_start": 2.1,
                        "bin_end": 3.2,
                        "count": 4
                      },
                      {
                        "bin_start": 3.2,
                        "bin_end": 4.300000000000001,
                        "count": 3
                      },
                      {
                        "bin_start": 4.300000000000001,
                        "bin_end": 5.4,
                        "count": 3
                      },
                      {
                        "bin_start": 5.4,
                        "bin_end": 6.5,
                        "count": 3
                      },
                      {
                        "bin_start": 6.5,
                        "bin_end": 7.6000000000000005,
                        "count": 3
                      },
                      {
                        "bin_start": 7.6000000000000005,
                        "bin_end": 8.700000000000001,
                        "count": 3
                      },
                      {
                        "bin_start": 8.700000000000001,
                        "bin_end": 9.8,
                        "count": 3
                      },
                      {
                        "bin_start": 9.8,
                        "bin_end": 10.9,
                        "count": 3
                      },
                      {
                        "bin_start": 10.9,
                        "bin_end": 12,
                        "count": 6
                      }
                    ]
                  }
                },
                {
                  "name": "month_name",
                  "dtype": "object",
                  "stats": {
                    "unique_count": 12,
                    "nan_count": 0,
                    "categories": [
                      {
                        "name": "January",
                        "count": 4
                      },
                      {
                        "name": "February",
                        "count": 4
                      },
                      {
                        "name": "10 others",
                        "count": 31
                      }
                    ]
                  }
                },
                {
                  "name": "monthly_cases",
                  "dtype": "float64",
                  "stats": {
                    "unique_count": 39,
                    "nan_count": 0,
                    "min": "2013.0",
                    "max": "7946354.0",
                    "histogram": [
                      {
                        "bin_start": 2013,
                        "bin_end": 796447.1,
                        "count": 26
                      },
                      {
                        "bin_start": 796447.1,
                        "bin_end": 1590881.2,
                        "count": 7
                      },
                      {
                        "bin_start": 1590881.2,
                        "bin_end": 2385315.3,
                        "count": 2
                      },
                      {
                        "bin_start": 2385315.3,
                        "bin_end": 3179749.4,
                        "count": 1
                      },
                      {
                        "bin_start": 3179749.4,
                        "bin_end": 3974183.5,
                        "count": 1
                      },
                      {
                        "bin_start": 3974183.5,
                        "bin_end": 4768617.6,
                        "count": 1
                      },
                      {
                        "bin_start": 4768617.6,
                        "bin_end": 5563051.7,
                        "count": 0
                      },
                      {
                        "bin_start": 5563051.7,
                        "bin_end": 6357485.8,
                        "count": 0
                      },
                      {
                        "bin_start": 6357485.8,
                        "bin_end": 7151919.899999999,
                        "count": 0
                      },
                      {
                        "bin_start": 7151919.899999999,
                        "bin_end": 7946354,
                        "count": 1
                      }
                    ]
                  }
                },
                {
                  "name": "monthly_deaths",
                  "dtype": "float64",
                  "stats": {
                    "unique_count": 39,
                    "nan_count": 0,
                    "min": "49.0",
                    "max": "20005.0",
                    "histogram": [
                      {
                        "bin_start": 49,
                        "bin_end": 2044.6,
                        "count": 3
                      },
                      {
                        "bin_start": 2044.6,
                        "bin_end": 4040.2,
                        "count": 6
                      },
                      {
                        "bin_start": 4040.2,
                        "bin_end": 6035.799999999999,
                        "count": 3
                      },
                      {
                        "bin_start": 6035.799999999999,
                        "bin_end": 8031.4,
                        "count": 7
                      },
                      {
                        "bin_start": 8031.4,
                        "bin_end": 10027,
                        "count": 5
                      },
                      {
                        "bin_start": 10027,
                        "bin_end": 12022.599999999999,
                        "count": 6
                      },
                      {
                        "bin_start": 12022.599999999999,
                        "bin_end": 14018.199999999999,
                        "count": 3
                      },
                      {
                        "bin_start": 14018.199999999999,
                        "bin_end": 16013.8,
                        "count": 4
                      },
                      {
                        "bin_start": 16013.8,
                        "bin_end": 18009.399999999998,
                        "count": 1
                      },
                      {
                        "bin_start": 18009.399999999998,
                        "bin_end": 20005,
                        "count": 1
                      }
                    ]
                  }
                },
                {
                  "name": "_deepnote_index_column",
                  "dtype": "int64"
                }
              ],
              "rows": [
                {
                  "year": 2020,
                  "month": 1,
                  "month_name": "January",
                  "monthly_cases": 2013,
                  "monthly_deaths": 49,
                  "_deepnote_index_column": 0
                },
                {
                  "year": 2020,
                  "month": 2,
                  "month_name": "February",
                  "monthly_cases": 15160,
                  "monthly_deaths": 253,
                  "_deepnote_index_column": 1
                },
                {
                  "year": 2020,
                  "month": 3,
                  "month_name": "March",
                  "monthly_cases": 66957,
                  "monthly_deaths": 4478,
                  "_deepnote_index_column": 2
                },
                {
                  "year": 2020,
                  "month": 4,
                  "month_name": "April",
                  "monthly_cases": 97060,
                  "monthly_deaths": 8485,
                  "_deepnote_index_column": 3
                },
                {
                  "year": 2020,
                  "month": 5,
                  "month_name": "May",
                  "monthly_cases": 121814,
                  "monthly_deaths": 6431,
                  "_deepnote_index_column": 4
                },
                {
                  "year": 2020,
                  "month": 6,
                  "month_name": "June",
                  "monthly_cases": 194997,
                  "monthly_deaths": 7111,
                  "_deepnote_index_column": 5
                },
                {
                  "year": 2020,
                  "month": 7,
                  "month_name": "July",
                  "monthly_cases": 302280,
                  "monthly_deaths": 7694,
                  "_deepnote_index_column": 6
                },
                {
                  "year": 2020,
                  "month": 8,
                  "month_name": "August",
                  "monthly_cases": 297842,
                  "monthly_deaths": 7153,
                  "_deepnote_index_column": 7
                },
                {
                  "year": 2020,
                  "month": 9,
                  "month_name": "September",
                  "monthly_cases": 329810,
                  "monthly_deaths": 9241,
                  "_deepnote_index_column": 8
                },
                {
                  "year": 2020,
                  "month": 10,
                  "month_name": "October",
                  "monthly_cases": 546392,
                  "monthly_deaths": 7675,
                  "_deepnote_index_column": 9
                }
              ]
            },
            "text/plain": "    year  month month_name  monthly_cases  monthly_deaths\n0   2020      1    January         2013.0            49.0\n1   2020      2   February        15160.0           253.0\n2   2020      3      March        66957.0          4478.0\n3   2020      4      April        97060.0          8485.0\n4   2020      5        May       121814.0          6431.0\n5   2020      6       June       194997.0          7111.0\n6   2020      7       July       302280.0          7694.0\n7   2020      8     August       297842.0          7153.0\n8   2020      9  September       329810.0          9241.0\n9   2020     10    October       546392.0          7675.0\n10  2020     11   November       660850.0         11922.0\n11  2020     12   December       736420.0         14280.0\n12  2021      1    January       802945.0         16312.0\n13  2021      2   February       499303.0         13604.0\n14  2021      3      March       615132.0         10858.0\n15  2021      4      April       887945.0         15076.0\n16  2021      5        May       844092.0         14835.0\n17  2021      6       June       479487.0         13674.0\n18  2021      7       July       660887.0         20005.0\n19  2021      8     August       735247.0         11038.0\n20  2021      9  September       693901.0         10726.0\n21  2021     10    October       511409.0          8845.0\n22  2021     11   November       734279.0         10307.0\n23  2021     12   December      1847717.0          9288.0\n24  2022      1    January      4036051.0         11019.0\n25  2022      2   February      3392922.0         13105.0\n26  2022      3      March      2178943.0         15271.0\n27  2022      4      April      1393057.0          4713.0\n28  2022      5        May       688563.0          2385.0\n29  2022      6       June       885427.0          2034.0\n30  2022      7       July      1388219.0          3110.0\n31  2022      8     August      1327732.0          3254.0\n32  2022      9  September       656368.0          2387.0\n33  2022     10    October       579493.0          4355.0\n34  2022     11   November       603450.0          3617.0\n35  2022     12   December      7946354.0          6228.0\n36  2023      1    January      2541540.0          8713.0\n37  2023      2   February       445228.0          7924.0\n38  2023      3      March       325335.0          3099.0",
            "text/html": "<div>\n<style scoped>\n    .dataframe tbody tr th:only-of-type {\n        vertical-align: middle;\n    }\n\n    .dataframe tbody tr th {\n        vertical-align: top;\n    }\n\n    .dataframe thead th {\n        text-align: right;\n    }\n</style>\n<table border=\"1\" class=\"dataframe\">\n  <thead>\n    <tr style=\"text-align: right;\">\n      <th></th>\n      <th>year</th>\n      <th>month</th>\n      <th>month_name</th>\n      <th>monthly_cases</th>\n      <th>monthly_deaths</th>\n    </tr>\n  </thead>\n  <tbody>\n    <tr>\n      <th>0</th>\n      <td>2020</td>\n      <td>1</td>\n      <td>January</td>\n      <td>2013.0</td>\n      <td>49.0</td>\n    </tr>\n    <tr>\n      <th>1</th>\n      <td>2020</td>\n      <td>2</td>\n      <td>February</td>\n      <td>15160.0</td>\n      <td>253.0</td>\n    </tr>\n    <tr>\n      <th>2</th>\n      <td>2020</td>\n      <td>3</td>\n      <td>March</td>\n      <td>66957.0</td>\n      <td>4478.0</td>\n    </tr>\n    <tr>\n      <th>3</th>\n      <td>2020</td>\n      <td>4</td>\n      <td>April</td>\n      <td>97060.0</td>\n      <td>8485.0</td>\n    </tr>\n    <tr>\n      <th>4</th>\n      <td>2020</td>\n      <td>5</td>\n      <td>May</td>\n      <td>121814.0</td>\n      <td>6431.0</td>\n    </tr>\n    <tr>\n      <th>5</th>\n      <td>2020</td>\n      <td>6</td>\n      <td>June</td>\n      <td>194997.0</td>\n      <td>7111.0</td>\n    </tr>\n    <tr>\n      <th>6</th>\n      <td>2020</td>\n      <td>7</td>\n      <td>July</td>\n      <td>302280.0</td>\n      <td>7694.0</td>\n    </tr>\n    <tr>\n      <th>7</th>\n      <td>2020</td>\n      <td>8</td>\n      <td>August</td>\n      <td>297842.0</td>\n      <td>7153.0</td>\n    </tr>\n    <tr>\n      <th>8</th>\n      <td>2020</td>\n      <td>9</td>\n      <td>September</td>\n      <td>329810.0</td>\n      <td>9241.0</td>\n    </tr>\n    <tr>\n      <th>9</th>\n      <td>2020</td>\n      <td>10</td>\n      <td>October</td>\n      <td>546392.0</td>\n      <td>7675.0</td>\n    </tr>\n    <tr>\n      <th>10</th>\n      <td>2020</td>\n      <td>11</td>\n      <td>November</td>\n      <td>660850.0</td>\n      <td>11922.0</td>\n    </tr>\n    <tr>\n      <th>11</th>\n      <td>2020</td>\n      <td>12</td>\n      <td>December</td>\n      <td>736420.0</td>\n      <td>14280.0</td>\n    </tr>\n    <tr>\n      <th>12</th>\n      <td>2021</td>\n      <td>1</td>\n      <td>January</td>\n      <td>802945.0</td>\n      <td>16312.0</td>\n    </tr>\n    <tr>\n      <th>13</th>\n      <td>2021</td>\n      <td>2</td>\n      <td>February</td>\n      <td>499303.0</td>\n      <td>13604.0</td>\n    </tr>\n    <tr>\n      <th>14</th>\n      <td>2021</td>\n      <td>3</td>\n      <td>March</td>\n      <td>615132.0</td>\n      <td>10858.0</td>\n    </tr>\n    <tr>\n      <th>15</th>\n      <td>2021</td>\n      <td>4</td>\n      <td>April</td>\n      <td>887945.0</td>\n      <td>15076.0</td>\n    </tr>\n    <tr>\n      <th>16</th>\n      <td>2021</td>\n      <td>5</td>\n      <td>May</td>\n      <td>844092.0</td>\n      <td>14835.0</td>\n    </tr>\n    <tr>\n      <th>17</th>\n      <td>2021</td>\n      <td>6</td>\n      <td>June</td>\n      <td>479487.0</td>\n      <td>13674.0</td>\n    </tr>\n    <tr>\n      <th>18</th>\n      <td>2021</td>\n      <td>7</td>\n      <td>July</td>\n      <td>660887.0</td>\n      <td>20005.0</td>\n    </tr>\n    <tr>\n      <th>19</th>\n      <td>2021</td>\n      <td>8</td>\n      <td>August</td>\n      <td>735247.0</td>\n      <td>11038.0</td>\n    </tr>\n    <tr>\n      <th>20</th>\n      <td>2021</td>\n      <td>9</td>\n      <td>September</td>\n      <td>693901.0</td>\n      <td>10726.0</td>\n    </tr>\n    <tr>\n      <th>21</th>\n      <td>2021</td>\n      <td>10</td>\n      <td>October</td>\n      <td>511409.0</td>\n      <td>8845.0</td>\n    </tr>\n    <tr>\n      <th>22</th>\n      <td>2021</td>\n      <td>11</td>\n      <td>November</td>\n      <td>734279.0</td>\n      <td>10307.0</td>\n    </tr>\n    <tr>\n      <th>23</th>\n      <td>2021</td>\n      <td>12</td>\n      <td>December</td>\n      <td>1847717.0</td>\n      <td>9288.0</td>\n    </tr>\n    <tr>\n      <th>24</th>\n      <td>2022</td>\n      <td>1</td>\n      <td>January</td>\n      <td>4036051.0</td>\n      <td>11019.0</td>\n    </tr>\n    <tr>\n      <th>25</th>\n      <td>2022</td>\n      <td>2</td>\n      <td>February</td>\n      <td>3392922.0</td>\n      <td>13105.0</td>\n    </tr>\n    <tr>\n      <th>26</th>\n      <td>2022</td>\n      <td>3</td>\n      <td>March</td>\n      <td>2178943.0</td>\n      <td>15271.0</td>\n    </tr>\n    <tr>\n      <th>27</th>\n      <td>2022</td>\n      <td>4</td>\n      <td>April</td>\n      <td>1393057.0</td>\n      <td>4713.0</td>\n    </tr>\n    <tr>\n      <th>28</th>\n      <td>2022</td>\n      <td>5</td>\n      <td>May</td>\n      <td>688563.0</td>\n      <td>2385.0</td>\n    </tr>\n    <tr>\n      <th>29</th>\n      <td>2022</td>\n      <td>6</td>\n      <td>June</td>\n      <td>885427.0</td>\n      <td>2034.0</td>\n    </tr>\n    <tr>\n      <th>30</th>\n      <td>2022</td>\n      <td>7</td>\n      <td>July</td>\n      <td>1388219.0</td>\n      <td>3110.0</td>\n    </tr>\n    <tr>\n      <th>31</th>\n      <td>2022</td>\n      <td>8</td>\n      <td>August</td>\n      <td>1327732.0</td>\n      <td>3254.0</td>\n    </tr>\n    <tr>\n      <th>32</th>\n      <td>2022</td>\n      <td>9</td>\n      <td>September</td>\n      <td>656368.0</td>\n      <td>2387.0</td>\n    </tr>\n    <tr>\n      <th>33</th>\n      <td>2022</td>\n      <td>10</td>\n      <td>October</td>\n      <td>579493.0</td>\n      <td>4355.0</td>\n    </tr>\n    <tr>\n      <th>34</th>\n      <td>2022</td>\n      <td>11</td>\n      <td>November</td>\n      <td>603450.0</td>\n      <td>3617.0</td>\n    </tr>\n    <tr>\n      <th>35</th>\n      <td>2022</td>\n      <td>12</td>\n      <td>December</td>\n      <td>7946354.0</td>\n      <td>6228.0</td>\n    </tr>\n    <tr>\n      <th>36</th>\n      <td>2023</td>\n      <td>1</td>\n      <td>January</td>\n      <td>2541540.0</td>\n      <td>8713.0</td>\n    </tr>\n    <tr>\n      <th>37</th>\n      <td>2023</td>\n      <td>2</td>\n      <td>February</td>\n      <td>445228.0</td>\n      <td>7924.0</td>\n    </tr>\n    <tr>\n      <th>38</th>\n      <td>2023</td>\n      <td>3</td>\n      <td>March</td>\n      <td>325335.0</td>\n      <td>3099.0</td>\n    </tr>\n  </tbody>\n</table>\n</div>"
          },
          "metadata": {}
        }
      ],
      "execution_count": 18,
      "block_group": "fdecff3c21bc4d8bb6cbd73decc34b8b"
    },
    {
      "cell_type": "markdown",
      "source": "### Case Fatality Rate by Country\nCalculate the case fatality rate for each country.",
      "metadata": {
        "noteable": {
          "cell_type": "markdown"
        },
        "cell_id": "3a04430d8a1d4a0db2639de9fc7fdc47",
        "deepnote_cell_type": "markdown"
      },
      "block_group": "e05394e09b67496bbe31e2322468efe6"
    },
    {
      "cell_type": "code",
      "source": "df_7 = _deepnote_execute_sql('SELECT  location, \\n        SAFE_DIVIDE(MAX(total_deaths), MAX(total_cases)) * 100 AS fatality_rate \\nFROM `covid19_data.covid19-data` \\nGROUP BY location \\nHAVING MAX(total_cases) > 0 \\nORDER BY fatality_rate DESC;', 'SQL_E2E7BAC6_19C0_4753_95A0_157A1F88869C', audit_sql_comment='', sql_cache_mode='cache_disabled')\ndf_7",
      "metadata": {
        "source_hash": "946c605e",
        "execution_start": 1703086356070,
        "execution_millis": 1890,
        "sql_integration_id": "e2e7bac6-19c0-4753-95a0-157a1f88869c",
        "deepnote_variable_name": "df_7",
        "deepnote_to_be_reexecuted": false,
        "cell_id": "e63dfba8fc264945aaaa5172330a308e",
        "deepnote_cell_type": "sql",
        "deepnote_sql_source": "SELECT  location, \n        SAFE_DIVIDE(MAX(total_deaths), MAX(total_cases)) * 100 AS fatality_rate \nFROM `covid19_data.covid19-data` \nGROUP BY location \nHAVING MAX(total_cases) > 0 \nORDER BY fatality_rate DESC;"
      },
      "outputs": [
        {
          "data": {
            "application/vnd.deepnote.sql-output-metadata+json": {
              "status": "success_no_cache",
              "size_in_bytes": 18259
            }
          },
          "metadata": {},
          "output_type": "display_data"
        },
        {
          "output_type": "execute_result",
          "execution_count": 7,
          "data": {
            "application/vnd.deepnote.dataframe.v3+json": {
              "column_count": 2,
              "row_count": 244,
              "columns": [
                {
                  "name": "location",
                  "dtype": "object",
                  "stats": {
                    "unique_count": 244,
                    "nan_count": 0,
                    "categories": [
                      {
                        "name": "Yemen",
                        "count": 1
                      },
                      {
                        "name": "Sudan",
                        "count": 1
                      },
                      {
                        "name": "242 others",
                        "count": 242
                      }
                    ]
                  }
                },
                {
                  "name": "fatality_rate",
                  "dtype": "float64",
                  "stats": {
                    "unique_count": 237,
                    "nan_count": 7,
                    "min": "0.018542555164101613",
                    "max": "18.07450816241105",
                    "histogram": [
                      {
                        "bin_start": 0.018542555164101613,
                        "bin_end": 1.8241391158887963,
                        "count": 181
                      },
                      {
                        "bin_start": 1.8241391158887963,
                        "bin_end": 3.6297356766134907,
                        "count": 46
                      },
                      {
                        "bin_start": 3.6297356766134907,
                        "bin_end": 5.435332237338185,
                        "count": 7
                      },
                      {
                        "bin_start": 5.435332237338185,
                        "bin_end": 7.24092879806288,
                        "count": 1
                      },
                      {
                        "bin_start": 7.24092879806288,
                        "bin_end": 9.046525358787575,
                        "count": 1
                      },
                      {
                        "bin_start": 9.046525358787575,
                        "bin_end": 10.85212191951227,
                        "count": 0
                      },
                      {
                        "bin_start": 10.85212191951227,
                        "bin_end": 12.657718480236964,
                        "count": 0
                      },
                      {
                        "bin_start": 12.657718480236964,
                        "bin_end": 14.463315040961659,
                        "count": 0
                      },
                      {
                        "bin_start": 14.463315040961659,
                        "bin_end": 16.268911601686355,
                        "count": 0
                      },
                      {
                        "bin_start": 16.268911601686355,
                        "bin_end": 18.07450816241105,
                        "count": 1
                      }
                    ]
                  }
                },
                {
                  "name": "_deepnote_index_column",
                  "dtype": "int64"
                }
              ],
              "rows": [
                {
                  "location": "Yemen",
                  "fatality_rate": 18.07450816241105,
                  "_deepnote_index_column": 0
                },
                {
                  "location": "Sudan",
                  "fatality_rate": 7.875222927943431,
                  "_deepnote_index_column": 1
                },
                {
                  "location": "Syria",
                  "fatality_rate": 5.508245824843703,
                  "_deepnote_index_column": 2
                },
                {
                  "location": "Somalia",
                  "fatality_rate": 4.979146850076828,
                  "_deepnote_index_column": 3
                },
                {
                  "location": "Peru",
                  "fatality_rate": 4.892207835289146,
                  "_deepnote_index_column": 4
                },
                {
                  "location": "Egypt",
                  "fatality_rate": 4.81137159272857,
                  "_deepnote_index_column": 5
                },
                {
                  "location": "Mexico",
                  "fatality_rate": 4.429517719784508,
                  "_deepnote_index_column": 6
                },
                {
                  "location": "Bosnia and Herzegovina",
                  "fatality_rate": 4.055452203066087,
                  "_deepnote_index_column": 7
                },
                {
                  "location": "Afghanistan",
                  "fatality_rate": 3.750101103334745,
                  "_deepnote_index_column": 8
                },
                {
                  "location": "Liberia",
                  "fatality_rate": 3.634116192830655,
                  "_deepnote_index_column": 9
                }
              ]
            },
            "text/plain": "             location  fatality_rate\n0               Yemen      18.074508\n1               Sudan       7.875223\n2               Syria       5.508246\n3             Somalia       4.979147\n4                Peru       4.892208\n..                ...            ...\n239              Niue            NaN\n240          Pitcairn            NaN\n241           Tokelau            NaN\n242            Tuvalu            NaN\n243  Falkland Islands            NaN\n\n[244 rows x 2 columns]",
            "text/html": "<div>\n<style scoped>\n    .dataframe tbody tr th:only-of-type {\n        vertical-align: middle;\n    }\n\n    .dataframe tbody tr th {\n        vertical-align: top;\n    }\n\n    .dataframe thead th {\n        text-align: right;\n    }\n</style>\n<table border=\"1\" class=\"dataframe\">\n  <thead>\n    <tr style=\"text-align: right;\">\n      <th></th>\n      <th>location</th>\n      <th>fatality_rate</th>\n    </tr>\n  </thead>\n  <tbody>\n    <tr>\n      <th>0</th>\n      <td>Yemen</td>\n      <td>18.074508</td>\n    </tr>\n    <tr>\n      <th>1</th>\n      <td>Sudan</td>\n      <td>7.875223</td>\n    </tr>\n    <tr>\n      <th>2</th>\n      <td>Syria</td>\n      <td>5.508246</td>\n    </tr>\n    <tr>\n      <th>3</th>\n      <td>Somalia</td>\n      <td>4.979147</td>\n    </tr>\n    <tr>\n      <th>4</th>\n      <td>Peru</td>\n      <td>4.892208</td>\n    </tr>\n    <tr>\n      <th>...</th>\n      <td>...</td>\n      <td>...</td>\n    </tr>\n    <tr>\n      <th>239</th>\n      <td>Niue</td>\n      <td>NaN</td>\n    </tr>\n    <tr>\n      <th>240</th>\n      <td>Pitcairn</td>\n      <td>NaN</td>\n    </tr>\n    <tr>\n      <th>241</th>\n      <td>Tokelau</td>\n      <td>NaN</td>\n    </tr>\n    <tr>\n      <th>242</th>\n      <td>Tuvalu</td>\n      <td>NaN</td>\n    </tr>\n    <tr>\n      <th>243</th>\n      <td>Falkland Islands</td>\n      <td>NaN</td>\n    </tr>\n  </tbody>\n</table>\n<p>244 rows × 2 columns</p>\n</div>"
          },
          "metadata": {}
        }
      ],
      "execution_count": 7,
      "block_group": "9ea9b2803e92455a86d2dac8f109aaae"
    },
    {
      "cell_type": "markdown",
      "source": "### Peak Case Days\nIdentify days with the highest number of cases.",
      "metadata": {
        "noteable": {
          "cell_type": "markdown"
        },
        "cell_id": "752fae0d34b2438685a7153b4c8e3984",
        "deepnote_cell_type": "markdown"
      },
      "block_group": "9cfdd05f27304115b699c7bee1e51834"
    },
    {
      "cell_type": "code",
      "source": "df_8 = _deepnote_execute_sql('SELECT  date, \\n        MAX(new_cases) AS peak_cases \\nFROM `covid19_data.covid19-data` \\nGROUP BY date \\nORDER BY peak_cases DESC;', 'SQL_E2E7BAC6_19C0_4753_95A0_157A1F88869C', audit_sql_comment='', sql_cache_mode='cache_disabled')\ndf_8",
      "metadata": {
        "source_hash": "17761bdf",
        "execution_start": 1703086357971,
        "execution_millis": 2805,
        "sql_integration_id": "e2e7bac6-19c0-4753-95a0-157a1f88869c",
        "deepnote_variable_name": "df_8",
        "deepnote_to_be_reexecuted": false,
        "cell_id": "ab94e29c6a2b4bae85fba1a261231550",
        "deepnote_cell_type": "sql",
        "deepnote_sql_source": "SELECT  date, \n        MAX(new_cases) AS peak_cases \nFROM `covid19_data.covid19-data` \nGROUP BY date \nORDER BY peak_cases DESC;"
      },
      "outputs": [
        {
          "data": {
            "application/vnd.deepnote.sql-output-metadata+json": {
              "status": "success_no_cache",
              "size_in_bytes": 57008
            }
          },
          "metadata": {},
          "output_type": "display_data"
        },
        {
          "output_type": "execute_result",
          "execution_count": 8,
          "data": {
            "application/vnd.deepnote.dataframe.v3+json": {
              "column_count": 2,
              "row_count": 1185,
              "columns": [
                {
                  "name": "date",
                  "dtype": "object",
                  "stats": {
                    "unique_count": 1185,
                    "nan_count": 0,
                    "categories": [
                      {
                        "name": "2022-12-23",
                        "count": 1
                      },
                      {
                        "name": "2022-12-22",
                        "count": 1
                      },
                      {
                        "name": "1183 others",
                        "count": 1183
                      }
                    ]
                  }
                },
                {
                  "name": "peak_cases",
                  "dtype": "float64",
                  "stats": {
                    "unique_count": 1171,
                    "nan_count": 3,
                    "min": "0.0",
                    "max": "7946354.0",
                    "histogram": [
                      {
                        "bin_start": 0,
                        "bin_end": 794635.4,
                        "count": 972
                      },
                      {
                        "bin_start": 794635.4,
                        "bin_end": 1589270.8,
                        "count": 117
                      },
                      {
                        "bin_start": 1589270.8,
                        "bin_end": 2383906.2,
                        "count": 43
                      },
                      {
                        "bin_start": 2383906.2,
                        "bin_end": 3178541.6,
                        "count": 26
                      },
                      {
                        "bin_start": 3178541.6,
                        "bin_end": 3973177,
                        "count": 13
                      },
                      {
                        "bin_start": 3973177,
                        "bin_end": 4767812.4,
                        "count": 2
                      },
                      {
                        "bin_start": 4767812.4,
                        "bin_end": 5562447.8,
                        "count": 4
                      },
                      {
                        "bin_start": 5562447.8,
                        "bin_end": 6357083.2,
                        "count": 1
                      },
                      {
                        "bin_start": 6357083.2,
                        "bin_end": 7151718.600000001,
                        "count": 3
                      },
                      {
                        "bin_start": 7151718.600000001,
                        "bin_end": 7946354,
                        "count": 1
                      }
                    ]
                  }
                },
                {
                  "name": "_deepnote_index_column",
                  "dtype": "int64"
                }
              ],
              "rows": [
                {
                  "date": "2022-12-23",
                  "peak_cases": 7946354,
                  "_deepnote_index_column": 0
                },
                {
                  "date": "2022-12-22",
                  "peak_cases": 6946847,
                  "_deepnote_index_column": 1
                },
                {
                  "date": "2022-12-24",
                  "peak_cases": 6830203,
                  "_deepnote_index_column": 2
                },
                {
                  "date": "2022-12-21",
                  "peak_cases": 6462746,
                  "_deepnote_index_column": 3
                },
                {
                  "date": "2022-12-25",
                  "peak_cases": 6112754,
                  "_deepnote_index_column": 4
                },
                {
                  "date": "2022-12-20",
                  "peak_cases": 5506513,
                  "_deepnote_index_column": 5
                },
                {
                  "date": "2022-12-26",
                  "peak_cases": 5009604,
                  "_deepnote_index_column": 6
                },
                {
                  "date": "2022-12-28",
                  "peak_cases": 4891702,
                  "_deepnote_index_column": 7
                },
                {
                  "date": "2022-12-27",
                  "peak_cases": 4881862,
                  "_deepnote_index_column": 8
                },
                {
                  "date": "2022-12-19",
                  "peak_cases": 4456268,
                  "_deepnote_index_column": 9
                }
              ]
            },
            "text/plain": "            date  peak_cases\n0     2022-12-23   7946354.0\n1     2022-12-22   6946847.0\n2     2022-12-24   6830203.0\n3     2022-12-21   6462746.0\n4     2022-12-25   6112754.0\n...          ...         ...\n1180  2020-01-15         0.0\n1181  2020-01-16         0.0\n1182  2023-03-30         NaN\n1183  2020-01-01         NaN\n1184  2020-01-02         NaN\n\n[1185 rows x 2 columns]",
            "text/html": "<div>\n<style scoped>\n    .dataframe tbody tr th:only-of-type {\n        vertical-align: middle;\n    }\n\n    .dataframe tbody tr th {\n        vertical-align: top;\n    }\n\n    .dataframe thead th {\n        text-align: right;\n    }\n</style>\n<table border=\"1\" class=\"dataframe\">\n  <thead>\n    <tr style=\"text-align: right;\">\n      <th></th>\n      <th>date</th>\n      <th>peak_cases</th>\n    </tr>\n  </thead>\n  <tbody>\n    <tr>\n      <th>0</th>\n      <td>2022-12-23</td>\n      <td>7946354.0</td>\n    </tr>\n    <tr>\n      <th>1</th>\n      <td>2022-12-22</td>\n      <td>6946847.0</td>\n    </tr>\n    <tr>\n      <th>2</th>\n      <td>2022-12-24</td>\n      <td>6830203.0</td>\n    </tr>\n    <tr>\n      <th>3</th>\n      <td>2022-12-21</td>\n      <td>6462746.0</td>\n    </tr>\n    <tr>\n      <th>4</th>\n      <td>2022-12-25</td>\n      <td>6112754.0</td>\n    </tr>\n    <tr>\n      <th>...</th>\n      <td>...</td>\n      <td>...</td>\n    </tr>\n    <tr>\n      <th>1180</th>\n      <td>2020-01-15</td>\n      <td>0.0</td>\n    </tr>\n    <tr>\n      <th>1181</th>\n      <td>2020-01-16</td>\n      <td>0.0</td>\n    </tr>\n    <tr>\n      <th>1182</th>\n      <td>2023-03-30</td>\n      <td>NaN</td>\n    </tr>\n    <tr>\n      <th>1183</th>\n      <td>2020-01-01</td>\n      <td>NaN</td>\n    </tr>\n    <tr>\n      <th>1184</th>\n      <td>2020-01-02</td>\n      <td>NaN</td>\n    </tr>\n  </tbody>\n</table>\n<p>1185 rows × 2 columns</p>\n</div>"
          },
          "metadata": {}
        }
      ],
      "execution_count": 8,
      "block_group": "3a5d47edaea040e7bb7bf53de2418957"
    },
    {
      "cell_type": "markdown",
      "source": "### Average Daily Increase\nCalculate the average daily increase in cases and deaths.",
      "metadata": {
        "noteable": {
          "cell_type": "markdown"
        },
        "cell_id": "3303136db529462f9d377b5d85c766b3",
        "deepnote_cell_type": "markdown"
      },
      "block_group": "5b7b20d93d1245c78cf70d81e62aa986"
    },
    {
      "cell_type": "code",
      "source": "df_9 = _deepnote_execute_sql('SELECT  AVG(daily_increase_cases) AS avg_daily_cases, \\n        AVG(daily_increase_deaths) AS avg_daily_deaths \\nFROM (SELECT date, \\n             new_cases - LAG(new_cases, 1) OVER (ORDER BY date) AS daily_increase_cases, \\n             new_deaths - LAG(new_deaths, 1) OVER (ORDER BY date) AS daily_increase_deaths \\n             FROM `covid19_data.covid19-data`) \\nWHERE daily_increase_cases IS NOT NULL AND \\n      daily_increase_deaths IS NOT NULL;', 'SQL_E2E7BAC6_19C0_4753_95A0_157A1F88869C', audit_sql_comment='', sql_cache_mode='cache_disabled')\ndf_9",
      "metadata": {
        "source_hash": "d07e0552",
        "execution_start": 1703086360787,
        "execution_millis": 3375,
        "sql_integration_id": "e2e7bac6-19c0-4753-95a0-157a1f88869c",
        "deepnote_variable_name": "df_9",
        "deepnote_to_be_reexecuted": false,
        "cell_id": "6fa3aad03e2441c3905112adf5c44983",
        "deepnote_cell_type": "sql",
        "deepnote_sql_source": "SELECT  AVG(daily_increase_cases) AS avg_daily_cases, \n        AVG(daily_increase_deaths) AS avg_daily_deaths \nFROM (SELECT date, \n             new_cases - LAG(new_cases, 1) OVER (ORDER BY date) AS daily_increase_cases, \n             new_deaths - LAG(new_deaths, 1) OVER (ORDER BY date) AS daily_increase_deaths \n             FROM `covid19_data.covid19-data`) \nWHERE daily_increase_cases IS NOT NULL AND \n      daily_increase_deaths IS NOT NULL;"
      },
      "outputs": [
        {
          "data": {
            "application/vnd.deepnote.sql-output-metadata+json": {
              "status": "success_no_cache",
              "size_in_bytes": 144
            }
          },
          "metadata": {},
          "output_type": "display_data"
        },
        {
          "output_type": "execute_result",
          "execution_count": 9,
          "data": {
            "application/vnd.deepnote.dataframe.v3+json": {
              "column_count": 2,
              "row_count": 1,
              "columns": [
                {
                  "name": "avg_daily_cases",
                  "dtype": "float64",
                  "stats": {
                    "unique_count": 1,
                    "nan_count": 0,
                    "min": "2360.8201236689383",
                    "max": "2360.8201236689383",
                    "histogram": [
                      {
                        "bin_start": 2360.3201236689383,
                        "bin_end": 2360.4201236689382,
                        "count": 0
                      },
                      {
                        "bin_start": 2360.4201236689382,
                        "bin_end": 2360.520123668938,
                        "count": 0
                      },
                      {
                        "bin_start": 2360.520123668938,
                        "bin_end": 2360.6201236689385,
                        "count": 0
                      },
                      {
                        "bin_start": 2360.6201236689385,
                        "bin_end": 2360.7201236689384,
                        "count": 0
                      },
                      {
                        "bin_start": 2360.7201236689384,
                        "bin_end": 2360.8201236689383,
                        "count": 0
                      },
                      {
                        "bin_start": 2360.8201236689383,
                        "bin_end": 2360.9201236689382,
                        "count": 1
                      },
                      {
                        "bin_start": 2360.9201236689382,
                        "bin_end": 2361.020123668938,
                        "count": 0
                      },
                      {
                        "bin_start": 2361.020123668938,
                        "bin_end": 2361.1201236689385,
                        "count": 0
                      },
                      {
                        "bin_start": 2361.1201236689385,
                        "bin_end": 2361.2201236689384,
                        "count": 0
                      },
                      {
                        "bin_start": 2361.2201236689384,
                        "bin_end": 2361.3201236689383,
                        "count": 0
                      }
                    ]
                  }
                },
                {
                  "name": "avg_daily_deaths",
                  "dtype": "float64",
                  "stats": {
                    "unique_count": 1,
                    "nan_count": 0,
                    "min": "16.890426925460588",
                    "max": "16.890426925460588",
                    "histogram": [
                      {
                        "bin_start": 16.390426925460588,
                        "bin_end": 16.49042692546059,
                        "count": 0
                      },
                      {
                        "bin_start": 16.49042692546059,
                        "bin_end": 16.590426925460587,
                        "count": 0
                      },
                      {
                        "bin_start": 16.590426925460587,
                        "bin_end": 16.69042692546059,
                        "count": 0
                      },
                      {
                        "bin_start": 16.69042692546059,
                        "bin_end": 16.790426925460586,
                        "count": 0
                      },
                      {
                        "bin_start": 16.790426925460586,
                        "bin_end": 16.890426925460588,
                        "count": 0
                      },
                      {
                        "bin_start": 16.890426925460588,
                        "bin_end": 16.99042692546059,
                        "count": 1
                      },
                      {
                        "bin_start": 16.99042692546059,
                        "bin_end": 17.090426925460587,
                        "count": 0
                      },
                      {
                        "bin_start": 17.090426925460587,
                        "bin_end": 17.19042692546059,
                        "count": 0
                      },
                      {
                        "bin_start": 17.19042692546059,
                        "bin_end": 17.290426925460586,
                        "count": 0
                      },
                      {
                        "bin_start": 17.290426925460586,
                        "bin_end": 17.390426925460588,
                        "count": 0
                      }
                    ]
                  }
                },
                {
                  "name": "_deepnote_index_column",
                  "dtype": "int64"
                }
              ],
              "rows": [
                {
                  "avg_daily_cases": 2360.8201236689383,
                  "avg_daily_deaths": 16.890426925460588,
                  "_deepnote_index_column": 0
                }
              ]
            },
            "text/plain": "   avg_daily_cases  avg_daily_deaths\n0      2360.820124         16.890427",
            "text/html": "<div>\n<style scoped>\n    .dataframe tbody tr th:only-of-type {\n        vertical-align: middle;\n    }\n\n    .dataframe tbody tr th {\n        vertical-align: top;\n    }\n\n    .dataframe thead th {\n        text-align: right;\n    }\n</style>\n<table border=\"1\" class=\"dataframe\">\n  <thead>\n    <tr style=\"text-align: right;\">\n      <th></th>\n      <th>avg_daily_cases</th>\n      <th>avg_daily_deaths</th>\n    </tr>\n  </thead>\n  <tbody>\n    <tr>\n      <th>0</th>\n      <td>2360.820124</td>\n      <td>16.890427</td>\n    </tr>\n  </tbody>\n</table>\n</div>"
          },
          "metadata": {}
        }
      ],
      "execution_count": 9,
      "block_group": "9f836416d36741cfab7e9de0968c425d"
    },
    {
      "cell_type": "markdown",
      "source": "### Geographical Distribution\nExplore the distribution of cases by geographical regions.",
      "metadata": {
        "noteable": {
          "cell_type": "markdown"
        },
        "cell_id": "9b1f8f253f0744f09e5f88387656d506",
        "deepnote_cell_type": "markdown"
      },
      "block_group": "7e2c43b3b67a461bab9852415b11f176"
    },
    {
      "cell_type": "code",
      "source": "df_10 = _deepnote_execute_sql('SELECT  location, \\n        MAX(total_vaccinations) AS total_vaccinations \\nFROM `covid19_data.covid19-data` \\nWHERE location NOT LIKE \\'%income%\\' AND \\n      location NOT LIKE \\'%World%\\' \\nGROUP BY location \\nHAVING total_vaccinations > 0 \\nORDER BY total_vaccinations DESC;', 'SQL_E2E7BAC6_19C0_4753_95A0_157A1F88869C', audit_sql_comment='', sql_cache_mode='cache_disabled')\ndf_10",
      "metadata": {
        "source_hash": "f21f4fbe",
        "execution_start": 1703086364173,
        "execution_millis": 1932,
        "sql_integration_id": "e2e7bac6-19c0-4753-95a0-157a1f88869c",
        "deepnote_variable_name": "df_10",
        "deepnote_to_be_reexecuted": false,
        "cell_id": "6cb31c92d7544780b8b4e6e84ca0ea73",
        "deepnote_cell_type": "sql",
        "deepnote_sql_source": "SELECT  location, \n        MAX(total_vaccinations) AS total_vaccinations \nFROM `covid19_data.covid19-data` \nWHERE location NOT LIKE '%income%' AND \n      location NOT LIKE '%World%' \nGROUP BY location \nHAVING total_vaccinations > 0 \nORDER BY total_vaccinations DESC;"
      },
      "outputs": [
        {
          "data": {
            "application/vnd.deepnote.sql-output-metadata+json": {
              "status": "success_no_cache",
              "size_in_bytes": 17118
            }
          },
          "metadata": {},
          "output_type": "display_data"
        },
        {
          "output_type": "execute_result",
          "execution_count": 10,
          "data": {
            "application/vnd.deepnote.dataframe.v3+json": {
              "column_count": 2,
              "row_count": 230,
              "columns": [
                {
                  "name": "location",
                  "dtype": "object",
                  "stats": {
                    "unique_count": 230,
                    "nan_count": 0,
                    "categories": [
                      {
                        "name": "Asia",
                        "count": 1
                      },
                      {
                        "name": "China",
                        "count": 1
                      },
                      {
                        "name": "228 others",
                        "count": 228
                      }
                    ]
                  }
                },
                {
                  "name": "total_vaccinations",
                  "dtype": "float64",
                  "stats": {
                    "unique_count": 230,
                    "nan_count": 0,
                    "min": "117.0",
                    "max": "9012232768.0",
                    "histogram": [
                      {
                        "bin_start": 117,
                        "bin_end": 901223382.1,
                        "count": 223
                      },
                      {
                        "bin_start": 901223382.1,
                        "bin_end": 1802446647.2,
                        "count": 4
                      },
                      {
                        "bin_start": 1802446647.2,
                        "bin_end": 2703669912.3,
                        "count": 1
                      },
                      {
                        "bin_start": 2703669912.3,
                        "bin_end": 3604893177.4,
                        "count": 1
                      },
                      {
                        "bin_start": 3604893177.4,
                        "bin_end": 4506116442.5,
                        "count": 0
                      },
                      {
                        "bin_start": 4506116442.5,
                        "bin_end": 5407339707.6,
                        "count": 0
                      },
                      {
                        "bin_start": 5407339707.6,
                        "bin_end": 6308562972.7,
                        "count": 0
                      },
                      {
                        "bin_start": 6308562972.7,
                        "bin_end": 7209786237.8,
                        "count": 0
                      },
                      {
                        "bin_start": 7209786237.8,
                        "bin_end": 8111009502.900001,
                        "count": 0
                      },
                      {
                        "bin_start": 8111009502.900001,
                        "bin_end": 9012232768,
                        "count": 1
                      }
                    ]
                  }
                },
                {
                  "name": "_deepnote_index_column",
                  "dtype": "int64"
                }
              ],
              "rows": [
                {
                  "location": "Asia",
                  "total_vaccinations": 9012232768,
                  "_deepnote_index_column": 0
                },
                {
                  "location": "China",
                  "total_vaccinations": 3491077000,
                  "_deepnote_index_column": 1
                },
                {
                  "location": "India",
                  "total_vaccinations": 2206565971,
                  "_deepnote_index_column": 2
                },
                {
                  "location": "Europe",
                  "total_vaccinations": 1378697324,
                  "_deepnote_index_column": 3
                },
                {
                  "location": "North America",
                  "total_vaccinations": 1145724368,
                  "_deepnote_index_column": 4
                },
                {
                  "location": "South America",
                  "total_vaccinations": 955320353,
                  "_deepnote_index_column": 5
                },
                {
                  "location": "European Union",
                  "total_vaccinations": 938599201,
                  "_deepnote_index_column": 6
                },
                {
                  "location": "Africa",
                  "total_vaccinations": 789104162,
                  "_deepnote_index_column": 7
                },
                {
                  "location": "United States",
                  "total_vaccinations": 673465377,
                  "_deepnote_index_column": 8
                },
                {
                  "location": "Brazil",
                  "total_vaccinations": 486436436,
                  "_deepnote_index_column": 9
                }
              ]
            },
            "text/plain": "             location  total_vaccinations\n0                Asia        9.012233e+09\n1               China        3.491077e+09\n2               India        2.206566e+09\n3              Europe        1.378697e+09\n4       North America        1.145724e+09\n..                ...                 ...\n225           Tokelau        5.374000e+03\n226              Niue        4.920000e+03\n227        Montserrat        4.619000e+03\n228  Falkland Islands        4.407000e+03\n229          Pitcairn        1.170000e+02\n\n[230 rows x 2 columns]",
            "text/html": "<div>\n<style scoped>\n    .dataframe tbody tr th:only-of-type {\n        vertical-align: middle;\n    }\n\n    .dataframe tbody tr th {\n        vertical-align: top;\n    }\n\n    .dataframe thead th {\n        text-align: right;\n    }\n</style>\n<table border=\"1\" class=\"dataframe\">\n  <thead>\n    <tr style=\"text-align: right;\">\n      <th></th>\n      <th>location</th>\n      <th>total_vaccinations</th>\n    </tr>\n  </thead>\n  <tbody>\n    <tr>\n      <th>0</th>\n      <td>Asia</td>\n      <td>9.012233e+09</td>\n    </tr>\n    <tr>\n      <th>1</th>\n      <td>China</td>\n      <td>3.491077e+09</td>\n    </tr>\n    <tr>\n      <th>2</th>\n      <td>India</td>\n      <td>2.206566e+09</td>\n    </tr>\n    <tr>\n      <th>3</th>\n      <td>Europe</td>\n      <td>1.378697e+09</td>\n    </tr>\n    <tr>\n      <th>4</th>\n      <td>North America</td>\n      <td>1.145724e+09</td>\n    </tr>\n    <tr>\n      <th>...</th>\n      <td>...</td>\n      <td>...</td>\n    </tr>\n    <tr>\n      <th>225</th>\n      <td>Tokelau</td>\n      <td>5.374000e+03</td>\n    </tr>\n    <tr>\n      <th>226</th>\n      <td>Niue</td>\n      <td>4.920000e+03</td>\n    </tr>\n    <tr>\n      <th>227</th>\n      <td>Montserrat</td>\n      <td>4.619000e+03</td>\n    </tr>\n    <tr>\n      <th>228</th>\n      <td>Falkland Islands</td>\n      <td>4.407000e+03</td>\n    </tr>\n    <tr>\n      <th>229</th>\n      <td>Pitcairn</td>\n      <td>1.170000e+02</td>\n    </tr>\n  </tbody>\n</table>\n<p>230 rows × 2 columns</p>\n</div>"
          },
          "metadata": {}
        }
      ],
      "execution_count": 10,
      "block_group": "a3eac03205bb48f3bfa676c71ce835e4"
    },
    {
      "cell_type": "markdown",
      "source": "### Comparison of Stats by Income Groupings\nCompare relevant stats based on income groupings in the 'location' column.",
      "metadata": {
        "noteable": {
          "cell_type": "markdown"
        },
        "cell_id": "1a719aafd0754f9cba63ea217ad94d2f",
        "deepnote_cell_type": "markdown"
      },
      "block_group": "14741f2036b54a13908d31802e054d0f"
    },
    {
      "cell_type": "code",
      "source": "df_11 = _deepnote_execute_sql('SELECT  location, \\n        MAX(total_cases) AS total_cases, \\n        MAX(total_deaths) AS total_deaths, \\n        MAX(total_vaccinations) AS total_vaccinations \\nFROM `covid19_data.covid19-data` \\nWHERE location LIKE \\'%income%\\' \\nGROUP BY location \\nORDER BY total_cases DESC;', 'SQL_E2E7BAC6_19C0_4753_95A0_157A1F88869C', audit_sql_comment='', sql_cache_mode='cache_disabled')\ndf_11",
      "metadata": {
        "source_hash": "b53e7457",
        "execution_start": 1703086366116,
        "execution_millis": 1703,
        "sql_integration_id": "e2e7bac6-19c0-4753-95a0-157a1f88869c",
        "deepnote_variable_name": "df_11",
        "deepnote_to_be_reexecuted": false,
        "cell_id": "982aa40d05034565ada34b4fd5bcd929",
        "deepnote_cell_type": "sql",
        "deepnote_sql_source": "SELECT  location, \n        MAX(total_cases) AS total_cases, \n        MAX(total_deaths) AS total_deaths, \n        MAX(total_vaccinations) AS total_vaccinations \nFROM `covid19_data.covid19-data` \nWHERE location LIKE '%income%' \nGROUP BY location \nORDER BY total_cases DESC;"
      },
      "outputs": [
        {
          "data": {
            "application/vnd.deepnote.sql-output-metadata+json": {
              "status": "success_no_cache",
              "size_in_bytes": 511
            }
          },
          "metadata": {},
          "output_type": "display_data"
        },
        {
          "output_type": "execute_result",
          "execution_count": 11,
          "data": {
            "application/vnd.deepnote.dataframe.v3+json": {
              "column_count": 4,
              "row_count": 4,
              "columns": [
                {
                  "name": "location",
                  "dtype": "object",
                  "stats": {
                    "unique_count": 4,
                    "nan_count": 0,
                    "categories": [
                      {
                        "name": "High income",
                        "count": 1
                      },
                      {
                        "name": "Upper middle income",
                        "count": 1
                      },
                      {
                        "name": "2 others",
                        "count": 2
                      }
                    ]
                  }
                },
                {
                  "name": "total_cases",
                  "dtype": "float64",
                  "stats": {
                    "unique_count": 4,
                    "nan_count": 0,
                    "min": "2289620.0",
                    "max": "418005015.0",
                    "histogram": [
                      {
                        "bin_start": 2289620,
                        "bin_end": 43861159.5,
                        "count": 1
                      },
                      {
                        "bin_start": 43861159.5,
                        "bin_end": 85432699,
                        "count": 0
                      },
                      {
                        "bin_start": 85432699,
                        "bin_end": 127004238.5,
                        "count": 1
                      },
                      {
                        "bin_start": 127004238.5,
                        "bin_end": 168575778,
                        "count": 0
                      },
                      {
                        "bin_start": 168575778,
                        "bin_end": 210147317.5,
                        "count": 0
                      },
                      {
                        "bin_start": 210147317.5,
                        "bin_end": 251718857,
                        "count": 1
                      },
                      {
                        "bin_start": 251718857,
                        "bin_end": 293290396.5,
                        "count": 0
                      },
                      {
                        "bin_start": 293290396.5,
                        "bin_end": 334861936,
                        "count": 0
                      },
                      {
                        "bin_start": 334861936,
                        "bin_end": 376433475.5,
                        "count": 0
                      },
                      {
                        "bin_start": 376433475.5,
                        "bin_end": 418005015,
                        "count": 1
                      }
                    ]
                  }
                },
                {
                  "name": "total_deaths",
                  "dtype": "float64",
                  "stats": {
                    "unique_count": 4,
                    "nan_count": 0,
                    "min": "47886.0",
                    "max": "2843246.0",
                    "histogram": [
                      {
                        "bin_start": 47886,
                        "bin_end": 327422,
                        "count": 1
                      },
                      {
                        "bin_start": 327422,
                        "bin_end": 606958,
                        "count": 0
                      },
                      {
                        "bin_start": 606958,
                        "bin_end": 886494,
                        "count": 0
                      },
                      {
                        "bin_start": 886494,
                        "bin_end": 1166030,
                        "count": 0
                      },
                      {
                        "bin_start": 1166030,
                        "bin_end": 1445566,
                        "count": 1
                      },
                      {
                        "bin_start": 1445566,
                        "bin_end": 1725102,
                        "count": 0
                      },
                      {
                        "bin_start": 1725102,
                        "bin_end": 2004638,
                        "count": 0
                      },
                      {
                        "bin_start": 2004638,
                        "bin_end": 2284174,
                        "count": 0
                      },
                      {
                        "bin_start": 2284174,
                        "bin_end": 2563710,
                        "count": 0
                      },
                      {
                        "bin_start": 2563710,
                        "bin_end": 2843246,
                        "count": 2
                      }
                    ]
                  }
                },
                {
                  "name": "total_vaccinations",
                  "dtype": "float64",
                  "stats": {
                    "unique_count": 4,
                    "nan_count": 0,
                    "min": "282040403.0",
                    "max": "5407960813.0",
                    "histogram": [
                      {
                        "bin_start": 282040403,
                        "bin_end": 794632444,
                        "count": 1
                      },
                      {
                        "bin_start": 794632444,
                        "bin_end": 1307224485,
                        "count": 0
                      },
                      {
                        "bin_start": 1307224485,
                        "bin_end": 1819816526,
                        "count": 0
                      },
                      {
                        "bin_start": 1819816526,
                        "bin_end": 2332408567,
                        "count": 0
                      },
                      {
                        "bin_start": 2332408567,
                        "bin_end": 2845000608,
                        "count": 1
                      },
                      {
                        "bin_start": 2845000608,
                        "bin_end": 3357592649,
                        "count": 0
                      },
                      {
                        "bin_start": 3357592649,
                        "bin_end": 3870184690,
                        "count": 0
                      },
                      {
                        "bin_start": 3870184690,
                        "bin_end": 4382776731,
                        "count": 0
                      },
                      {
                        "bin_start": 4382776731,
                        "bin_end": 4895368772,
                        "count": 1
                      },
                      {
                        "bin_start": 4895368772,
                        "bin_end": 5407960813,
                        "count": 1
                      }
                    ]
                  }
                },
                {
                  "name": "_deepnote_index_column",
                  "dtype": "int64"
                }
              ],
              "rows": [
                {
                  "location": "High income",
                  "total_cases": 418005015,
                  "total_deaths": 2843246,
                  "total_vaccinations": 2806017620,
                  "_deepnote_index_column": 0
                },
                {
                  "location": "Upper middle income",
                  "total_cases": 242939299,
                  "total_deaths": 2652727,
                  "total_vaccinations": 5407960813,
                  "_deepnote_index_column": 1
                },
                {
                  "location": "Lower middle income",
                  "total_cases": 96958554,
                  "total_deaths": 1339199,
                  "total_vaccinations": 4865901606,
                  "_deepnote_index_column": 2
                },
                {
                  "location": "Low income",
                  "total_cases": 2289620,
                  "total_deaths": 47886,
                  "total_vaccinations": 282040403,
                  "_deepnote_index_column": 3
                }
              ]
            },
            "text/plain": "              location  total_cases  total_deaths  total_vaccinations\n0          High income  418005015.0     2843246.0        2.806018e+09\n1  Upper middle income  242939299.0     2652727.0        5.407961e+09\n2  Lower middle income   96958554.0     1339199.0        4.865902e+09\n3           Low income    2289620.0       47886.0        2.820404e+08",
            "text/html": "<div>\n<style scoped>\n    .dataframe tbody tr th:only-of-type {\n        vertical-align: middle;\n    }\n\n    .dataframe tbody tr th {\n        vertical-align: top;\n    }\n\n    .dataframe thead th {\n        text-align: right;\n    }\n</style>\n<table border=\"1\" class=\"dataframe\">\n  <thead>\n    <tr style=\"text-align: right;\">\n      <th></th>\n      <th>location</th>\n      <th>total_cases</th>\n      <th>total_deaths</th>\n      <th>total_vaccinations</th>\n    </tr>\n  </thead>\n  <tbody>\n    <tr>\n      <th>0</th>\n      <td>High income</td>\n      <td>418005015.0</td>\n      <td>2843246.0</td>\n      <td>2.806018e+09</td>\n    </tr>\n    <tr>\n      <th>1</th>\n      <td>Upper middle income</td>\n      <td>242939299.0</td>\n      <td>2652727.0</td>\n      <td>5.407961e+09</td>\n    </tr>\n    <tr>\n      <th>2</th>\n      <td>Lower middle income</td>\n      <td>96958554.0</td>\n      <td>1339199.0</td>\n      <td>4.865902e+09</td>\n    </tr>\n    <tr>\n      <th>3</th>\n      <td>Low income</td>\n      <td>2289620.0</td>\n      <td>47886.0</td>\n      <td>2.820404e+08</td>\n    </tr>\n  </tbody>\n</table>\n</div>"
          },
          "metadata": {}
        }
      ],
      "execution_count": 11,
      "block_group": "2018892d72504dcb9e5800bc78f0034b"
    },
    {
      "cell_type": "markdown",
      "source": "### Vaccination Analysis\nExplore vaccination rates and their correlation with case reductions.",
      "metadata": {
        "noteable": {
          "cell_type": "markdown"
        },
        "cell_id": "44592ec8d1db4437bb476a9728cccc95",
        "deepnote_cell_type": "markdown"
      },
      "block_group": "79bf993d1fdd4139b1d583383cb2179c"
    },
    {
      "cell_type": "code",
      "source": "df_12 = _deepnote_execute_sql('SELECT  location, \\n        MAX(total_cases_per_million) AS total_cases_per_million, \\n        MAX(total_deaths_per_million) AS total_deaths_per_million \\nFROM `covid19_data.covid19-data` \\nGROUP BY location \\nHAVING total_cases_per_million > 0 AND \\n        total_deaths_per_million > 0 \\nORDER BY total_cases_per_million DESC;', 'SQL_E2E7BAC6_19C0_4753_95A0_157A1F88869C', audit_sql_comment='', sql_cache_mode='cache_disabled')\ndf_12",
      "metadata": {
        "source_hash": "12c3ea9",
        "execution_start": 1703086367836,
        "execution_millis": 1934,
        "sql_integration_id": "e2e7bac6-19c0-4753-95a0-157a1f88869c",
        "deepnote_variable_name": "df_12",
        "deepnote_to_be_reexecuted": false,
        "cell_id": "19cd3c71503246a7a65dd7ffaead43d0",
        "deepnote_cell_type": "sql",
        "deepnote_sql_source": "SELECT  location, \n        MAX(total_cases_per_million) AS total_cases_per_million, \n        MAX(total_deaths_per_million) AS total_deaths_per_million \nFROM `covid19_data.covid19-data` \nGROUP BY location \nHAVING total_cases_per_million > 0 AND \n        total_deaths_per_million > 0 \nORDER BY total_cases_per_million DESC;"
      },
      "outputs": [
        {
          "data": {
            "application/vnd.deepnote.sql-output-metadata+json": {
              "status": "success_no_cache",
              "size_in_bytes": 19640
            }
          },
          "metadata": {},
          "output_type": "display_data"
        },
        {
          "output_type": "execute_result",
          "execution_count": 12,
          "data": {
            "application/vnd.deepnote.dataframe.v3+json": {
              "column_count": 3,
              "row_count": 237,
              "columns": [
                {
                  "name": "location",
                  "dtype": "object",
                  "stats": {
                    "unique_count": 237,
                    "nan_count": 0,
                    "categories": [
                      {
                        "name": "Cyprus",
                        "count": 1
                      },
                      {
                        "name": "San Marino",
                        "count": 1
                      },
                      {
                        "name": "235 others",
                        "count": 235
                      }
                    ]
                  }
                },
                {
                  "name": "total_cases_per_million",
                  "dtype": "float64",
                  "stats": {
                    "unique_count": 237,
                    "nan_count": 0,
                    "min": "354.487",
                    "max": "730701.881",
                    "histogram": [
                      {
                        "bin_start": 354.487,
                        "bin_end": 73389.2264,
                        "count": 87
                      },
                      {
                        "bin_start": 73389.2264,
                        "bin_end": 146423.9658,
                        "count": 35
                      },
                      {
                        "bin_start": 146423.9658,
                        "bin_end": 219458.7052,
                        "count": 23
                      },
                      {
                        "bin_start": 219458.7052,
                        "bin_end": 292493.44460000005,
                        "count": 22
                      },
                      {
                        "bin_start": 292493.44460000005,
                        "bin_end": 365528.18400000007,
                        "count": 18
                      },
                      {
                        "bin_start": 365528.18400000007,
                        "bin_end": 438562.9234,
                        "count": 14
                      },
                      {
                        "bin_start": 438562.9234,
                        "bin_end": 511597.66280000005,
                        "count": 18
                      },
                      {
                        "bin_start": 511597.66280000005,
                        "bin_end": 584632.4022,
                        "count": 8
                      },
                      {
                        "bin_start": 584632.4022,
                        "bin_end": 657667.1416,
                        "count": 9
                      },
                      {
                        "bin_start": 657667.1416,
                        "bin_end": 730701.881,
                        "count": 3
                      }
                    ]
                  }
                },
                {
                  "name": "total_deaths_per_million",
                  "dtype": "float64",
                  "stats": {
                    "unique_count": 237,
                    "nan_count": 0,
                    "min": "1.164",
                    "max": "6453.558",
                    "histogram": [
                      {
                        "bin_start": 1.164,
                        "bin_end": 646.4034,
                        "count": 103
                      },
                      {
                        "bin_start": 646.4034,
                        "bin_end": 1291.6428,
                        "count": 38
                      },
                      {
                        "bin_start": 1291.6428,
                        "bin_end": 1936.8822000000002,
                        "count": 31
                      },
                      {
                        "bin_start": 1936.8822000000002,
                        "bin_end": 2582.1216000000004,
                        "count": 25
                      },
                      {
                        "bin_start": 2582.1216000000004,
                        "bin_end": 3227.3610000000003,
                        "count": 19
                      },
                      {
                        "bin_start": 3227.3610000000003,
                        "bin_end": 3872.6004000000007,
                        "count": 11
                      },
                      {
                        "bin_start": 3872.6004000000007,
                        "bin_end": 4517.8398,
                        "count": 4
                      },
                      {
                        "bin_start": 4517.8398,
                        "bin_end": 5163.0792,
                        "count": 4
                      },
                      {
                        "bin_start": 5163.0792,
                        "bin_end": 5808.3186000000005,
                        "count": 1
                      },
                      {
                        "bin_start": 5808.3186000000005,
                        "bin_end": 6453.558,
                        "count": 1
                      }
                    ]
                  }
                },
                {
                  "name": "_deepnote_index_column",
                  "dtype": "int64"
                }
              ],
              "rows": [
                {
                  "location": "Cyprus",
                  "total_cases_per_million": 730701.881,
                  "total_deaths_per_million": 1501.104,
                  "_deepnote_index_column": 0
                },
                {
                  "location": "San Marino",
                  "total_cases_per_million": 706381.716,
                  "total_deaths_per_million": 3650.935,
                  "_deepnote_index_column": 1
                },
                {
                  "location": "Austria",
                  "total_cases_per_million": 673952.251,
                  "total_deaths_per_million": 2470.128,
                  "_deepnote_index_column": 2
                },
                {
                  "location": "Faeroe Islands",
                  "total_cases_per_million": 652484.139,
                  "total_deaths_per_million": 527.138,
                  "_deepnote_index_column": 3
                },
                {
                  "location": "Slovenia",
                  "total_cases_per_million": 631517.523,
                  "total_deaths_per_million": 4340.416,
                  "_deepnote_index_column": 4
                },
                {
                  "location": "Brunei",
                  "total_cases_per_million": 631055.096,
                  "total_deaths_per_million": 336.301,
                  "_deepnote_index_column": 5
                },
                {
                  "location": "Gibraltar",
                  "total_cases_per_million": 626189.675,
                  "total_deaths_per_million": 3396.885,
                  "_deepnote_index_column": 6
                },
                {
                  "location": "Martinique",
                  "total_cases_per_million": 624099.349,
                  "total_deaths_per_million": 2974.053,
                  "_deepnote_index_column": 7
                },
                {
                  "location": "Andorra",
                  "total_cases_per_million": 600140.275,
                  "total_deaths_per_million": 1991.408,
                  "_deepnote_index_column": 8
                },
                {
                  "location": "Jersey",
                  "total_cases_per_million": 599218.383,
                  "total_deaths_per_million": 1453.121,
                  "_deepnote_index_column": 9
                }
              ]
            },
            "text/plain": "           location  total_cases_per_million  total_deaths_per_million\n0            Cyprus               730701.881                  1501.104\n1        San Marino               706381.716                  3650.935\n2           Austria               673952.251                  2470.128\n3    Faeroe Islands               652484.139                   527.138\n4          Slovenia               631517.523                  4340.416\n..              ...                      ...                       ...\n232    Sierra Leone                  901.958                    14.641\n233        Tanzania                  655.626                    12.916\n234            Chad                  433.779                    10.946\n235           Niger                  362.981                    12.019\n236           Yemen                  354.487                    64.072\n\n[237 rows x 3 columns]",
            "text/html": "<div>\n<style scoped>\n    .dataframe tbody tr th:only-of-type {\n        vertical-align: middle;\n    }\n\n    .dataframe tbody tr th {\n        vertical-align: top;\n    }\n\n    .dataframe thead th {\n        text-align: right;\n    }\n</style>\n<table border=\"1\" class=\"dataframe\">\n  <thead>\n    <tr style=\"text-align: right;\">\n      <th></th>\n      <th>location</th>\n      <th>total_cases_per_million</th>\n      <th>total_deaths_per_million</th>\n    </tr>\n  </thead>\n  <tbody>\n    <tr>\n      <th>0</th>\n      <td>Cyprus</td>\n      <td>730701.881</td>\n      <td>1501.104</td>\n    </tr>\n    <tr>\n      <th>1</th>\n      <td>San Marino</td>\n      <td>706381.716</td>\n      <td>3650.935</td>\n    </tr>\n    <tr>\n      <th>2</th>\n      <td>Austria</td>\n      <td>673952.251</td>\n      <td>2470.128</td>\n    </tr>\n    <tr>\n      <th>3</th>\n      <td>Faeroe Islands</td>\n      <td>652484.139</td>\n      <td>527.138</td>\n    </tr>\n    <tr>\n      <th>4</th>\n      <td>Slovenia</td>\n      <td>631517.523</td>\n      <td>4340.416</td>\n    </tr>\n    <tr>\n      <th>...</th>\n      <td>...</td>\n      <td>...</td>\n      <td>...</td>\n    </tr>\n    <tr>\n      <th>232</th>\n      <td>Sierra Leone</td>\n      <td>901.958</td>\n      <td>14.641</td>\n    </tr>\n    <tr>\n      <th>233</th>\n      <td>Tanzania</td>\n      <td>655.626</td>\n      <td>12.916</td>\n    </tr>\n    <tr>\n      <th>234</th>\n      <td>Chad</td>\n      <td>433.779</td>\n      <td>10.946</td>\n    </tr>\n    <tr>\n      <th>235</th>\n      <td>Niger</td>\n      <td>362.981</td>\n      <td>12.019</td>\n    </tr>\n    <tr>\n      <th>236</th>\n      <td>Yemen</td>\n      <td>354.487</td>\n      <td>64.072</td>\n    </tr>\n  </tbody>\n</table>\n<p>237 rows × 3 columns</p>\n</div>"
          },
          "metadata": {}
        }
      ],
      "execution_count": 12,
      "block_group": "6d6b460586084c02b29fa39d0d56cade"
    },
    {
      "cell_type": "markdown",
      "source": "### Correlation Analysis\nAnalyze correlations between total vaccinations and new cases.",
      "metadata": {
        "noteable": {
          "cell_type": "markdown"
        },
        "cell_id": "e6fedc4fd24a4eff8f5fc68f9ceeb172",
        "deepnote_cell_type": "markdown"
      },
      "block_group": "146926cea1fe4f0da5970925ac01338d"
    },
    {
      "cell_type": "code",
      "source": "df_13 = _deepnote_execute_sql('SELECT  location, \\n        SUM(new_cases_per_million) AS new_cases_per_million, \\n        SUM(new_deaths_per_million) AS new_deaths_per_million \\nFROM `covid19_data.covid19-data` \\nGROUP BY location \\nHAVING new_cases_per_million > 0 AND \\n        new_deaths_per_million > 0 \\nORDER BY new_cases_per_million DESC;', 'SQL_E2E7BAC6_19C0_4753_95A0_157A1F88869C', audit_sql_comment='', sql_cache_mode='cache_disabled')\ndf_13",
      "metadata": {
        "source_hash": "ef493545",
        "execution_start": 1703086369779,
        "execution_millis": 2042,
        "sql_integration_id": "e2e7bac6-19c0-4753-95a0-157a1f88869c",
        "deepnote_variable_name": "df_13",
        "deepnote_to_be_reexecuted": false,
        "cell_id": "f7e1e8e60ef74b02a2745ff318317ff6",
        "deepnote_cell_type": "sql",
        "deepnote_sql_source": "SELECT  location, \n        SUM(new_cases_per_million) AS new_cases_per_million, \n        SUM(new_deaths_per_million) AS new_deaths_per_million \nFROM `covid19_data.covid19-data` \nGROUP BY location \nHAVING new_cases_per_million > 0 AND \n        new_deaths_per_million > 0 \nORDER BY new_cases_per_million DESC;"
      },
      "outputs": [
        {
          "data": {
            "application/vnd.deepnote.sql-output-metadata+json": {
              "status": "success_no_cache",
              "size_in_bytes": 19640
            }
          },
          "metadata": {},
          "output_type": "display_data"
        },
        {
          "output_type": "execute_result",
          "execution_count": 13,
          "data": {
            "application/vnd.deepnote.dataframe.v3+json": {
              "column_count": 3,
              "row_count": 237,
              "columns": [
                {
                  "name": "location",
                  "dtype": "object",
                  "stats": {
                    "unique_count": 237,
                    "nan_count": 0,
                    "categories": [
                      {
                        "name": "Cyprus",
                        "count": 1
                      },
                      {
                        "name": "San Marino",
                        "count": 1
                      },
                      {
                        "name": "235 others",
                        "count": 235
                      }
                    ]
                  }
                },
                {
                  "name": "new_cases_per_million",
                  "dtype": "float64",
                  "stats": {
                    "unique_count": 237,
                    "nan_count": 0,
                    "min": "354.4820000000006",
                    "max": "730701.87",
                    "histogram": [
                      {
                        "bin_start": 354.4820000000006,
                        "bin_end": 73389.22080000001,
                        "count": 87
                      },
                      {
                        "bin_start": 73389.22080000001,
                        "bin_end": 146423.9596,
                        "count": 35
                      },
                      {
                        "bin_start": 146423.9596,
                        "bin_end": 219458.69840000002,
                        "count": 23
                      },
                      {
                        "bin_start": 219458.69840000002,
                        "bin_end": 292493.43720000004,
                        "count": 22
                      },
                      {
                        "bin_start": 292493.43720000004,
                        "bin_end": 365528.17600000004,
                        "count": 18
                      },
                      {
                        "bin_start": 365528.17600000004,
                        "bin_end": 438562.9148000001,
                        "count": 14
                      },
                      {
                        "bin_start": 438562.9148000001,
                        "bin_end": 511597.6536000001,
                        "count": 18
                      },
                      {
                        "bin_start": 511597.6536000001,
                        "bin_end": 584632.3924,
                        "count": 8
                      },
                      {
                        "bin_start": 584632.3924,
                        "bin_end": 657667.1312000001,
                        "count": 9
                      },
                      {
                        "bin_start": 657667.1312000001,
                        "bin_end": 730701.87,
                        "count": 3
                      }
                    ]
                  }
                },
                {
                  "name": "new_deaths_per_million",
                  "dtype": "float64",
                  "stats": {
                    "unique_count": 237,
                    "nan_count": 0,
                    "min": "1.166",
                    "max": "6453.562000000028",
                    "histogram": [
                      {
                        "bin_start": 1.166,
                        "bin_end": 646.4056000000029,
                        "count": 103
                      },
                      {
                        "bin_start": 646.4056000000029,
                        "bin_end": 1291.6452000000056,
                        "count": 38
                      },
                      {
                        "bin_start": 1291.6452000000056,
                        "bin_end": 1936.8848000000085,
                        "count": 31
                      },
                      {
                        "bin_start": 1936.8848000000085,
                        "bin_end": 2582.1244000000115,
                        "count": 25
                      },
                      {
                        "bin_start": 2582.1244000000115,
                        "bin_end": 3227.364000000014,
                        "count": 19
                      },
                      {
                        "bin_start": 3227.364000000014,
                        "bin_end": 3872.603600000017,
                        "count": 11
                      },
                      {
                        "bin_start": 3872.603600000017,
                        "bin_end": 4517.84320000002,
                        "count": 4
                      },
                      {
                        "bin_start": 4517.84320000002,
                        "bin_end": 5163.082800000023,
                        "count": 4
                      },
                      {
                        "bin_start": 5163.082800000023,
                        "bin_end": 5808.3224000000255,
                        "count": 1
                      },
                      {
                        "bin_start": 5808.3224000000255,
                        "bin_end": 6453.562000000028,
                        "count": 1
                      }
                    ]
                  }
                },
                {
                  "name": "_deepnote_index_column",
                  "dtype": "int64"
                }
              ],
              "rows": [
                {
                  "location": "Cyprus",
                  "new_cases_per_million": 730701.87,
                  "new_deaths_per_million": 1501.046999999997,
                  "_deepnote_index_column": 0
                },
                {
                  "location": "San Marino",
                  "new_cases_per_million": 706381.7110000015,
                  "new_deaths_per_million": 3650.9109999999905,
                  "_deepnote_index_column": 1
                },
                {
                  "location": "Austria",
                  "new_cases_per_million": 673952.2640000005,
                  "new_deaths_per_million": 2470.135000000002,
                  "_deepnote_index_column": 2
                },
                {
                  "location": "Faeroe Islands",
                  "new_cases_per_million": 652484.1169999999,
                  "new_deaths_per_million": 527.1320000000002,
                  "_deepnote_index_column": 3
                },
                {
                  "location": "Slovenia",
                  "new_cases_per_million": 631517.5309999993,
                  "new_deaths_per_million": 4340.414000000018,
                  "_deepnote_index_column": 4
                },
                {
                  "location": "Brunei",
                  "new_cases_per_million": 631055.0679999997,
                  "new_deaths_per_million": 336.2969999999996,
                  "_deepnote_index_column": 5
                },
                {
                  "location": "Gibraltar",
                  "new_cases_per_million": 626189.6920000002,
                  "new_deaths_per_million": 3396.8990000000013,
                  "_deepnote_index_column": 6
                },
                {
                  "location": "Martinique",
                  "new_cases_per_million": 624099.3709999997,
                  "new_deaths_per_million": 2974.0530000000026,
                  "_deepnote_index_column": 7
                },
                {
                  "location": "Andorra",
                  "new_cases_per_million": 600140.286,
                  "new_deaths_per_million": 1991.442000000004,
                  "_deepnote_index_column": 8
                },
                {
                  "location": "Jersey",
                  "new_cases_per_million": 599218.4029999996,
                  "new_deaths_per_million": 1453.1459999999997,
                  "_deepnote_index_column": 9
                }
              ]
            },
            "text/plain": "           location  new_cases_per_million  new_deaths_per_million\n0            Cyprus             730701.870                1501.047\n1        San Marino             706381.711                3650.911\n2           Austria             673952.264                2470.135\n3    Faeroe Islands             652484.117                 527.132\n4          Slovenia             631517.531                4340.414\n..              ...                    ...                     ...\n232    Sierra Leone                901.923                  14.625\n233        Tanzania                655.626                  12.922\n234            Chad                433.747                  10.912\n235           Niger                362.939                  11.994\n236           Yemen                354.482                  64.079\n\n[237 rows x 3 columns]",
            "text/html": "<div>\n<style scoped>\n    .dataframe tbody tr th:only-of-type {\n        vertical-align: middle;\n    }\n\n    .dataframe tbody tr th {\n        vertical-align: top;\n    }\n\n    .dataframe thead th {\n        text-align: right;\n    }\n</style>\n<table border=\"1\" class=\"dataframe\">\n  <thead>\n    <tr style=\"text-align: right;\">\n      <th></th>\n      <th>location</th>\n      <th>new_cases_per_million</th>\n      <th>new_deaths_per_million</th>\n    </tr>\n  </thead>\n  <tbody>\n    <tr>\n      <th>0</th>\n      <td>Cyprus</td>\n      <td>730701.870</td>\n      <td>1501.047</td>\n    </tr>\n    <tr>\n      <th>1</th>\n      <td>San Marino</td>\n      <td>706381.711</td>\n      <td>3650.911</td>\n    </tr>\n    <tr>\n      <th>2</th>\n      <td>Austria</td>\n      <td>673952.264</td>\n      <td>2470.135</td>\n    </tr>\n    <tr>\n      <th>3</th>\n      <td>Faeroe Islands</td>\n      <td>652484.117</td>\n      <td>527.132</td>\n    </tr>\n    <tr>\n      <th>4</th>\n      <td>Slovenia</td>\n      <td>631517.531</td>\n      <td>4340.414</td>\n    </tr>\n    <tr>\n      <th>...</th>\n      <td>...</td>\n      <td>...</td>\n      <td>...</td>\n    </tr>\n    <tr>\n      <th>232</th>\n      <td>Sierra Leone</td>\n      <td>901.923</td>\n      <td>14.625</td>\n    </tr>\n    <tr>\n      <th>233</th>\n      <td>Tanzania</td>\n      <td>655.626</td>\n      <td>12.922</td>\n    </tr>\n    <tr>\n      <th>234</th>\n      <td>Chad</td>\n      <td>433.747</td>\n      <td>10.912</td>\n    </tr>\n    <tr>\n      <th>235</th>\n      <td>Niger</td>\n      <td>362.939</td>\n      <td>11.994</td>\n    </tr>\n    <tr>\n      <th>236</th>\n      <td>Yemen</td>\n      <td>354.482</td>\n      <td>64.079</td>\n    </tr>\n  </tbody>\n</table>\n<p>237 rows × 3 columns</p>\n</div>"
          },
          "metadata": {}
        }
      ],
      "execution_count": 13,
      "block_group": "fde0dcb4081c4e00b62a4c4d1dd2531b"
    },
    {
      "cell_type": "markdown",
      "source": "### Monthly Trend Analysis on Various Statistics\nAnalyze the monthly trend of vaccinations, deaths, tests, people vaccinated, and people fully vaccinated.",
      "metadata": {
        "noteable": {
          "cell_type": "markdown"
        },
        "cell_id": "bb378d43d3d841ebb1128f282d179626",
        "deepnote_cell_type": "markdown"
      },
      "block_group": "f19b72ce8ed347519e249348be1ffd02"
    },
    {
      "cell_type": "code",
      "source": "df_14 = _deepnote_execute_sql('SELECT  EXTRACT(YEAR FROM date) AS year, \\n        EXTRACT(MONTH FROM date) AS month, \\n        SUM(new_vaccinations) AS monthly_vaccinations, \\n        SUM(new_deaths) AS monthly_deaths, \\n        SUM(new_tests) AS monthly_tests, \\n        SUM(people_vaccinated) AS monthly_people_vaccinated, \\n        SUM(people_fully_vaccinated) AS monthly_people_fully_vaccinated \\nFROM `covid19_data.covid19-data` \\nGROUP BY year, month \\nORDER BY year, month;', 'SQL_E2E7BAC6_19C0_4753_95A0_157A1F88869C', audit_sql_comment='', sql_cache_mode='cache_disabled')\ndf_14",
      "metadata": {
        "source_hash": "4a188f6d",
        "execution_start": 1703086371838,
        "execution_millis": 2479,
        "sql_integration_id": "e2e7bac6-19c0-4753-95a0-157a1f88869c",
        "deepnote_variable_name": "df_14",
        "deepnote_to_be_reexecuted": false,
        "cell_id": "2a2e3b90f17c4685b2aea4786c7fe802",
        "deepnote_cell_type": "sql",
        "deepnote_sql_source": "SELECT  EXTRACT(YEAR FROM date) AS year, \n        EXTRACT(MONTH FROM date) AS month, \n        SUM(new_vaccinations) AS monthly_vaccinations, \n        SUM(new_deaths) AS monthly_deaths, \n        SUM(new_tests) AS monthly_tests, \n        SUM(people_vaccinated) AS monthly_people_vaccinated, \n        SUM(people_fully_vaccinated) AS monthly_people_fully_vaccinated \nFROM `covid19_data.covid19-data` \nGROUP BY year, month \nORDER BY year, month;"
      },
      "outputs": [
        {
          "data": {
            "application/vnd.deepnote.sql-output-metadata+json": {
              "status": "success_no_cache",
              "size_in_bytes": 2312
            }
          },
          "metadata": {},
          "output_type": "display_data"
        },
        {
          "output_type": "execute_result",
          "execution_count": 14,
          "data": {
            "application/vnd.deepnote.dataframe.v3+json": {
              "column_count": 7,
              "row_count": 39,
              "columns": [
                {
                  "name": "year",
                  "dtype": "int64",
                  "stats": {
                    "unique_count": 4,
                    "nan_count": 0,
                    "min": "2020",
                    "max": "2023",
                    "histogram": [
                      {
                        "bin_start": 2020,
                        "bin_end": 2020.3,
                        "count": 12
                      },
                      {
                        "bin_start": 2020.3,
                        "bin_end": 2020.6,
                        "count": 0
                      },
                      {
                        "bin_start": 2020.6,
                        "bin_end": 2020.9,
                        "count": 0
                      },
                      {
                        "bin_start": 2020.9,
                        "bin_end": 2021.2,
                        "count": 12
                      },
                      {
                        "bin_start": 2021.2,
                        "bin_end": 2021.5,
                        "count": 0
                      },
                      {
                        "bin_start": 2021.5,
                        "bin_end": 2021.8,
                        "count": 0
                      },
                      {
                        "bin_start": 2021.8,
                        "bin_end": 2022.1,
                        "count": 12
                      },
                      {
                        "bin_start": 2022.1,
                        "bin_end": 2022.4,
                        "count": 0
                      },
                      {
                        "bin_start": 2022.4,
                        "bin_end": 2022.7,
                        "count": 0
                      },
                      {
                        "bin_start": 2022.7,
                        "bin_end": 2023,
                        "count": 3
                      }
                    ]
                  }
                },
                {
                  "name": "month",
                  "dtype": "int64",
                  "stats": {
                    "unique_count": 12,
                    "nan_count": 0,
                    "min": "1",
                    "max": "12",
                    "histogram": [
                      {
                        "bin_start": 1,
                        "bin_end": 2.1,
                        "count": 8
                      },
                      {
                        "bin_start": 2.1,
                        "bin_end": 3.2,
                        "count": 4
                      },
                      {
                        "bin_start": 3.2,
                        "bin_end": 4.300000000000001,
                        "count": 3
                      },
                      {
                        "bin_start": 4.300000000000001,
                        "bin_end": 5.4,
                        "count": 3
                      },
                      {
                        "bin_start": 5.4,
                        "bin_end": 6.5,
                        "count": 3
                      },
                      {
                        "bin_start": 6.5,
                        "bin_end": 7.6000000000000005,
                        "count": 3
                      },
                      {
                        "bin_start": 7.6000000000000005,
                        "bin_end": 8.700000000000001,
                        "count": 3
                      },
                      {
                        "bin_start": 8.700000000000001,
                        "bin_end": 9.8,
                        "count": 3
                      },
                      {
                        "bin_start": 9.8,
                        "bin_end": 10.9,
                        "count": 3
                      },
                      {
                        "bin_start": 10.9,
                        "bin_end": 12,
                        "count": 6
                      }
                    ]
                  }
                },
                {
                  "name": "monthly_vaccinations",
                  "dtype": "float64",
                  "stats": {
                    "unique_count": 28,
                    "nan_count": 11,
                    "min": "40112136.0",
                    "max": "4666012995.0",
                    "histogram": [
                      {
                        "bin_start": 40112136,
                        "bin_end": 502702221.9,
                        "count": 6
                      },
                      {
                        "bin_start": 502702221.9,
                        "bin_end": 965292307.8,
                        "count": 8
                      },
                      {
                        "bin_start": 965292307.8,
                        "bin_end": 1427882393.6999998,
                        "count": 2
                      },
                      {
                        "bin_start": 1427882393.6999998,
                        "bin_end": 1890472479.6,
                        "count": 0
                      },
                      {
                        "bin_start": 1890472479.6,
                        "bin_end": 2353062565.5,
                        "count": 2
                      },
                      {
                        "bin_start": 2353062565.5,
                        "bin_end": 2815652651.3999996,
                        "count": 1
                      },
                      {
                        "bin_start": 2815652651.3999996,
                        "bin_end": 3278242737.2999997,
                        "count": 2
                      },
                      {
                        "bin_start": 3278242737.2999997,
                        "bin_end": 3740832823.2,
                        "count": 3
                      },
                      {
                        "bin_start": 3740832823.2,
                        "bin_end": 4203422909.1,
                        "count": 0
                      },
                      {
                        "bin_start": 4203422909.1,
                        "bin_end": 4666012995,
                        "count": 4
                      }
                    ]
                  }
                },
                {
                  "name": "monthly_deaths",
                  "dtype": "float64",
                  "stats": {
                    "unique_count": 39,
                    "nan_count": 0,
                    "min": "852.0",
                    "max": "1821477.0",
                    "histogram": [
                      {
                        "bin_start": 852,
                        "bin_end": 182914.5,
                        "count": 5
                      },
                      {
                        "bin_start": 182914.5,
                        "bin_end": 364977,
                        "count": 8
                      },
                      {
                        "bin_start": 364977,
                        "bin_end": 547039.5,
                        "count": 2
                      },
                      {
                        "bin_start": 547039.5,
                        "bin_end": 729102,
                        "count": 3
                      },
                      {
                        "bin_start": 729102,
                        "bin_end": 911164.5,
                        "count": 6
                      },
                      {
                        "bin_start": 911164.5,
                        "bin_end": 1093227,
                        "count": 6
                      },
                      {
                        "bin_start": 1093227,
                        "bin_end": 1275289.5,
                        "count": 5
                      },
                      {
                        "bin_start": 1275289.5,
                        "bin_end": 1457352,
                        "count": 0
                      },
                      {
                        "bin_start": 1457352,
                        "bin_end": 1639414.5,
                        "count": 3
                      },
                      {
                        "bin_start": 1639414.5,
                        "bin_end": 1821477,
                        "count": 1
                      }
                    ]
                  }
                },
                {
                  "name": "monthly_tests",
                  "dtype": "float64",
                  "stats": {
                    "unique_count": 30,
                    "nan_count": 9,
                    "min": "8071.0",
                    "max": "414525630.0",
                    "histogram": [
                      {
                        "bin_start": 8071,
                        "bin_end": 41459826.9,
                        "count": 4
                      },
                      {
                        "bin_start": 41459826.9,
                        "bin_end": 82911582.8,
                        "count": 4
                      },
                      {
                        "bin_start": 82911582.8,
                        "bin_end": 124363338.69999999,
                        "count": 3
                      },
                      {
                        "bin_start": 124363338.69999999,
                        "bin_end": 165815094.6,
                        "count": 2
                      },
                      {
                        "bin_start": 165815094.6,
                        "bin_end": 207266850.5,
                        "count": 4
                      },
                      {
                        "bin_start": 207266850.5,
                        "bin_end": 248718606.39999998,
                        "count": 7
                      },
                      {
                        "bin_start": 248718606.39999998,
                        "bin_end": 290170362.3,
                        "count": 4
                      },
                      {
                        "bin_start": 290170362.3,
                        "bin_end": 331622118.2,
                        "count": 1
                      },
                      {
                        "bin_start": 331622118.2,
                        "bin_end": 373073874.09999996,
                        "count": 0
                      },
                      {
                        "bin_start": 373073874.09999996,
                        "bin_end": 414525630,
                        "count": 1
                      }
                    ]
                  }
                },
                {
                  "name": "monthly_people_vaccinated",
                  "dtype": "float64",
                  "stats": {
                    "unique_count": 28,
                    "nan_count": 11,
                    "min": "192701123.0",
                    "max": "596968354071.0",
                    "histogram": [
                      {
                        "bin_start": 192701123,
                        "bin_end": 59870266417.8,
                        "count": 4
                      },
                      {
                        "bin_start": 59870266417.8,
                        "bin_end": 119547831712.6,
                        "count": 2
                      },
                      {
                        "bin_start": 119547831712.6,
                        "bin_end": 179225397007.40002,
                        "count": 1
                      },
                      {
                        "bin_start": 179225397007.40002,
                        "bin_end": 238902962302.2,
                        "count": 0
                      },
                      {
                        "bin_start": 238902962302.2,
                        "bin_end": 298580527597,
                        "count": 1
                      },
                      {
                        "bin_start": 298580527597,
                        "bin_end": 358258092891.80005,
                        "count": 1
                      },
                      {
                        "bin_start": 358258092891.80005,
                        "bin_end": 417935658186.60004,
                        "count": 1
                      },
                      {
                        "bin_start": 417935658186.60004,
                        "bin_end": 477613223481.4,
                        "count": 2
                      },
                      {
                        "bin_start": 477613223481.4,
                        "bin_end": 537290788776.2,
                        "count": 2
                      },
                      {
                        "bin_start": 537290788776.2,
                        "bin_end": 596968354071,
                        "count": 14
                      }
                    ]
                  }
                },
                {
                  "name": "monthly_people_fully_vaccinated",
                  "dtype": "float64",
                  "stats": {
                    "unique_count": 28,
                    "nan_count": 11,
                    "min": "1618525.0",
                    "max": "549647880841.0",
                    "histogram": [
                      {
                        "bin_start": 1618525,
                        "bin_end": 54966244756.6,
                        "count": 6
                      },
                      {
                        "bin_start": 54966244756.6,
                        "bin_end": 109930870988.2,
                        "count": 2
                      },
                      {
                        "bin_start": 109930870988.2,
                        "bin_end": 164895497219.8,
                        "count": 0
                      },
                      {
                        "bin_start": 164895497219.8,
                        "bin_end": 219860123451.4,
                        "count": 1
                      },
                      {
                        "bin_start": 219860123451.4,
                        "bin_end": 274824749683,
                        "count": 1
                      },
                      {
                        "bin_start": 274824749683,
                        "bin_end": 329789375914.6,
                        "count": 1
                      },
                      {
                        "bin_start": 329789375914.6,
                        "bin_end": 384754002146.2,
                        "count": 1
                      },
                      {
                        "bin_start": 384754002146.2,
                        "bin_end": 439718628377.8,
                        "count": 1
                      },
                      {
                        "bin_start": 439718628377.8,
                        "bin_end": 494683254609.39996,
                        "count": 2
                      },
                      {
                        "bin_start": 494683254609.39996,
                        "bin_end": 549647880841,
                        "count": 13
                      }
                    ]
                  }
                },
                {
                  "name": "_deepnote_index_column",
                  "dtype": "int64"
                }
              ],
              "rows": [
                {
                  "year": 2020,
                  "month": 1,
                  "monthly_vaccinations": "nan",
                  "monthly_deaths": 852,
                  "monthly_tests": 8071,
                  "monthly_people_vaccinated": "nan",
                  "monthly_people_fully_vaccinated": "nan",
                  "_deepnote_index_column": 0
                },
                {
                  "year": 2020,
                  "month": 2,
                  "monthly_vaccinations": "nan",
                  "monthly_deaths": 10889,
                  "monthly_tests": 160885,
                  "monthly_people_vaccinated": "nan",
                  "monthly_people_fully_vaccinated": "nan",
                  "_deepnote_index_column": 1
                },
                {
                  "year": 2020,
                  "month": 3,
                  "monthly_vaccinations": "nan",
                  "monthly_deaths": 190171,
                  "monthly_tests": 4534190,
                  "monthly_people_vaccinated": "nan",
                  "monthly_people_fully_vaccinated": "nan",
                  "_deepnote_index_column": 2
                },
                {
                  "year": 2020,
                  "month": 4,
                  "monthly_vaccinations": "nan",
                  "monthly_deaths": 855542,
                  "monthly_tests": 21027343,
                  "monthly_people_vaccinated": "nan",
                  "monthly_people_fully_vaccinated": "nan",
                  "_deepnote_index_column": 3
                },
                {
                  "year": 2020,
                  "month": 5,
                  "monthly_vaccinations": "nan",
                  "monthly_deaths": 662852,
                  "monthly_tests": 41932120,
                  "monthly_people_vaccinated": "nan",
                  "monthly_people_fully_vaccinated": "nan",
                  "_deepnote_index_column": 4
                },
                {
                  "year": 2020,
                  "month": 6,
                  "monthly_vaccinations": "nan",
                  "monthly_deaths": 618472,
                  "monthly_tests": 57042119,
                  "monthly_people_vaccinated": "nan",
                  "monthly_people_fully_vaccinated": "nan",
                  "_deepnote_index_column": 5
                },
                {
                  "year": 2020,
                  "month": 7,
                  "monthly_vaccinations": "nan",
                  "monthly_deaths": 743783,
                  "monthly_tests": 79188219,
                  "monthly_people_vaccinated": "nan",
                  "monthly_people_fully_vaccinated": "nan",
                  "_deepnote_index_column": 6
                },
                {
                  "year": 2020,
                  "month": 8,
                  "monthly_vaccinations": "nan",
                  "monthly_deaths": 779511,
                  "monthly_tests": 100182713,
                  "monthly_people_vaccinated": "nan",
                  "monthly_people_fully_vaccinated": "nan",
                  "_deepnote_index_column": 7
                },
                {
                  "year": 2020,
                  "month": 9,
                  "monthly_vaccinations": "nan",
                  "monthly_deaths": 684786,
                  "monthly_tests": 121252683,
                  "monthly_people_vaccinated": "nan",
                  "monthly_people_fully_vaccinated": "nan",
                  "_deepnote_index_column": 8
                },
                {
                  "year": 2020,
                  "month": 10,
                  "monthly_vaccinations": "nan",
                  "monthly_deaths": 757125,
                  "monthly_tests": 154160549,
                  "monthly_people_vaccinated": "nan",
                  "monthly_people_fully_vaccinated": "nan",
                  "_deepnote_index_column": 9
                }
              ]
            },
            "text/plain": "    year  month  monthly_vaccinations  monthly_deaths  monthly_tests  \\\n0   2020      1                   NaN           852.0         8071.0   \n1   2020      2                   NaN         10889.0       160885.0   \n2   2020      3                   NaN        190171.0      4534190.0   \n3   2020      4                   NaN        855542.0     21027343.0   \n4   2020      5                   NaN        662852.0     41932120.0   \n5   2020      6                   NaN        618472.0     57042119.0   \n6   2020      7                   NaN        743783.0     79188219.0   \n7   2020      8                   NaN        779511.0    100182713.0   \n8   2020      9                   NaN        684786.0    121252683.0   \n9   2020     10                   NaN        757125.0    154160549.0   \n10  2020     11                   NaN       1236248.0    169699114.0   \n11  2020     12          4.011214e+07       1565872.0    190597125.0   \n12  2021      1          3.672987e+08       1821477.0    201980882.0   \n13  2021      2          6.543309e+08       1274065.0    169709671.0   \n14  2021      3          1.424908e+09       1192633.0    226168116.0   \n15  2021      4          2.224727e+09       1561261.0    240544279.0   \n16  2021      5          3.261560e+09       1565601.0    238522308.0   \n17  2021      6          4.666013e+09       1089264.0    236332902.0   \n18  2021      7          4.282347e+09       1081255.0    241779272.0   \n19  2021      8          4.632045e+09       1240457.0    259001318.0   \n20  2021      9          3.676056e+09       1044952.0    269662635.0   \n21  2021     10          3.076890e+09        895385.0    247573082.0   \n22  2021     11          3.688916e+09        916010.0    252552376.0   \n23  2021     12          4.504755e+09        926472.0    328935722.0   \n24  2022      1          3.542462e+09       1033623.0    414525630.0   \n25  2022      2          2.487714e+09       1178622.0    278733908.0   \n26  2022      3          1.923384e+09        787802.0    213907760.0   \n27  2022      4          1.174060e+09        375014.0    164296863.0   \n28  2022      5          8.456897e+08        214866.0     99097076.0   \n29  2022      6          9.334478e+08        178054.0     50412999.0   \n30  2022      7          9.499268e+08        288238.0            NaN   \n31  2022      8          8.095600e+08        303241.0            NaN   \n32  2022      9          6.498856e+08        204987.0            NaN   \n33  2022     10          5.088209e+08        215992.0            NaN   \n34  2022     11          4.204422e+08        185308.0            NaN   \n35  2022     12          5.130268e+08        312447.0            NaN   \n36  2023      1          3.335259e+08        511184.0            NaN   \n37  2023      2          1.349883e+08        168192.0            NaN   \n38  2023      3          7.088971e+07        102638.0            NaN   \n\n    monthly_people_vaccinated  monthly_people_fully_vaccinated  \n0                         NaN                              NaN  \n1                         NaN                              NaN  \n2                         NaN                              NaN  \n3                         NaN                              NaN  \n4                         NaN                              NaN  \n5                         NaN                              NaN  \n6                         NaN                              NaN  \n7                         NaN                              NaN  \n8                         NaN                              NaN  \n9                         NaN                              NaN  \n10                        NaN                              NaN  \n11               1.927011e+08                     1.618525e+06  \n12               4.253756e+09                     5.846641e+08  \n13               1.282870e+10                     3.972112e+09  \n14               3.267061e+10                     1.261110e+10  \n15               6.144110e+10                     2.602342e+10  \n16               9.420388e+10                     4.785047e+10  \n17               1.696341e+11                     6.851283e+10  \n18               2.398570e+11                     1.021779e+11  \n19               3.001271e+11                     1.909669e+11  \n20               3.770255e+11                     2.704377e+11  \n21               4.300258e+11                     3.248631e+11  \n22               4.547011e+11                     3.583565e+11  \n23               5.034733e+11                     4.232285e+11  \n24               5.403511e+11                     4.636701e+11  \n25               5.057347e+11                     4.430645e+11  \n26               5.768795e+11                     5.148113e+11  \n27               5.569906e+11                     5.037622e+11  \n28               5.836799e+11                     5.317403e+11  \n29               5.668623e+11                     5.184180e+11  \n30               5.783522e+11                     5.317026e+11  \n31               5.849231e+11                     5.381950e+11  \n32               5.710108e+11                     5.258167e+11  \n33               5.839058e+11                     5.390285e+11  \n34               5.713915e+11                     5.246818e+11  \n35               5.931021e+11                     5.444324e+11  \n36               5.969684e+11                     5.496479e+11  \n37               5.375882e+11                     4.952341e+11  \n38               5.669965e+11                     5.227551e+11  ",
            "text/html": "<div>\n<style scoped>\n    .dataframe tbody tr th:only-of-type {\n        vertical-align: middle;\n    }\n\n    .dataframe tbody tr th {\n        vertical-align: top;\n    }\n\n    .dataframe thead th {\n        text-align: right;\n    }\n</style>\n<table border=\"1\" class=\"dataframe\">\n  <thead>\n    <tr style=\"text-align: right;\">\n      <th></th>\n      <th>year</th>\n      <th>month</th>\n      <th>monthly_vaccinations</th>\n      <th>monthly_deaths</th>\n      <th>monthly_tests</th>\n      <th>monthly_people_vaccinated</th>\n      <th>monthly_people_fully_vaccinated</th>\n    </tr>\n  </thead>\n  <tbody>\n    <tr>\n      <th>0</th>\n      <td>2020</td>\n      <td>1</td>\n      <td>NaN</td>\n      <td>852.0</td>\n      <td>8071.0</td>\n      <td>NaN</td>\n      <td>NaN</td>\n    </tr>\n    <tr>\n      <th>1</th>\n      <td>2020</td>\n      <td>2</td>\n      <td>NaN</td>\n      <td>10889.0</td>\n      <td>160885.0</td>\n      <td>NaN</td>\n      <td>NaN</td>\n    </tr>\n    <tr>\n      <th>2</th>\n      <td>2020</td>\n      <td>3</td>\n      <td>NaN</td>\n      <td>190171.0</td>\n      <td>4534190.0</td>\n      <td>NaN</td>\n      <td>NaN</td>\n    </tr>\n    <tr>\n      <th>3</th>\n      <td>2020</td>\n      <td>4</td>\n      <td>NaN</td>\n      <td>855542.0</td>\n      <td>21027343.0</td>\n      <td>NaN</td>\n      <td>NaN</td>\n    </tr>\n    <tr>\n      <th>4</th>\n      <td>2020</td>\n      <td>5</td>\n      <td>NaN</td>\n      <td>662852.0</td>\n      <td>41932120.0</td>\n      <td>NaN</td>\n      <td>NaN</td>\n    </tr>\n    <tr>\n      <th>5</th>\n      <td>2020</td>\n      <td>6</td>\n      <td>NaN</td>\n      <td>618472.0</td>\n      <td>57042119.0</td>\n      <td>NaN</td>\n      <td>NaN</td>\n    </tr>\n    <tr>\n      <th>6</th>\n      <td>2020</td>\n      <td>7</td>\n      <td>NaN</td>\n      <td>743783.0</td>\n      <td>79188219.0</td>\n      <td>NaN</td>\n      <td>NaN</td>\n    </tr>\n    <tr>\n      <th>7</th>\n      <td>2020</td>\n      <td>8</td>\n      <td>NaN</td>\n      <td>779511.0</td>\n      <td>100182713.0</td>\n      <td>NaN</td>\n      <td>NaN</td>\n    </tr>\n    <tr>\n      <th>8</th>\n      <td>2020</td>\n      <td>9</td>\n      <td>NaN</td>\n      <td>684786.0</td>\n      <td>121252683.0</td>\n      <td>NaN</td>\n      <td>NaN</td>\n    </tr>\n    <tr>\n      <th>9</th>\n      <td>2020</td>\n      <td>10</td>\n      <td>NaN</td>\n      <td>757125.0</td>\n      <td>154160549.0</td>\n      <td>NaN</td>\n      <td>NaN</td>\n    </tr>\n    <tr>\n      <th>10</th>\n      <td>2020</td>\n      <td>11</td>\n      <td>NaN</td>\n      <td>1236248.0</td>\n      <td>169699114.0</td>\n      <td>NaN</td>\n      <td>NaN</td>\n    </tr>\n    <tr>\n      <th>11</th>\n      <td>2020</td>\n      <td>12</td>\n      <td>4.011214e+07</td>\n      <td>1565872.0</td>\n      <td>190597125.0</td>\n      <td>1.927011e+08</td>\n      <td>1.618525e+06</td>\n    </tr>\n    <tr>\n      <th>12</th>\n      <td>2021</td>\n      <td>1</td>\n      <td>3.672987e+08</td>\n      <td>1821477.0</td>\n      <td>201980882.0</td>\n      <td>4.253756e+09</td>\n      <td>5.846641e+08</td>\n    </tr>\n    <tr>\n      <th>13</th>\n      <td>2021</td>\n      <td>2</td>\n      <td>6.543309e+08</td>\n      <td>1274065.0</td>\n      <td>169709671.0</td>\n      <td>1.282870e+10</td>\n      <td>3.972112e+09</td>\n    </tr>\n    <tr>\n      <th>14</th>\n      <td>2021</td>\n      <td>3</td>\n      <td>1.424908e+09</td>\n      <td>1192633.0</td>\n      <td>226168116.0</td>\n      <td>3.267061e+10</td>\n      <td>1.261110e+10</td>\n    </tr>\n    <tr>\n      <th>15</th>\n      <td>2021</td>\n      <td>4</td>\n      <td>2.224727e+09</td>\n      <td>1561261.0</td>\n      <td>240544279.0</td>\n      <td>6.144110e+10</td>\n      <td>2.602342e+10</td>\n    </tr>\n    <tr>\n      <th>16</th>\n      <td>2021</td>\n      <td>5</td>\n      <td>3.261560e+09</td>\n      <td>1565601.0</td>\n      <td>238522308.0</td>\n      <td>9.420388e+10</td>\n      <td>4.785047e+10</td>\n    </tr>\n    <tr>\n      <th>17</th>\n      <td>2021</td>\n      <td>6</td>\n      <td>4.666013e+09</td>\n      <td>1089264.0</td>\n      <td>236332902.0</td>\n      <td>1.696341e+11</td>\n      <td>6.851283e+10</td>\n    </tr>\n    <tr>\n      <th>18</th>\n      <td>2021</td>\n      <td>7</td>\n      <td>4.282347e+09</td>\n      <td>1081255.0</td>\n      <td>241779272.0</td>\n      <td>2.398570e+11</td>\n      <td>1.021779e+11</td>\n    </tr>\n    <tr>\n      <th>19</th>\n      <td>2021</td>\n      <td>8</td>\n      <td>4.632045e+09</td>\n      <td>1240457.0</td>\n      <td>259001318.0</td>\n      <td>3.001271e+11</td>\n      <td>1.909669e+11</td>\n    </tr>\n    <tr>\n      <th>20</th>\n      <td>2021</td>\n      <td>9</td>\n      <td>3.676056e+09</td>\n      <td>1044952.0</td>\n      <td>269662635.0</td>\n      <td>3.770255e+11</td>\n      <td>2.704377e+11</td>\n    </tr>\n    <tr>\n      <th>21</th>\n      <td>2021</td>\n      <td>10</td>\n      <td>3.076890e+09</td>\n      <td>895385.0</td>\n      <td>247573082.0</td>\n      <td>4.300258e+11</td>\n      <td>3.248631e+11</td>\n    </tr>\n    <tr>\n      <th>22</th>\n      <td>2021</td>\n      <td>11</td>\n      <td>3.688916e+09</td>\n      <td>916010.0</td>\n      <td>252552376.0</td>\n      <td>4.547011e+11</td>\n      <td>3.583565e+11</td>\n    </tr>\n    <tr>\n      <th>23</th>\n      <td>2021</td>\n      <td>12</td>\n      <td>4.504755e+09</td>\n      <td>926472.0</td>\n      <td>328935722.0</td>\n      <td>5.034733e+11</td>\n      <td>4.232285e+11</td>\n    </tr>\n    <tr>\n      <th>24</th>\n      <td>2022</td>\n      <td>1</td>\n      <td>3.542462e+09</td>\n      <td>1033623.0</td>\n      <td>414525630.0</td>\n      <td>5.403511e+11</td>\n      <td>4.636701e+11</td>\n    </tr>\n    <tr>\n      <th>25</th>\n      <td>2022</td>\n      <td>2</td>\n      <td>2.487714e+09</td>\n      <td>1178622.0</td>\n      <td>278733908.0</td>\n      <td>5.057347e+11</td>\n      <td>4.430645e+11</td>\n    </tr>\n    <tr>\n      <th>26</th>\n      <td>2022</td>\n      <td>3</td>\n      <td>1.923384e+09</td>\n      <td>787802.0</td>\n      <td>213907760.0</td>\n      <td>5.768795e+11</td>\n      <td>5.148113e+11</td>\n    </tr>\n    <tr>\n      <th>27</th>\n      <td>2022</td>\n      <td>4</td>\n      <td>1.174060e+09</td>\n      <td>375014.0</td>\n      <td>164296863.0</td>\n      <td>5.569906e+11</td>\n      <td>5.037622e+11</td>\n    </tr>\n    <tr>\n      <th>28</th>\n      <td>2022</td>\n      <td>5</td>\n      <td>8.456897e+08</td>\n      <td>214866.0</td>\n      <td>99097076.0</td>\n      <td>5.836799e+11</td>\n      <td>5.317403e+11</td>\n    </tr>\n    <tr>\n      <th>29</th>\n      <td>2022</td>\n      <td>6</td>\n      <td>9.334478e+08</td>\n      <td>178054.0</td>\n      <td>50412999.0</td>\n      <td>5.668623e+11</td>\n      <td>5.184180e+11</td>\n    </tr>\n    <tr>\n      <th>30</th>\n      <td>2022</td>\n      <td>7</td>\n      <td>9.499268e+08</td>\n      <td>288238.0</td>\n      <td>NaN</td>\n      <td>5.783522e+11</td>\n      <td>5.317026e+11</td>\n    </tr>\n    <tr>\n      <th>31</th>\n      <td>2022</td>\n      <td>8</td>\n      <td>8.095600e+08</td>\n      <td>303241.0</td>\n      <td>NaN</td>\n      <td>5.849231e+11</td>\n      <td>5.381950e+11</td>\n    </tr>\n    <tr>\n      <th>32</th>\n      <td>2022</td>\n      <td>9</td>\n      <td>6.498856e+08</td>\n      <td>204987.0</td>\n      <td>NaN</td>\n      <td>5.710108e+11</td>\n      <td>5.258167e+11</td>\n    </tr>\n    <tr>\n      <th>33</th>\n      <td>2022</td>\n      <td>10</td>\n      <td>5.088209e+08</td>\n      <td>215992.0</td>\n      <td>NaN</td>\n      <td>5.839058e+11</td>\n      <td>5.390285e+11</td>\n    </tr>\n    <tr>\n      <th>34</th>\n      <td>2022</td>\n      <td>11</td>\n      <td>4.204422e+08</td>\n      <td>185308.0</td>\n      <td>NaN</td>\n      <td>5.713915e+11</td>\n      <td>5.246818e+11</td>\n    </tr>\n    <tr>\n      <th>35</th>\n      <td>2022</td>\n      <td>12</td>\n      <td>5.130268e+08</td>\n      <td>312447.0</td>\n      <td>NaN</td>\n      <td>5.931021e+11</td>\n      <td>5.444324e+11</td>\n    </tr>\n    <tr>\n      <th>36</th>\n      <td>2023</td>\n      <td>1</td>\n      <td>3.335259e+08</td>\n      <td>511184.0</td>\n      <td>NaN</td>\n      <td>5.969684e+11</td>\n      <td>5.496479e+11</td>\n    </tr>\n    <tr>\n      <th>37</th>\n      <td>2023</td>\n      <td>2</td>\n      <td>1.349883e+08</td>\n      <td>168192.0</td>\n      <td>NaN</td>\n      <td>5.375882e+11</td>\n      <td>4.952341e+11</td>\n    </tr>\n    <tr>\n      <th>38</th>\n      <td>2023</td>\n      <td>3</td>\n      <td>7.088971e+07</td>\n      <td>102638.0</td>\n      <td>NaN</td>\n      <td>5.669965e+11</td>\n      <td>5.227551e+11</td>\n    </tr>\n  </tbody>\n</table>\n</div>"
          },
          "metadata": {}
        }
      ],
      "execution_count": 14,
      "block_group": "665bad5417014e9da00d3ec9f2422671"
    },
    {
      "cell_type": "markdown",
      "source": "### Ratios by Country\nCalculate ratios such as deaths per population, vaccinations per population, people vaccinated per population, and people fully vaccinated per population.",
      "metadata": {
        "noteable": {
          "cell_type": "markdown"
        },
        "cell_id": "f9c342159ffa485696af2b49fc9b5d8a",
        "deepnote_cell_type": "markdown"
      },
      "block_group": "0194fd2288c04850b1e64a8efb7db6d9"
    },
    {
      "cell_type": "code",
      "source": "df_15 = _deepnote_execute_sql('SELECT  location, \\n        SUM(new_vaccinations_smoothed_per_million) AS new_vaccinations_per_million \\nFROM `covid19_data.covid19-data` \\nGROUP BY location \\nHAVING new_vaccinations_per_million > 0 \\nORDER BY new_vaccinations_per_million DESC;', 'SQL_E2E7BAC6_19C0_4753_95A0_157A1F88869C', audit_sql_comment='', sql_cache_mode='cache_disabled')\ndf_15",
      "metadata": {
        "source_hash": "49d779a7",
        "execution_start": 1703086374384,
        "execution_millis": 1800,
        "sql_integration_id": "e2e7bac6-19c0-4753-95a0-157a1f88869c",
        "deepnote_variable_name": "df_15",
        "deepnote_to_be_reexecuted": false,
        "cell_id": "19cf06763d1b4a628b7dabb6ef3f9478",
        "deepnote_cell_type": "sql",
        "deepnote_sql_source": "SELECT  location, \n        SUM(new_vaccinations_smoothed_per_million) AS new_vaccinations_per_million \nFROM `covid19_data.covid19-data` \nGROUP BY location \nHAVING new_vaccinations_per_million > 0 \nORDER BY new_vaccinations_per_million DESC;"
      },
      "outputs": [
        {
          "data": {
            "application/vnd.deepnote.sql-output-metadata+json": {
              "status": "success_no_cache",
              "size_in_bytes": 17507
            }
          },
          "metadata": {},
          "output_type": "display_data"
        },
        {
          "output_type": "execute_result",
          "execution_count": 15,
          "data": {
            "application/vnd.deepnote.dataframe.v3+json": {
              "column_count": 2,
              "row_count": 235,
              "columns": [
                {
                  "name": "location",
                  "dtype": "object",
                  "stats": {
                    "unique_count": 235,
                    "nan_count": 0,
                    "categories": [
                      {
                        "name": "Gibraltar",
                        "count": 1
                      },
                      {
                        "name": "Cuba",
                        "count": 1
                      },
                      {
                        "name": "233 others",
                        "count": 233
                      }
                    ]
                  }
                },
                {
                  "name": "new_vaccinations_per_million",
                  "dtype": "float64",
                  "stats": {
                    "unique_count": 235,
                    "nan_count": 0,
                    "min": "2765.0",
                    "max": "4137148.0",
                    "histogram": [
                      {
                        "bin_start": 2765,
                        "bin_end": 416203.3,
                        "count": 27
                      },
                      {
                        "bin_start": 416203.3,
                        "bin_end": 829641.6,
                        "count": 33
                      },
                      {
                        "bin_start": 829641.6,
                        "bin_end": 1243079.9,
                        "count": 34
                      },
                      {
                        "bin_start": 1243079.9,
                        "bin_end": 1656518.2,
                        "count": 37
                      },
                      {
                        "bin_start": 1656518.2,
                        "bin_end": 2069956.5,
                        "count": 39
                      },
                      {
                        "bin_start": 2069956.5,
                        "bin_end": 2483394.8,
                        "count": 36
                      },
                      {
                        "bin_start": 2483394.8,
                        "bin_end": 2896833.1,
                        "count": 24
                      },
                      {
                        "bin_start": 2896833.1,
                        "bin_end": 3310271.4,
                        "count": 3
                      },
                      {
                        "bin_start": 3310271.4,
                        "bin_end": 3723709.6999999997,
                        "count": 0
                      },
                      {
                        "bin_start": 3723709.6999999997,
                        "bin_end": 4137148,
                        "count": 2
                      }
                    ]
                  }
                },
                {
                  "name": "_deepnote_index_column",
                  "dtype": "int64"
                }
              ],
              "rows": [
                {
                  "location": "Gibraltar",
                  "new_vaccinations_per_million": 4137148,
                  "_deepnote_index_column": 0
                },
                {
                  "location": "Cuba",
                  "new_vaccinations_per_million": 3775094,
                  "_deepnote_index_column": 1
                },
                {
                  "location": "Chile",
                  "new_vaccinations_per_million": 3198099,
                  "_deepnote_index_column": 2
                },
                {
                  "location": "Japan",
                  "new_vaccinations_per_million": 3091025,
                  "_deepnote_index_column": 3
                },
                {
                  "location": "Bhutan",
                  "new_vaccinations_per_million": 2903738,
                  "_deepnote_index_column": 4
                },
                {
                  "location": "Brunei",
                  "new_vaccinations_per_million": 2879467,
                  "_deepnote_index_column": 5
                },
                {
                  "location": "Tokelau",
                  "new_vaccinations_per_million": 2849547,
                  "_deepnote_index_column": 6
                },
                {
                  "location": "Taiwan",
                  "new_vaccinations_per_million": 2826497,
                  "_deepnote_index_column": 7
                },
                {
                  "location": "Qatar",
                  "new_vaccinations_per_million": 2824462,
                  "_deepnote_index_column": 8
                },
                {
                  "location": "Cambodia",
                  "new_vaccinations_per_million": 2779734,
                  "_deepnote_index_column": 9
                }
              ]
            },
            "text/plain": "             location  new_vaccinations_per_million\n0           Gibraltar                     4137148.0\n1                Cuba                     3775094.0\n2               Chile                     3198099.0\n3               Japan                     3091025.0\n4              Bhutan                     2903738.0\n..                ...                           ...\n230        Madagascar                       93693.0\n231  Papua New Guinea                       71749.0\n232             Haiti                       44540.0\n233             Yemen                       37124.0\n234           Burundi                        2765.0\n\n[235 rows x 2 columns]",
            "text/html": "<div>\n<style scoped>\n    .dataframe tbody tr th:only-of-type {\n        vertical-align: middle;\n    }\n\n    .dataframe tbody tr th {\n        vertical-align: top;\n    }\n\n    .dataframe thead th {\n        text-align: right;\n    }\n</style>\n<table border=\"1\" class=\"dataframe\">\n  <thead>\n    <tr style=\"text-align: right;\">\n      <th></th>\n      <th>location</th>\n      <th>new_vaccinations_per_million</th>\n    </tr>\n  </thead>\n  <tbody>\n    <tr>\n      <th>0</th>\n      <td>Gibraltar</td>\n      <td>4137148.0</td>\n    </tr>\n    <tr>\n      <th>1</th>\n      <td>Cuba</td>\n      <td>3775094.0</td>\n    </tr>\n    <tr>\n      <th>2</th>\n      <td>Chile</td>\n      <td>3198099.0</td>\n    </tr>\n    <tr>\n      <th>3</th>\n      <td>Japan</td>\n      <td>3091025.0</td>\n    </tr>\n    <tr>\n      <th>4</th>\n      <td>Bhutan</td>\n      <td>2903738.0</td>\n    </tr>\n    <tr>\n      <th>...</th>\n      <td>...</td>\n      <td>...</td>\n    </tr>\n    <tr>\n      <th>230</th>\n      <td>Madagascar</td>\n      <td>93693.0</td>\n    </tr>\n    <tr>\n      <th>231</th>\n      <td>Papua New Guinea</td>\n      <td>71749.0</td>\n    </tr>\n    <tr>\n      <th>232</th>\n      <td>Haiti</td>\n      <td>44540.0</td>\n    </tr>\n    <tr>\n      <th>233</th>\n      <td>Yemen</td>\n      <td>37124.0</td>\n    </tr>\n    <tr>\n      <th>234</th>\n      <td>Burundi</td>\n      <td>2765.0</td>\n    </tr>\n  </tbody>\n</table>\n<p>235 rows × 2 columns</p>\n</div>"
          },
          "metadata": {}
        }
      ],
      "execution_count": 15,
      "block_group": "064b3054b47948a48db9fd344ff5f662"
    },
    {
      "cell_type": "markdown",
      "source": "### Geographical Distribution Analysis\nExploring the distribution of COVID-19 cases by geographical regions.",
      "metadata": {
        "noteable": {
          "cell_type": "markdown"
        },
        "cell_id": "5b8303dd6d4048508db6e0c7243eb4dc",
        "deepnote_cell_type": "markdown"
      },
      "block_group": "e683fe070cf047fdaa0c5de4bf713025"
    },
    {
      "cell_type": "code",
      "source": "df_16 = _deepnote_execute_sql('SELECT  location, \\n        MAX(total_cases) AS total_cases \\nFROM `covid19_data.covid19-data` \\nWHERE location NOT LIKE \\'%income%\\' AND \\n        location NOT LIKE \\'%World%\\' \\nGROUP BY location \\nHAVING total_cases > 0 \\nORDER BY total_cases DESC;', 'SQL_E2E7BAC6_19C0_4753_95A0_157A1F88869C', audit_sql_comment='', sql_cache_mode='cache_disabled')\ndf_16",
      "metadata": {
        "source_hash": "c0d3db7f",
        "execution_start": 1703086376204,
        "execution_millis": 2078,
        "sql_integration_id": "e2e7bac6-19c0-4753-95a0-157a1f88869c",
        "deepnote_variable_name": "df_16",
        "deepnote_to_be_reexecuted": false,
        "cell_id": "1a8c8159313541418899520070d42d85",
        "deepnote_cell_type": "sql",
        "deepnote_sql_source": "SELECT  location, \n        MAX(total_cases) AS total_cases \nFROM `covid19_data.covid19-data` \nWHERE location NOT LIKE '%income%' AND \n        location NOT LIKE '%World%' \nGROUP BY location \nHAVING total_cases > 0 \nORDER BY total_cases DESC;"
      },
      "outputs": [
        {
          "data": {
            "application/vnd.deepnote.sql-output-metadata+json": {
              "status": "success_no_cache",
              "size_in_bytes": 17870
            }
          },
          "metadata": {},
          "output_type": "display_data"
        },
        {
          "output_type": "execute_result",
          "execution_count": 16,
          "data": {
            "application/vnd.deepnote.dataframe.v3+json": {
              "column_count": 2,
              "row_count": 239,
              "columns": [
                {
                  "name": "location",
                  "dtype": "object",
                  "stats": {
                    "unique_count": 239,
                    "nan_count": 0,
                    "categories": [
                      {
                        "name": "Asia",
                        "count": 1
                      },
                      {
                        "name": "Europe",
                        "count": 1
                      },
                      {
                        "name": "237 others",
                        "count": 237
                      }
                    ]
                  }
                },
                {
                  "name": "total_cases",
                  "dtype": "float64",
                  "stats": {
                    "unique_count": 239,
                    "nan_count": 0,
                    "min": "4.0",
                    "max": "295438685.0",
                    "histogram": [
                      {
                        "bin_start": 4,
                        "bin_end": 29543872.1,
                        "count": 226
                      },
                      {
                        "bin_start": 29543872.1,
                        "bin_end": 59087740.2,
                        "count": 6
                      },
                      {
                        "bin_start": 59087740.2,
                        "bin_end": 88631608.30000001,
                        "count": 1
                      },
                      {
                        "bin_start": 88631608.30000001,
                        "bin_end": 118175476.4,
                        "count": 2
                      },
                      {
                        "bin_start": 118175476.4,
                        "bin_end": 147719344.5,
                        "count": 1
                      },
                      {
                        "bin_start": 147719344.5,
                        "bin_end": 177263212.60000002,
                        "count": 0
                      },
                      {
                        "bin_start": 177263212.60000002,
                        "bin_end": 206807080.70000002,
                        "count": 1
                      },
                      {
                        "bin_start": 206807080.70000002,
                        "bin_end": 236350948.8,
                        "count": 0
                      },
                      {
                        "bin_start": 236350948.8,
                        "bin_end": 265894816.9,
                        "count": 1
                      },
                      {
                        "bin_start": 265894816.9,
                        "bin_end": 295438685,
                        "count": 1
                      }
                    ]
                  }
                },
                {
                  "name": "_deepnote_index_column",
                  "dtype": "int64"
                }
              ],
              "rows": [
                {
                  "location": "Asia",
                  "total_cases": 295438685,
                  "_deepnote_index_column": 0
                },
                {
                  "location": "Europe",
                  "total_cases": 247649657,
                  "_deepnote_index_column": 1
                },
                {
                  "location": "European Union",
                  "total_cases": 183150392,
                  "_deepnote_index_column": 2
                },
                {
                  "location": "North America",
                  "total_cases": 123272458,
                  "_deepnote_index_column": 3
                },
                {
                  "location": "United States",
                  "total_cases": 102697566,
                  "_deepnote_index_column": 4
                },
                {
                  "location": "China",
                  "total_cases": 99238143,
                  "_deepnote_index_column": 5
                },
                {
                  "location": "South America",
                  "total_cases": 68193137,
                  "_deepnote_index_column": 6
                },
                {
                  "location": "India",
                  "total_cases": 44707525,
                  "_deepnote_index_column": 7
                },
                {
                  "location": "France",
                  "total_cases": 38677413,
                  "_deepnote_index_column": 8
                },
                {
                  "location": "Germany",
                  "total_cases": 38338298,
                  "_deepnote_index_column": 9
                }
              ]
            },
            "text/plain": "           location  total_cases\n0              Asia  295438685.0\n1            Europe  247649657.0\n2    European Union  183150392.0\n3     North America  123272458.0\n4     United States  102697566.0\n..              ...          ...\n234      Montserrat       1403.0\n235            Niue        747.0\n236         Vatican         26.0\n237         Tokelau          5.0\n238        Pitcairn          4.0\n\n[239 rows x 2 columns]",
            "text/html": "<div>\n<style scoped>\n    .dataframe tbody tr th:only-of-type {\n        vertical-align: middle;\n    }\n\n    .dataframe tbody tr th {\n        vertical-align: top;\n    }\n\n    .dataframe thead th {\n        text-align: right;\n    }\n</style>\n<table border=\"1\" class=\"dataframe\">\n  <thead>\n    <tr style=\"text-align: right;\">\n      <th></th>\n      <th>location</th>\n      <th>total_cases</th>\n    </tr>\n  </thead>\n  <tbody>\n    <tr>\n      <th>0</th>\n      <td>Asia</td>\n      <td>295438685.0</td>\n    </tr>\n    <tr>\n      <th>1</th>\n      <td>Europe</td>\n      <td>247649657.0</td>\n    </tr>\n    <tr>\n      <th>2</th>\n      <td>European Union</td>\n      <td>183150392.0</td>\n    </tr>\n    <tr>\n      <th>3</th>\n      <td>North America</td>\n      <td>123272458.0</td>\n    </tr>\n    <tr>\n      <th>4</th>\n      <td>United States</td>\n      <td>102697566.0</td>\n    </tr>\n    <tr>\n      <th>...</th>\n      <td>...</td>\n      <td>...</td>\n    </tr>\n    <tr>\n      <th>234</th>\n      <td>Montserrat</td>\n      <td>1403.0</td>\n    </tr>\n    <tr>\n      <th>235</th>\n      <td>Niue</td>\n      <td>747.0</td>\n    </tr>\n    <tr>\n      <th>236</th>\n      <td>Vatican</td>\n      <td>26.0</td>\n    </tr>\n    <tr>\n      <th>237</th>\n      <td>Tokelau</td>\n      <td>5.0</td>\n    </tr>\n    <tr>\n      <th>238</th>\n      <td>Pitcairn</td>\n      <td>4.0</td>\n    </tr>\n  </tbody>\n</table>\n<p>239 rows × 2 columns</p>\n</div>"
          },
          "metadata": {}
        }
      ],
      "execution_count": 16,
      "block_group": "63210ce3a67c40beb87d29e8646207b3"
    },
    {
      "cell_type": "code",
      "source": "df_17 = _deepnote_execute_sql('SELECT SAFE_DIVIDE(SUM(max_deaths), SUM(max_cases)) * 100 AS global_death_percentage \\nFROM (SELECT location, \\n             MAX(total_deaths) AS max_deaths, \\n             MAX(total_cases) AS max_cases \\n             FROM `covid19_data.covid19-data` \\n             GROUP BY location);', 'SQL_E2E7BAC6_19C0_4753_95A0_157A1F88869C', audit_sql_comment='', sql_cache_mode='cache_disabled')\ndf_17",
      "metadata": {
        "source_hash": "2745dc32",
        "execution_start": 1703086378297,
        "execution_millis": 1777,
        "sql_integration_id": "e2e7bac6-19c0-4753-95a0-157a1f88869c",
        "deepnote_variable_name": "df_17",
        "deepnote_to_be_reexecuted": false,
        "cell_id": "a3589d89079142ff85a4618951f01197",
        "deepnote_cell_type": "sql",
        "deepnote_sql_source": "SELECT SAFE_DIVIDE(SUM(max_deaths), SUM(max_cases)) * 100 AS global_death_percentage \nFROM (SELECT location, \n             MAX(total_deaths) AS max_deaths, \n             MAX(total_cases) AS max_cases \n             FROM `covid19_data.covid19-data` \n             GROUP BY location);"
      },
      "outputs": [
        {
          "data": {
            "application/vnd.deepnote.sql-output-metadata+json": {
              "status": "success_no_cache",
              "size_in_bytes": 136
            }
          },
          "metadata": {},
          "output_type": "display_data"
        },
        {
          "output_type": "execute_result",
          "execution_count": 17,
          "data": {
            "application/vnd.deepnote.dataframe.v3+json": {
              "column_count": 1,
              "row_count": 1,
              "columns": [
                {
                  "name": "global_death_percentage",
                  "dtype": "float64",
                  "stats": {
                    "unique_count": 1,
                    "nan_count": 0,
                    "min": "0.8912292479572892",
                    "max": "0.8912292479572892",
                    "histogram": [
                      {
                        "bin_start": 0.3912292479572892,
                        "bin_end": 0.4912292479572892,
                        "count": 0
                      },
                      {
                        "bin_start": 0.4912292479572892,
                        "bin_end": 0.5912292479572892,
                        "count": 0
                      },
                      {
                        "bin_start": 0.5912292479572892,
                        "bin_end": 0.6912292479572892,
                        "count": 0
                      },
                      {
                        "bin_start": 0.6912292479572892,
                        "bin_end": 0.7912292479572892,
                        "count": 0
                      },
                      {
                        "bin_start": 0.7912292479572892,
                        "bin_end": 0.8912292479572892,
                        "count": 0
                      },
                      {
                        "bin_start": 0.8912292479572892,
                        "bin_end": 0.9912292479572893,
                        "count": 1
                      },
                      {
                        "bin_start": 0.9912292479572893,
                        "bin_end": 1.0912292479572892,
                        "count": 0
                      },
                      {
                        "bin_start": 1.0912292479572892,
                        "bin_end": 1.1912292479572892,
                        "count": 0
                      },
                      {
                        "bin_start": 1.1912292479572892,
                        "bin_end": 1.2912292479572893,
                        "count": 0
                      },
                      {
                        "bin_start": 1.2912292479572893,
                        "bin_end": 1.3912292479572892,
                        "count": 0
                      }
                    ]
                  }
                },
                {
                  "name": "_deepnote_index_column",
                  "dtype": "int64"
                }
              ],
              "rows": [
                {
                  "global_death_percentage": 0.8912292479572892,
                  "_deepnote_index_column": 0
                }
              ]
            },
            "text/plain": "   global_death_percentage\n0                 0.891229",
            "text/html": "<div>\n<style scoped>\n    .dataframe tbody tr th:only-of-type {\n        vertical-align: middle;\n    }\n\n    .dataframe tbody tr th {\n        vertical-align: top;\n    }\n\n    .dataframe thead th {\n        text-align: right;\n    }\n</style>\n<table border=\"1\" class=\"dataframe\">\n  <thead>\n    <tr style=\"text-align: right;\">\n      <th></th>\n      <th>global_death_percentage</th>\n    </tr>\n  </thead>\n  <tbody>\n    <tr>\n      <th>0</th>\n      <td>0.891229</td>\n    </tr>\n  </tbody>\n</table>\n</div>"
          },
          "metadata": {}
        }
      ],
      "execution_count": 17,
      "block_group": "d17116809dcb47da98183c2153a8ef46"
    },
    {
      "cell_type": "markdown",
      "source": "<a style='text-decoration:none;line-height:16px;display:flex;color:#5B5B62;padding:10px;justify-content:end;' href='https://deepnote.com?utm_source=created-in-deepnote-cell&projectId=f29f21c2-6075-4d10-b7d4-f69c6197a90d' target=\"_blank\">\n<img alt='Created in deepnote.com' style='display:inline;max-height:16px;margin:0px;margin-right:7.5px;' src='data:image/svg+xml;base64,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' > </img>\nCreated in <span style='font-weight:600;margin-left:4px;'>Deepnote</span></a>",
      "metadata": {
        "created_in_deepnote_cell": true,
        "deepnote_cell_type": "markdown"
      }
    }
  ],
  "nbformat": 4,
  "nbformat_minor": 0,
  "metadata": {
    "deepnote": {},
    "kernelspec": {
      "name": "python3",
      "language": "python",
      "identifier": "legacy",
      "display_name": "Python 3.9",
      "language_version": "3.9"
    },
    "kernel_info": {
      "name": "python3"
    },
    "noteable-chatgpt": {
      "create_notebook": {
        "openai_conversation_id": "bdac8abe-e8ee-53ef-ba5c-97d92453fc05",
        "openai_ephemeral_user_id": "9aa60659-e6ec-599f-89f4-48b2825ec106",
        "openai_subdivision1_iso_code": "US-IN"
      }
    },
    "deepnote_notebook_id": "d75c5b35296f4e7aa40c0032870faa1e",
    "selected_hardware_size": "small",
    "deepnote_execution_queue": []
  }
}