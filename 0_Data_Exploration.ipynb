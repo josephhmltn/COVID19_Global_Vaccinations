{
  "nbformat": 4,
  "nbformat_minor": 5,
  "metadata": {
    "noteable-chatgpt": {
      "create_notebook": {
        "openai_conversation_id": "bdac8abe-e8ee-53ef-ba5c-97d92453fc05",
        "openai_ephemeral_user_id": "9aa60659-e6ec-599f-89f4-48b2825ec106",
        "openai_subdivision1_iso_code": "US-IN"
      }
    },
    "kernel_info": {
      "name": "python3"
    },
    "kernelspec": {
      "display_name": "Python 3.9",
      "identifier": "legacy",
      "language": "python",
      "language_version": "3.9",
      "name": "python3"
    },
    "selected_hardware_size": "small"
  },
  "cells": [
    {
      "id": "092710b7-ba42-4e62-abc6-c15a1b41c1f6",
      "cell_type": "code",
      "metadata": {
        "jupyter": {
          "outputs_hidden": false,
          "source_hidden": false
        },
        "noteable": {
          "cell_type": "code"
        }
      },
      "execution_count": null,
      "source": "",
      "outputs": []
    }
  ]
}