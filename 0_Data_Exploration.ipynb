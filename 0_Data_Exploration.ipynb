{
  "nbformat": 4,
  "nbformat_minor": 5,
  "metadata": {
    "noteable-chatgpt": {
      "create_notebook": {
        "openai_conversation_id": "bdac8abe-e8ee-53ef-ba5c-97d92453fc05",
        "openai_ephemeral_user_id": "9aa60659-e6ec-599f-89f4-48b2825ec106",
        "openai_subdivision1_iso_code": "US-IN"
      }
    },
    "kernel_info": {
      "name": "python3"
    },
    "kernelspec": {
      "display_name": "Python 3.9",
      "identifier": "legacy",
      "language": "python",
      "language_version": "3.9",
      "name": "python3"
    },
    "selected_hardware_size": "small"
  },
  "cells": [
    {
      "id": "f14dcc3f-466b-410a-9d68-a2f129169bb3",
      "cell_type": "code",
      "metadata": {
        "jupyter": {
          "outputs_hidden": false,
          "source_hidden": false
        },
        "noteable": {
          "cell_type": "code"
        }
      },
      "execution_count": null,
      "source": "",
      "outputs": []
    },
    {
      "id": "d9c08897-b4fc-46bb-bb88-582df8850818",
      "cell_type": "code",
      "metadata": {
        "noteable": {
          "assign_results_to": "sql_df_jpxp",
          "cell_type": "sql",
          "db_connection": "@5e890ea3a0464f98bd15131b75babbf4",
          "output_collection_id": "f9992a2b-5677-40b4-b0fb-a1793ede7485"
        },
        "ExecuteTime": {
          "end_time": "2023-12-14T16:14:17.052420+00:00",
          "start_time": "2023-12-14T16:14:15.978015+00:00"
        }
      },
      "execution_count": null,
      "source": "\\list",
      "outputs": []
    }
  ]
}