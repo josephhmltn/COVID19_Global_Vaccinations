{
  "nbformat": 4,
  "nbformat_minor": 5,
  "metadata": {
    "noteable-chatgpt": {
      "create_notebook": {
        "openai_conversation_id": "bdac8abe-e8ee-53ef-ba5c-97d92453fc05",
        "openai_ephemeral_user_id": "9aa60659-e6ec-599f-89f4-48b2825ec106",
        "openai_subdivision1_iso_code": "US-IN"
      }
    },
    "kernel_info": {
      "name": "python3"
    },
    "kernelspec": {
      "display_name": "Python 3.9",
      "identifier": "legacy",
      "language": "python",
      "language_version": "3.9",
      "name": "python3"
    },
    "selected_hardware_size": "small"
  },
  "cells": [
    {
      "id": "6c39ff6d-80cf-4f10-99b1-92505132b92e",
      "cell_type": "code",
      "metadata": {
        "noteable": {
          "assign_results_to": "sql_df_4",
          "cell_type": "sql",
          "db_connection": "@fb307247d5bc411b9967cbbf85bc10e4",
          "output_collection_id": "408b33db-135f-4f2a-8d4f-5d24d0be38c1"
        },
        "ExecuteTime": {
          "end_time": "2023-12-14T16:36:49.823184+00:00",
          "start_time": "2023-12-14T16:36:48.595871+00:00"
        }
      },
      "execution_count": null,
      "source": "-- Execute this cell to return the list of tables\n-- and views within the default schema of this database\n-- (Use \\help to learn more options)\n\n\\list",
      "outputs": []
    }
  ]
}