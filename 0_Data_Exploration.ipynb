{
  "nbformat": 4,
  "nbformat_minor": 5,
  "metadata": {
    "noteable-chatgpt": {
      "create_notebook": {
        "openai_conversation_id": "bdac8abe-e8ee-53ef-ba5c-97d92453fc05",
        "openai_ephemeral_user_id": "9aa60659-e6ec-599f-89f4-48b2825ec106",
        "openai_subdivision1_iso_code": "US-IN"
      }
    },
    "kernel_info": {
      "name": "python3"
    },
    "kernelspec": {
      "display_name": "Python 3.9",
      "identifier": "legacy",
      "language": "python",
      "language_version": "3.9",
      "name": "python3"
    },
    "selected_hardware_size": "small"
  },
  "cells": [
    {
      "id": "092710b7-ba42-4e62-abc6-c15a1b41c1f6",
      "cell_type": "code",
      "metadata": {
        "jupyter": {
          "outputs_hidden": false,
          "source_hidden": false
        },
        "noteable": {
          "cell_type": "code"
        }
      },
      "execution_count": null,
      "source": "",
      "outputs": []
    },
    {
      "id": "50c70d51-783c-4a7d-84ae-f56887441c52",
      "cell_type": "code",
      "metadata": {
        "noteable": {
          "assign_results_to": "sql_df_clyu",
          "cell_type": "sql",
          "db_connection": "@2746f34db9c74d35b501f3ea8dd249bb",
          "output_collection_id": "e543f6a2-d856-4b48-92b1-87ec696a35e7"
        },
        "ExecuteTime": {
          "end_time": "2023-12-14T17:01:39.622586+00:00",
          "start_time": "2023-12-14T17:01:38.076411+00:00"
        },
        "datalink": {
          "48c855ec-bc77-424a-b283-1b0a39e14d93": {
            "applied_filters": [],
            "dataframe_info": {
              "default_index_used": true,
              "orig_num_cols": 3,
              "orig_num_rows": 1,
              "orig_size_bytes": 32,
              "truncated_num_cols": 3,
              "truncated_num_rows": 1,
              "truncated_size_bytes": 32,
              "truncated_string_columns": []
            },
            "display_id": "48c855ec-bc77-424a-b283-1b0a39e14d93",
            "dx_settings": {
              "ALLOW_NOTEABLE_ATTRS": true,
              "COLUMN_SAMPLING_METHOD": "outer",
              "DB_LOCATION": ":memory:",
              "DEV_MODE": false,
              "DISPLAY_MAX_COLUMNS": 100,
              "DISPLAY_MAX_ROWS": 50000,
              "DISPLAY_MODE": "simple",
              "ENABLE_ASSIGNMENT": true,
              "ENABLE_DATALINK": true,
              "FLATTEN_COLUMN_VALUES": true,
              "FLATTEN_INDEX_VALUES": false,
              "GENERATE_DEX_METADATA": false,
              "HTML_TABLE_SCHEMA": false,
              "LOG_LEVEL": 30,
              "MAX_RENDER_SIZE_BYTES": 104857600,
              "MAX_STRING_LENGTH": 250,
              "NUM_PAST_SAMPLES_TRACKED": 3,
              "RANDOM_STATE": 12648430,
              "RESET_INDEX_VALUES": false,
              "ROW_SAMPLING_METHOD": "random",
              "SAMPLING_FACTOR": 0.1,
              "SAMPLING_METHOD": "random",
              "STRINGIFY_COLUMN_VALUES": true,
              "STRINGIFY_INDEX_VALUES": false
            },
            "sample_history": [],
            "sampling_time": "2023-12-14T17:01:39.461233",
            "user_variable_name": null,
            "variable_name": "unk_dataframe_5043e603c68644cc8c37bc900f593834"
          }
        }
      },
      "execution_count": null,
      "source": "\\list",
      "outputs": []
    },
    {
      "id": "f6b8f05c-5e7e-4d58-8b8c-cabc1b065d1c",
      "cell_type": "code",
      "metadata": {
        "noteable": {
          "assign_results_to": "sql_df_gasz",
          "cell_type": "sql",
          "db_connection": "@2746f34db9c74d35b501f3ea8dd249bb",
          "output_collection_id": "3d72b055-57c5-4470-a932-189e6bde3f16"
        },
        "ExecuteTime": {
          "end_time": "2023-12-14T17:04:00.739187+00:00",
          "start_time": "2023-12-14T17:03:58.200465+00:00"
        },
        "datalink": {
          "44c2819c-8da1-4c75-a9ff-c96c4dac7b99": {
            "applied_filters": [],
            "dataframe_info": {
              "default_index_used": true,
              "orig_num_cols": 67,
              "orig_num_rows": 100,
              "orig_size_bytes": 54400,
              "truncated_num_cols": 67,
              "truncated_num_rows": 100,
              "truncated_size_bytes": 54400,
              "truncated_string_columns": []
            },
            "display_id": "44c2819c-8da1-4c75-a9ff-c96c4dac7b99",
            "dx_settings": {
              "ALLOW_NOTEABLE_ATTRS": true,
              "COLUMN_SAMPLING_METHOD": "outer",
              "DB_LOCATION": ":memory:",
              "DEV_MODE": false,
              "DISPLAY_MAX_COLUMNS": 100,
              "DISPLAY_MAX_ROWS": 50000,
              "DISPLAY_MODE": "simple",
              "ENABLE_ASSIGNMENT": true,
              "ENABLE_DATALINK": true,
              "FLATTEN_COLUMN_VALUES": true,
              "FLATTEN_INDEX_VALUES": false,
              "GENERATE_DEX_METADATA": false,
              "HTML_TABLE_SCHEMA": false,
              "LOG_LEVEL": 30,
              "MAX_RENDER_SIZE_BYTES": 104857600,
              "MAX_STRING_LENGTH": 250,
              "NUM_PAST_SAMPLES_TRACKED": 3,
              "RANDOM_STATE": 12648430,
              "RESET_INDEX_VALUES": false,
              "ROW_SAMPLING_METHOD": "random",
              "SAMPLING_FACTOR": 0.1,
              "SAMPLING_METHOD": "random",
              "STRINGIFY_COLUMN_VALUES": true,
              "STRINGIFY_INDEX_VALUES": false
            },
            "sample_history": [],
            "sampling_time": "2023-12-14T17:04:00.556371",
            "user_variable_name": "sql_df_gasz",
            "variable_name": "sql_df_gasz"
          }
        }
      },
      "execution_count": null,
      "source": "SELECT * FROM `covid19_data.covid19-data` LIMIT 100;",
      "outputs": []
    },
    {
      "id": "22eecbb6-0674-4f60-b329-c4f904e0404a",
      "cell_type": "markdown",
      "source": "### Aggregate Data by Country/Region\nCalculate total cases, deaths, and recoveries per country.",
      "metadata": {
        "noteable": {
          "cell_type": "markdown"
        }
      }
    },
    {
      "id": "b6622b86-c7fa-4cab-9089-74f7dd5c35c6",
      "cell_type": "code",
      "metadata": {
        "noteable": {
          "assign_results_to": "sql_df_yxbz",
          "cell_type": "sql",
          "db_connection": "@2746f34db9c74d35b501f3ea8dd249bb",
          "output_collection_id": "4113c5f1-b545-4614-8a52-94897674ffd8"
        },
        "ExecuteTime": {
          "end_time": "2023-12-14T17:13:28.071681+00:00",
          "start_time": "2023-12-14T17:13:26.267807+00:00"
        }
      },
      "execution_count": null,
      "source": "SELECT country, SUM(confirmed_cases) AS total_cases, SUM(deaths) AS total_deaths, SUM(recoveries) AS total_recoveries FROM `covid19_data.covid19-data` GROUP BY country;",
      "outputs": []
    },
    {
      "id": "f3dd9eea-7026-4039-8186-9798954c238f",
      "cell_type": "markdown",
      "source": "### Corrected Query for Aggregate Data by Country/Region\nAdjusting column names to match the table schema.",
      "metadata": {
        "noteable": {
          "cell_type": "markdown"
        }
      }
    },
    {
      "id": "1cd303f1-6e84-4d7c-ab80-4f4a24847e60",
      "cell_type": "code",
      "metadata": {
        "noteable": {
          "assign_results_to": "sql_df_ryjf",
          "cell_type": "sql",
          "db_connection": "@2746f34db9c74d35b501f3ea8dd249bb",
          "output_collection_id": "ad096efb-4afb-4975-a227-f72df4002270"
        },
        "ExecuteTime": {
          "end_time": "2023-12-14T17:13:53.072666+00:00",
          "start_time": "2023-12-14T17:13:50.940884+00:00"
        },
        "datalink": {
          "55388762-068a-4e5c-a8b5-908466e67bdd": {
            "applied_filters": [],
            "dataframe_info": {
              "default_index_used": true,
              "orig_num_cols": 67,
              "orig_num_rows": 5,
              "orig_size_bytes": 2720,
              "truncated_num_cols": 67,
              "truncated_num_rows": 5,
              "truncated_size_bytes": 2720,
              "truncated_string_columns": []
            },
            "display_id": "55388762-068a-4e5c-a8b5-908466e67bdd",
            "dx_settings": {
              "ALLOW_NOTEABLE_ATTRS": true,
              "COLUMN_SAMPLING_METHOD": "outer",
              "DB_LOCATION": ":memory:",
              "DEV_MODE": false,
              "DISPLAY_MAX_COLUMNS": 100,
              "DISPLAY_MAX_ROWS": 50000,
              "DISPLAY_MODE": "simple",
              "ENABLE_ASSIGNMENT": true,
              "ENABLE_DATALINK": true,
              "FLATTEN_COLUMN_VALUES": true,
              "FLATTEN_INDEX_VALUES": false,
              "GENERATE_DEX_METADATA": false,
              "HTML_TABLE_SCHEMA": false,
              "LOG_LEVEL": 30,
              "MAX_RENDER_SIZE_BYTES": 104857600,
              "MAX_STRING_LENGTH": 250,
              "NUM_PAST_SAMPLES_TRACKED": 3,
              "RANDOM_STATE": 12648430,
              "RESET_INDEX_VALUES": false,
              "ROW_SAMPLING_METHOD": "random",
              "SAMPLING_FACTOR": 0.1,
              "SAMPLING_METHOD": "random",
              "STRINGIFY_COLUMN_VALUES": true,
              "STRINGIFY_INDEX_VALUES": false
            },
            "sample_history": [],
            "sampling_time": "2023-12-14T17:13:52.899697",
            "user_variable_name": "sql_df_ryjf",
            "variable_name": "sql_df_ryjf"
          }
        }
      },
      "execution_count": null,
      "source": "SELECT * FROM `covid19_data.covid19-data` LIMIT 5;",
      "outputs": []
    }
  ]
}