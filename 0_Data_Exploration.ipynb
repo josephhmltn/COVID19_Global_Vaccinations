{
  "nbformat": 4,
  "nbformat_minor": 5,
  "metadata": {
    "noteable-chatgpt": {
      "create_notebook": {
        "openai_conversation_id": "bdac8abe-e8ee-53ef-ba5c-97d92453fc05",
        "openai_ephemeral_user_id": "9aa60659-e6ec-599f-89f4-48b2825ec106",
        "openai_subdivision1_iso_code": "US-IN"
      }
    },
    "kernel_info": {
      "name": "python3"
    },
    "kernelspec": {
      "display_name": "Python 3.9",
      "identifier": "legacy",
      "language": "python",
      "language_version": "3.9",
      "name": "python3"
    },
    "selected_hardware_size": "small"
  },
  "cells": [
    {
      "id": "092710b7-ba42-4e62-abc6-c15a1b41c1f6",
      "cell_type": "code",
      "metadata": {
        "jupyter": {
          "outputs_hidden": false,
          "source_hidden": false
        },
        "noteable": {
          "cell_type": "code"
        }
      },
      "execution_count": null,
      "source": "",
      "outputs": []
    },
    {
      "id": "50c70d51-783c-4a7d-84ae-f56887441c52",
      "cell_type": "code",
      "metadata": {
        "noteable": {
          "assign_results_to": "sql_df_clyu",
          "cell_type": "sql",
          "db_connection": "@2746f34db9c74d35b501f3ea8dd249bb",
          "output_collection_id": "e543f6a2-d856-4b48-92b1-87ec696a35e7"
        },
        "ExecuteTime": {
          "end_time": "2023-12-14T17:01:39.622586+00:00",
          "start_time": "2023-12-14T17:01:38.076411+00:00"
        },
        "datalink": {
          "48c855ec-bc77-424a-b283-1b0a39e14d93": {
            "applied_filters": [],
            "dataframe_info": {
              "default_index_used": true,
              "orig_num_cols": 3,
              "orig_num_rows": 1,
              "orig_size_bytes": 32,
              "truncated_num_cols": 3,
              "truncated_num_rows": 1,
              "truncated_size_bytes": 32,
              "truncated_string_columns": []
            },
            "display_id": "48c855ec-bc77-424a-b283-1b0a39e14d93",
            "dx_settings": {
              "ALLOW_NOTEABLE_ATTRS": true,
              "COLUMN_SAMPLING_METHOD": "outer",
              "DB_LOCATION": ":memory:",
              "DEV_MODE": false,
              "DISPLAY_MAX_COLUMNS": 100,
              "DISPLAY_MAX_ROWS": 50000,
              "DISPLAY_MODE": "simple",
              "ENABLE_ASSIGNMENT": true,
              "ENABLE_DATALINK": true,
              "FLATTEN_COLUMN_VALUES": true,
              "FLATTEN_INDEX_VALUES": false,
              "GENERATE_DEX_METADATA": false,
              "HTML_TABLE_SCHEMA": false,
              "LOG_LEVEL": 30,
              "MAX_RENDER_SIZE_BYTES": 104857600,
              "MAX_STRING_LENGTH": 250,
              "NUM_PAST_SAMPLES_TRACKED": 3,
              "RANDOM_STATE": 12648430,
              "RESET_INDEX_VALUES": false,
              "ROW_SAMPLING_METHOD": "random",
              "SAMPLING_FACTOR": 0.1,
              "SAMPLING_METHOD": "random",
              "STRINGIFY_COLUMN_VALUES": true,
              "STRINGIFY_INDEX_VALUES": false
            },
            "sample_history": [],
            "sampling_time": "2023-12-14T17:01:39.461233",
            "user_variable_name": null,
            "variable_name": "unk_dataframe_5043e603c68644cc8c37bc900f593834"
          }
        }
      },
      "execution_count": null,
      "source": "\\list",
      "outputs": []
    },
    {
      "id": "f6b8f05c-5e7e-4d58-8b8c-cabc1b065d1c",
      "cell_type": "code",
      "metadata": {
        "noteable": {
          "assign_results_to": "sql_df_gasz",
          "cell_type": "sql",
          "db_connection": "@2746f34db9c74d35b501f3ea8dd249bb",
          "output_collection_id": "3d72b055-57c5-4470-a932-189e6bde3f16"
        },
        "ExecuteTime": {
          "end_time": "2023-12-14T17:04:00.739187+00:00",
          "start_time": "2023-12-14T17:03:58.200465+00:00"
        },
        "datalink": {
          "44c2819c-8da1-4c75-a9ff-c96c4dac7b99": {
            "applied_filters": [],
            "dataframe_info": {
              "default_index_used": true,
              "orig_num_cols": 67,
              "orig_num_rows": 100,
              "orig_size_bytes": 54400,
              "truncated_num_cols": 67,
              "truncated_num_rows": 100,
              "truncated_size_bytes": 54400,
              "truncated_string_columns": []
            },
            "display_id": "44c2819c-8da1-4c75-a9ff-c96c4dac7b99",
            "dx_settings": {
              "ALLOW_NOTEABLE_ATTRS": true,
              "COLUMN_SAMPLING_METHOD": "outer",
              "DB_LOCATION": ":memory:",
              "DEV_MODE": false,
              "DISPLAY_MAX_COLUMNS": 100,
              "DISPLAY_MAX_ROWS": 50000,
              "DISPLAY_MODE": "simple",
              "ENABLE_ASSIGNMENT": true,
              "ENABLE_DATALINK": true,
              "FLATTEN_COLUMN_VALUES": true,
              "FLATTEN_INDEX_VALUES": false,
              "GENERATE_DEX_METADATA": false,
              "HTML_TABLE_SCHEMA": false,
              "LOG_LEVEL": 30,
              "MAX_RENDER_SIZE_BYTES": 104857600,
              "MAX_STRING_LENGTH": 250,
              "NUM_PAST_SAMPLES_TRACKED": 3,
              "RANDOM_STATE": 12648430,
              "RESET_INDEX_VALUES": false,
              "ROW_SAMPLING_METHOD": "random",
              "SAMPLING_FACTOR": 0.1,
              "SAMPLING_METHOD": "random",
              "STRINGIFY_COLUMN_VALUES": true,
              "STRINGIFY_INDEX_VALUES": false
            },
            "sample_history": [],
            "sampling_time": "2023-12-14T17:04:00.556371",
            "user_variable_name": "sql_df_gasz",
            "variable_name": "sql_df_gasz"
          }
        }
      },
      "execution_count": null,
      "source": "SELECT * FROM `covid19_data.covid19-data` LIMIT 100;",
      "outputs": []
    },
    {
      "id": "22eecbb6-0674-4f60-b329-c4f904e0404a",
      "cell_type": "markdown",
      "source": "### Aggregate Data by Country/Region\nCalculate total cases, deaths, and recoveries per country.",
      "metadata": {
        "noteable": {
          "cell_type": "markdown"
        }
      }
    },
    {
      "id": "b6622b86-c7fa-4cab-9089-74f7dd5c35c6",
      "cell_type": "code",
      "metadata": {
        "noteable": {
          "assign_results_to": "sql_df_yxbz",
          "cell_type": "sql",
          "db_connection": "@2746f34db9c74d35b501f3ea8dd249bb",
          "output_collection_id": "4113c5f1-b545-4614-8a52-94897674ffd8"
        },
        "ExecuteTime": {
          "end_time": "2023-12-14T17:13:28.071681+00:00",
          "start_time": "2023-12-14T17:13:26.267807+00:00"
        }
      },
      "execution_count": null,
      "source": "SELECT country, SUM(confirmed_cases) AS total_cases, SUM(deaths) AS total_deaths, SUM(recoveries) AS total_recoveries FROM `covid19_data.covid19-data` GROUP BY country;",
      "outputs": []
    },
    {
      "id": "f3dd9eea-7026-4039-8186-9798954c238f",
      "cell_type": "markdown",
      "source": "### Corrected Query for Aggregate Data by Country/Region\nAdjusting column names to match the table schema.",
      "metadata": {
        "noteable": {
          "cell_type": "markdown"
        }
      }
    },
    {
      "id": "1cd303f1-6e84-4d7c-ab80-4f4a24847e60",
      "cell_type": "code",
      "metadata": {
        "noteable": {
          "assign_results_to": "sql_df_ryjf",
          "cell_type": "sql",
          "db_connection": "@2746f34db9c74d35b501f3ea8dd249bb",
          "output_collection_id": "ad096efb-4afb-4975-a227-f72df4002270"
        },
        "ExecuteTime": {
          "end_time": "2023-12-14T17:13:53.072666+00:00",
          "start_time": "2023-12-14T17:13:50.940884+00:00"
        },
        "datalink": {
          "55388762-068a-4e5c-a8b5-908466e67bdd": {
            "applied_filters": [],
            "dataframe_info": {
              "default_index_used": true,
              "orig_num_cols": 67,
              "orig_num_rows": 5,
              "orig_size_bytes": 2720,
              "truncated_num_cols": 67,
              "truncated_num_rows": 5,
              "truncated_size_bytes": 2720,
              "truncated_string_columns": []
            },
            "display_id": "55388762-068a-4e5c-a8b5-908466e67bdd",
            "dx_settings": {
              "ALLOW_NOTEABLE_ATTRS": true,
              "COLUMN_SAMPLING_METHOD": "outer",
              "DB_LOCATION": ":memory:",
              "DEV_MODE": false,
              "DISPLAY_MAX_COLUMNS": 100,
              "DISPLAY_MAX_ROWS": 50000,
              "DISPLAY_MODE": "simple",
              "ENABLE_ASSIGNMENT": true,
              "ENABLE_DATALINK": true,
              "FLATTEN_COLUMN_VALUES": true,
              "FLATTEN_INDEX_VALUES": false,
              "GENERATE_DEX_METADATA": false,
              "HTML_TABLE_SCHEMA": false,
              "LOG_LEVEL": 30,
              "MAX_RENDER_SIZE_BYTES": 104857600,
              "MAX_STRING_LENGTH": 250,
              "NUM_PAST_SAMPLES_TRACKED": 3,
              "RANDOM_STATE": 12648430,
              "RESET_INDEX_VALUES": false,
              "ROW_SAMPLING_METHOD": "random",
              "SAMPLING_FACTOR": 0.1,
              "SAMPLING_METHOD": "random",
              "STRINGIFY_COLUMN_VALUES": true,
              "STRINGIFY_INDEX_VALUES": false
            },
            "sample_history": [],
            "sampling_time": "2023-12-14T17:13:52.899697",
            "user_variable_name": "sql_df_ryjf",
            "variable_name": "sql_df_ryjf"
          }
        }
      },
      "execution_count": null,
      "source": "SELECT * FROM `covid19_data.covid19-data` LIMIT 5;",
      "outputs": []
    },
    {
      "id": "e9932603-800c-4bf0-91c4-e8707a6bd876",
      "cell_type": "markdown",
      "source": "### Attempting Aggregate Data by Assumed Columns\nUsing assumed column names for aggregation.",
      "metadata": {
        "noteable": {
          "cell_type": "markdown"
        }
      }
    },
    {
      "id": "ba23322a-d99f-476f-91fc-c85304eb4dc2",
      "cell_type": "code",
      "metadata": {
        "noteable": {
          "assign_results_to": "sql_df_xodu",
          "cell_type": "sql",
          "db_connection": "@2746f34db9c74d35b501f3ea8dd249bb",
          "output_collection_id": "7a25aa75-4f2e-463b-a20f-10cf128ea5d5"
        },
        "ExecuteTime": {
          "end_time": "2023-12-14T17:18:23.265659+00:00",
          "start_time": "2023-12-14T17:18:22.436393+00:00"
        }
      },
      "execution_count": null,
      "source": "SELECT location, SUM(cases) AS total_cases, SUM(deaths) AS total_deaths FROM `covid19_data.covid19-data` GROUP BY location;",
      "outputs": []
    },
    {
      "id": "04aac377-f96e-4560-a24b-60f6c7ef468f",
      "cell_type": "code",
      "metadata": {
        "noteable": {
          "assign_results_to": "sql_df_esqg",
          "cell_type": "sql",
          "db_connection": "@2746f34db9c74d35b501f3ea8dd249bb",
          "output_collection_id": "15c5ea4d-5a73-41fa-99a7-2a07897430ba"
        },
        "ExecuteTime": {
          "end_time": "2023-12-14T17:20:28.750643+00:00",
          "start_time": "2023-12-14T17:20:26.843493+00:00"
        },
        "datalink": {
          "a8f0ee96-9c5e-4698-81be-586ed688b58a": {
            "applied_filters": [],
            "dataframe_info": {
              "default_index_used": true,
              "orig_num_cols": 1,
              "orig_num_rows": 67,
              "orig_size_bytes": 1072,
              "truncated_num_cols": 1,
              "truncated_num_rows": 67,
              "truncated_size_bytes": 1072,
              "truncated_string_columns": []
            },
            "display_id": "a8f0ee96-9c5e-4698-81be-586ed688b58a",
            "dx_settings": {
              "ALLOW_NOTEABLE_ATTRS": true,
              "COLUMN_SAMPLING_METHOD": "outer",
              "DB_LOCATION": ":memory:",
              "DEV_MODE": false,
              "DISPLAY_MAX_COLUMNS": 100,
              "DISPLAY_MAX_ROWS": 50000,
              "DISPLAY_MODE": "simple",
              "ENABLE_ASSIGNMENT": true,
              "ENABLE_DATALINK": true,
              "FLATTEN_COLUMN_VALUES": true,
              "FLATTEN_INDEX_VALUES": false,
              "GENERATE_DEX_METADATA": false,
              "HTML_TABLE_SCHEMA": false,
              "LOG_LEVEL": 30,
              "MAX_RENDER_SIZE_BYTES": 104857600,
              "MAX_STRING_LENGTH": 250,
              "NUM_PAST_SAMPLES_TRACKED": 3,
              "RANDOM_STATE": 12648430,
              "RESET_INDEX_VALUES": false,
              "ROW_SAMPLING_METHOD": "random",
              "SAMPLING_FACTOR": 0.1,
              "SAMPLING_METHOD": "random",
              "STRINGIFY_COLUMN_VALUES": true,
              "STRINGIFY_INDEX_VALUES": false
            },
            "sample_history": [],
            "sampling_time": "2023-12-14T17:20:28.592548",
            "user_variable_name": "sql_df_esqg",
            "variable_name": "sql_df_esqg"
          }
        }
      },
      "execution_count": null,
      "source": "SELECT column_name FROM `covid19_data.INFORMATION_SCHEMA.COLUMNS` WHERE table_name = 'covid19-data';",
      "outputs": []
    },
    {
      "id": "f2cd1a2b-c998-4c2a-804f-b4c68688ab58",
      "cell_type": "markdown",
      "source": "### Aggregate Data by Country/Region\nCalculate total cases, deaths, and recoveries per country, using the correct column names.",
      "metadata": {
        "noteable": {
          "cell_type": "markdown"
        }
      }
    },
    {
      "id": "5c4905bb-2e87-4f90-b888-8d0d6c20ca78",
      "cell_type": "code",
      "metadata": {
        "noteable": {
          "assign_results_to": "sql_df_rsdm",
          "cell_type": "sql",
          "db_connection": "@2746f34db9c74d35b501f3ea8dd249bb",
          "output_collection_id": "0390ee89-3397-4264-a6c1-a0c9a8016a54"
        },
        "ExecuteTime": {
          "end_time": "2023-12-14T17:26:20.905755+00:00",
          "start_time": "2023-12-14T17:26:19.083194+00:00"
        },
        "datalink": {
          "12ed4a7d-af1c-4f21-a305-289977318a72": {
            "applied_filters": [],
            "dataframe_info": {
              "default_index_used": true,
              "orig_num_cols": 3,
              "orig_num_rows": 255,
              "orig_size_bytes": 8160,
              "truncated_num_cols": 3,
              "truncated_num_rows": 255,
              "truncated_size_bytes": 8160,
              "truncated_string_columns": []
            },
            "display_id": "12ed4a7d-af1c-4f21-a305-289977318a72",
            "dx_settings": {
              "ALLOW_NOTEABLE_ATTRS": true,
              "COLUMN_SAMPLING_METHOD": "outer",
              "DB_LOCATION": ":memory:",
              "DEV_MODE": false,
              "DISPLAY_MAX_COLUMNS": 100,
              "DISPLAY_MAX_ROWS": 50000,
              "DISPLAY_MODE": "simple",
              "ENABLE_ASSIGNMENT": true,
              "ENABLE_DATALINK": true,
              "FLATTEN_COLUMN_VALUES": true,
              "FLATTEN_INDEX_VALUES": false,
              "GENERATE_DEX_METADATA": false,
              "HTML_TABLE_SCHEMA": false,
              "LOG_LEVEL": 30,
              "MAX_RENDER_SIZE_BYTES": 104857600,
              "MAX_STRING_LENGTH": 250,
              "NUM_PAST_SAMPLES_TRACKED": 3,
              "RANDOM_STATE": 12648430,
              "RESET_INDEX_VALUES": false,
              "ROW_SAMPLING_METHOD": "random",
              "SAMPLING_FACTOR": 0.1,
              "SAMPLING_METHOD": "random",
              "STRINGIFY_COLUMN_VALUES": true,
              "STRINGIFY_INDEX_VALUES": false
            },
            "sample_history": [],
            "sampling_time": "2023-12-14T17:26:20.742278",
            "user_variable_name": "sql_df_rsdm",
            "variable_name": "sql_df_rsdm"
          }
        }
      },
      "execution_count": null,
      "source": "SELECT location, SUM(total_cases) AS total_cases, SUM(total_deaths) AS total_deaths FROM `covid19_data.covid19-data` GROUP BY location;",
      "outputs": []
    },
    {
      "id": "d3671dac-c0a4-4fa2-b3af-f3089aeaa497",
      "cell_type": "markdown",
      "source": "### Aggregate Data by Country/Region\nCalculate total cases, deaths, and recoveries per country, using the correct column names.",
      "metadata": {
        "noteable": {
          "cell_type": "markdown"
        }
      }
    },
    {
      "id": "e9d514c3-e543-4dcd-94fa-418a69956465",
      "cell_type": "code",
      "metadata": {
        "noteable": {
          "assign_results_to": "sql_df_cazq",
          "cell_type": "sql",
          "db_connection": "@2746f34db9c74d35b501f3ea8dd249bb",
          "output_collection_id": "42950f03-806d-41c9-b089-7a5cb5885dbd"
        },
        "ExecuteTime": {
          "end_time": "2023-12-14T17:54:17.517184+00:00",
          "start_time": "2023-12-14T17:54:15.898286+00:00"
        },
        "datalink": {
          "b6d88471-07e0-4f78-9d0f-b6edd184753e": {
            "applied_filters": [],
            "dataframe_info": {
              "default_index_used": true,
              "orig_num_cols": 3,
              "orig_num_rows": 255,
              "orig_size_bytes": 8160,
              "truncated_num_cols": 3,
              "truncated_num_rows": 255,
              "truncated_size_bytes": 8160,
              "truncated_string_columns": []
            },
            "display_id": "b6d88471-07e0-4f78-9d0f-b6edd184753e",
            "dx_settings": {
              "ALLOW_NOTEABLE_ATTRS": true,
              "COLUMN_SAMPLING_METHOD": "outer",
              "DB_LOCATION": ":memory:",
              "DEV_MODE": false,
              "DISPLAY_MAX_COLUMNS": 100,
              "DISPLAY_MAX_ROWS": 50000,
              "DISPLAY_MODE": "simple",
              "ENABLE_ASSIGNMENT": true,
              "ENABLE_DATALINK": true,
              "FLATTEN_COLUMN_VALUES": true,
              "FLATTEN_INDEX_VALUES": false,
              "GENERATE_DEX_METADATA": false,
              "HTML_TABLE_SCHEMA": false,
              "LOG_LEVEL": 30,
              "MAX_RENDER_SIZE_BYTES": 104857600,
              "MAX_STRING_LENGTH": 250,
              "NUM_PAST_SAMPLES_TRACKED": 3,
              "RANDOM_STATE": 12648430,
              "RESET_INDEX_VALUES": false,
              "ROW_SAMPLING_METHOD": "random",
              "SAMPLING_FACTOR": 0.1,
              "SAMPLING_METHOD": "random",
              "STRINGIFY_COLUMN_VALUES": true,
              "STRINGIFY_INDEX_VALUES": false
            },
            "sample_history": [],
            "sampling_time": "2023-12-14T17:54:17.355636",
            "user_variable_name": "sql_df_rsdm",
            "variable_name": "sql_df_rsdm"
          }
        }
      },
      "execution_count": null,
      "source": "SELECT location, SUM(total_cases) AS total_cases, SUM(total_deaths) AS total_deaths FROM `covid19_data.covid19-data` GROUP BY location;",
      "outputs": []
    },
    {
      "id": "a7689f75-4b1c-4465-b411-672d400b84d0",
      "cell_type": "markdown",
      "source": "### Trend Analysis Over Time\nAnalyze the trend of cases, deaths, and recoveries over time.",
      "metadata": {
        "noteable": {
          "cell_type": "markdown"
        }
      }
    },
    {
      "id": "e31f92a2-93f6-47d9-b64d-7d977a43256b",
      "cell_type": "code",
      "metadata": {
        "noteable": {
          "assign_results_to": "sql_df_pwvr",
          "cell_type": "sql",
          "db_connection": "@2746f34db9c74d35b501f3ea8dd249bb",
          "output_collection_id": "e1c58a0f-1881-405d-84d5-558ade0c9b22"
        },
        "ExecuteTime": {
          "end_time": "2023-12-14T17:59:43.416684+00:00",
          "start_time": "2023-12-14T17:59:41.443711+00:00"
        },
        "datalink": {
          "a770d437-94ae-4b1a-908b-5ad670483439": {
            "applied_filters": [],
            "dataframe_info": {
              "default_index_used": true,
              "orig_num_cols": 3,
              "orig_num_rows": 1185,
              "orig_size_bytes": 37920,
              "truncated_num_cols": 3,
              "truncated_num_rows": 1185,
              "truncated_size_bytes": 37920,
              "truncated_string_columns": []
            },
            "display_id": "a770d437-94ae-4b1a-908b-5ad670483439",
            "dx_settings": {
              "ALLOW_NOTEABLE_ATTRS": true,
              "COLUMN_SAMPLING_METHOD": "outer",
              "DB_LOCATION": ":memory:",
              "DEV_MODE": false,
              "DISPLAY_MAX_COLUMNS": 100,
              "DISPLAY_MAX_ROWS": 50000,
              "DISPLAY_MODE": "simple",
              "ENABLE_ASSIGNMENT": true,
              "ENABLE_DATALINK": true,
              "FLATTEN_COLUMN_VALUES": true,
              "FLATTEN_INDEX_VALUES": false,
              "GENERATE_DEX_METADATA": false,
              "HTML_TABLE_SCHEMA": false,
              "LOG_LEVEL": 30,
              "MAX_RENDER_SIZE_BYTES": 104857600,
              "MAX_STRING_LENGTH": 250,
              "NUM_PAST_SAMPLES_TRACKED": 3,
              "RANDOM_STATE": 12648430,
              "RESET_INDEX_VALUES": false,
              "ROW_SAMPLING_METHOD": "random",
              "SAMPLING_FACTOR": 0.1,
              "SAMPLING_METHOD": "random",
              "STRINGIFY_COLUMN_VALUES": true,
              "STRINGIFY_INDEX_VALUES": false
            },
            "sample_history": [],
            "sampling_time": "2023-12-14T17:59:43.238456",
            "user_variable_name": "sql_df_pwvr",
            "variable_name": "sql_df_pwvr"
          }
        }
      },
      "execution_count": null,
      "source": "SELECT date, SUM(new_cases) AS daily_cases, SUM(new_deaths) AS daily_deaths FROM `covid19_data.covid19-data` GROUP BY date ORDER BY date;",
      "outputs": []
    },
    {
      "id": "85b73b1f-9e21-46c3-a4bb-e443527a6642",
      "cell_type": "markdown",
      "source": "### Yearly Trend Analysis\nAnalyze the trend of cases and deaths per year.",
      "metadata": {
        "noteable": {
          "cell_type": "markdown"
        }
      }
    },
    {
      "id": "90ec9a20-9170-4f6d-8d32-a5d531be2f8b",
      "cell_type": "code",
      "metadata": {
        "noteable": {
          "assign_results_to": "sql_df_twyq",
          "cell_type": "sql",
          "db_connection": "@2746f34db9c74d35b501f3ea8dd249bb",
          "output_collection_id": "cd574434-7f5d-4d57-a0ce-f927b83bf851"
        },
        "ExecuteTime": {
          "end_time": "2023-12-14T18:06:56.488822+00:00",
          "start_time": "2023-12-14T18:06:54.571904+00:00"
        },
        "datalink": {
          "b7c4bb08-bb2b-4e02-8bf7-71c99cea388b": {
            "applied_filters": [],
            "dataframe_info": {
              "default_index_used": true,
              "orig_num_cols": 3,
              "orig_num_rows": 4,
              "orig_size_bytes": 128,
              "truncated_num_cols": 3,
              "truncated_num_rows": 4,
              "truncated_size_bytes": 128,
              "truncated_string_columns": []
            },
            "display_id": "b7c4bb08-bb2b-4e02-8bf7-71c99cea388b",
            "dx_settings": {
              "ALLOW_NOTEABLE_ATTRS": true,
              "COLUMN_SAMPLING_METHOD": "outer",
              "DB_LOCATION": ":memory:",
              "DEV_MODE": false,
              "DISPLAY_MAX_COLUMNS": 100,
              "DISPLAY_MAX_ROWS": 50000,
              "DISPLAY_MODE": "simple",
              "ENABLE_ASSIGNMENT": true,
              "ENABLE_DATALINK": true,
              "FLATTEN_COLUMN_VALUES": true,
              "FLATTEN_INDEX_VALUES": false,
              "GENERATE_DEX_METADATA": false,
              "HTML_TABLE_SCHEMA": false,
              "LOG_LEVEL": 30,
              "MAX_RENDER_SIZE_BYTES": 104857600,
              "MAX_STRING_LENGTH": 250,
              "NUM_PAST_SAMPLES_TRACKED": 3,
              "RANDOM_STATE": 12648430,
              "RESET_INDEX_VALUES": false,
              "ROW_SAMPLING_METHOD": "random",
              "SAMPLING_FACTOR": 0.1,
              "SAMPLING_METHOD": "random",
              "STRINGIFY_COLUMN_VALUES": true,
              "STRINGIFY_INDEX_VALUES": false
            },
            "sample_history": [],
            "sampling_time": "2023-12-14T18:06:56.330624",
            "user_variable_name": "sql_df_twyq",
            "variable_name": "sql_df_twyq"
          }
        }
      },
      "execution_count": null,
      "source": "SELECT EXTRACT(YEAR FROM date) AS year, SUM(new_cases) AS yearly_cases, SUM(new_deaths) AS yearly_deaths FROM `covid19_data.covid19-data` GROUP BY year ORDER BY year;",
      "outputs": []
    },
    {
      "id": "01434151-14b9-45b0-92a9-eaa3efbbb237",
      "cell_type": "markdown",
      "source": "### Monthly Trend Analysis\nAnalyze the trend of cases and deaths per month.",
      "metadata": {
        "noteable": {
          "cell_type": "markdown"
        }
      }
    },
    {
      "id": "8b71e9f2-7b4f-4cf3-870a-04e930011711",
      "cell_type": "code",
      "metadata": {
        "noteable": {
          "assign_results_to": "sql_df_inhv",
          "cell_type": "sql",
          "db_connection": "@2746f34db9c74d35b501f3ea8dd249bb",
          "output_collection_id": "de124611-65d5-436c-a156-bb2ece6be204"
        },
        "ExecuteTime": {
          "end_time": "2023-12-14T18:08:27.227174+00:00",
          "start_time": "2023-12-14T18:08:25.545840+00:00"
        },
        "datalink": {
          "2edda283-9246-4e75-8e78-a86bdb6ebfdf": {
            "applied_filters": [],
            "dataframe_info": {
              "default_index_used": true,
              "orig_num_cols": 4,
              "orig_num_rows": 39,
              "orig_size_bytes": 1560,
              "truncated_num_cols": 4,
              "truncated_num_rows": 39,
              "truncated_size_bytes": 1560,
              "truncated_string_columns": []
            },
            "display_id": "2edda283-9246-4e75-8e78-a86bdb6ebfdf",
            "dx_settings": {
              "ALLOW_NOTEABLE_ATTRS": true,
              "COLUMN_SAMPLING_METHOD": "outer",
              "DB_LOCATION": ":memory:",
              "DEV_MODE": false,
              "DISPLAY_MAX_COLUMNS": 100,
              "DISPLAY_MAX_ROWS": 50000,
              "DISPLAY_MODE": "simple",
              "ENABLE_ASSIGNMENT": true,
              "ENABLE_DATALINK": true,
              "FLATTEN_COLUMN_VALUES": true,
              "FLATTEN_INDEX_VALUES": false,
              "GENERATE_DEX_METADATA": false,
              "HTML_TABLE_SCHEMA": false,
              "LOG_LEVEL": 30,
              "MAX_RENDER_SIZE_BYTES": 104857600,
              "MAX_STRING_LENGTH": 250,
              "NUM_PAST_SAMPLES_TRACKED": 3,
              "RANDOM_STATE": 12648430,
              "RESET_INDEX_VALUES": false,
              "ROW_SAMPLING_METHOD": "random",
              "SAMPLING_FACTOR": 0.1,
              "SAMPLING_METHOD": "random",
              "STRINGIFY_COLUMN_VALUES": true,
              "STRINGIFY_INDEX_VALUES": false
            },
            "sample_history": [],
            "sampling_time": "2023-12-14T18:08:27.068302",
            "user_variable_name": "sql_df_inhv",
            "variable_name": "sql_df_inhv"
          }
        }
      },
      "execution_count": null,
      "source": "SELECT EXTRACT(YEAR FROM date) AS year, EXTRACT(MONTH FROM date) AS month, SUM(new_cases) AS monthly_cases, SUM(new_deaths) AS monthly_deaths FROM `covid19_data.covid19-data` GROUP BY year, month ORDER BY year, month;",
      "outputs": []
    },
    {
      "id": "7b599951-fae4-4656-bcaf-44d02fbb9f45",
      "cell_type": "markdown",
      "source": "### Case Fatality Rate by Country\nCalculate the case fatality rate for each country.",
      "metadata": {
        "noteable": {
          "cell_type": "markdown"
        }
      }
    },
    {
      "id": "ecdc229a-2c07-4d54-95a0-5282f4dd9654",
      "cell_type": "code",
      "metadata": {
        "noteable": {
          "assign_results_to": "sql_df_rkwk",
          "cell_type": "sql",
          "db_connection": "@2746f34db9c74d35b501f3ea8dd249bb",
          "output_collection_id": "0bd4793a-aa6c-4478-bc59-9257987ad700"
        },
        "ExecuteTime": {
          "end_time": "2023-12-14T18:15:48.765063+00:00",
          "start_time": "2023-12-14T18:15:46.879612+00:00"
        },
        "datalink": {
          "4171a200-b48a-4944-884c-93046c0f114b": {
            "applied_filters": [],
            "dataframe_info": {
              "default_index_used": true,
              "orig_num_cols": 2,
              "orig_num_rows": 244,
              "orig_size_bytes": 5856,
              "truncated_num_cols": 2,
              "truncated_num_rows": 244,
              "truncated_size_bytes": 5856,
              "truncated_string_columns": []
            },
            "display_id": "4171a200-b48a-4944-884c-93046c0f114b",
            "dx_settings": {
              "ALLOW_NOTEABLE_ATTRS": true,
              "COLUMN_SAMPLING_METHOD": "outer",
              "DB_LOCATION": ":memory:",
              "DEV_MODE": false,
              "DISPLAY_MAX_COLUMNS": 100,
              "DISPLAY_MAX_ROWS": 50000,
              "DISPLAY_MODE": "simple",
              "ENABLE_ASSIGNMENT": true,
              "ENABLE_DATALINK": true,
              "FLATTEN_COLUMN_VALUES": true,
              "FLATTEN_INDEX_VALUES": false,
              "GENERATE_DEX_METADATA": false,
              "HTML_TABLE_SCHEMA": false,
              "LOG_LEVEL": 30,
              "MAX_RENDER_SIZE_BYTES": 104857600,
              "MAX_STRING_LENGTH": 250,
              "NUM_PAST_SAMPLES_TRACKED": 3,
              "RANDOM_STATE": 12648430,
              "RESET_INDEX_VALUES": false,
              "ROW_SAMPLING_METHOD": "random",
              "SAMPLING_FACTOR": 0.1,
              "SAMPLING_METHOD": "random",
              "STRINGIFY_COLUMN_VALUES": true,
              "STRINGIFY_INDEX_VALUES": false
            },
            "sample_history": [],
            "sampling_time": "2023-12-14T18:15:48.605614",
            "user_variable_name": "sql_df_rkwk",
            "variable_name": "sql_df_rkwk"
          }
        }
      },
      "execution_count": null,
      "source": "SELECT location, (SUM(total_deaths)/SUM(total_cases))*100 AS fatality_rate FROM `covid19_data.covid19-data` GROUP BY location HAVING SUM(total_cases) > 0 ORDER BY fatality_rate DESC;",
      "outputs": []
    },
    {
      "id": "0b2907cf-4a6b-4848-a142-3709791d9cfc",
      "cell_type": "markdown",
      "source": "### Peak Case Days\nIdentify days with the highest number of cases.",
      "metadata": {
        "noteable": {
          "cell_type": "markdown"
        }
      }
    },
    {
      "id": "41998058-3edd-4463-adef-4bb2b0bc3f36",
      "cell_type": "code",
      "metadata": {
        "noteable": {
          "assign_results_to": "sql_df_ynvx",
          "cell_type": "sql",
          "db_connection": "@2746f34db9c74d35b501f3ea8dd249bb",
          "output_collection_id": "4eec87f3-fb59-49f5-a034-f70c0e91bd2f"
        },
        "ExecuteTime": {
          "end_time": "2023-12-14T18:18:47.920395+00:00",
          "start_time": "2023-12-14T18:18:46.083833+00:00"
        },
        "datalink": {
          "c416b9a0-c19f-43a2-9cf2-96ce0432fcf2": {
            "applied_filters": [],
            "dataframe_info": {
              "default_index_used": true,
              "orig_num_cols": 2,
              "orig_num_rows": 5,
              "orig_size_bytes": 120,
              "truncated_num_cols": 2,
              "truncated_num_rows": 5,
              "truncated_size_bytes": 120,
              "truncated_string_columns": []
            },
            "display_id": "c416b9a0-c19f-43a2-9cf2-96ce0432fcf2",
            "dx_settings": {
              "ALLOW_NOTEABLE_ATTRS": true,
              "COLUMN_SAMPLING_METHOD": "outer",
              "DB_LOCATION": ":memory:",
              "DEV_MODE": false,
              "DISPLAY_MAX_COLUMNS": 100,
              "DISPLAY_MAX_ROWS": 50000,
              "DISPLAY_MODE": "simple",
              "ENABLE_ASSIGNMENT": true,
              "ENABLE_DATALINK": true,
              "FLATTEN_COLUMN_VALUES": true,
              "FLATTEN_INDEX_VALUES": false,
              "GENERATE_DEX_METADATA": false,
              "HTML_TABLE_SCHEMA": false,
              "LOG_LEVEL": 30,
              "MAX_RENDER_SIZE_BYTES": 104857600,
              "MAX_STRING_LENGTH": 250,
              "NUM_PAST_SAMPLES_TRACKED": 3,
              "RANDOM_STATE": 12648430,
              "RESET_INDEX_VALUES": false,
              "ROW_SAMPLING_METHOD": "random",
              "SAMPLING_FACTOR": 0.1,
              "SAMPLING_METHOD": "random",
              "STRINGIFY_COLUMN_VALUES": true,
              "STRINGIFY_INDEX_VALUES": false
            },
            "sample_history": [],
            "sampling_time": "2023-12-14T18:18:47.756805",
            "user_variable_name": "sql_df_ynvx",
            "variable_name": "sql_df_ynvx"
          }
        }
      },
      "execution_count": null,
      "source": "SELECT date, MAX(new_cases) AS peak_cases FROM `covid19_data.covid19-data` GROUP BY date ORDER BY peak_cases DESC LIMIT 5;",
      "outputs": []
    },
    {
      "id": "4ef80f59-f4c5-4539-84ef-0a249f05d73d",
      "cell_type": "markdown",
      "source": "### Average Daily Increase\nCalculate the average daily increase in cases and deaths.",
      "metadata": {
        "noteable": {
          "cell_type": "markdown"
        }
      }
    },
    {
      "id": "213c2170-ed9f-490b-830b-9c02c1c65c84",
      "cell_type": "code",
      "metadata": {
        "noteable": {
          "assign_results_to": "sql_df_fjdr",
          "cell_type": "sql",
          "db_connection": "@2746f34db9c74d35b501f3ea8dd249bb",
          "output_collection_id": "97bd4169-6efc-4d89-a8b3-a3f778d51c57"
        },
        "ExecuteTime": {
          "end_time": "2023-12-14T18:22:16.715074+00:00",
          "start_time": "2023-12-14T18:22:13.273182+00:00"
        },
        "datalink": {
          "1ec8e741-8682-41b5-9705-5bb12dbac75b": {
            "applied_filters": [],
            "dataframe_info": {
              "default_index_used": true,
              "orig_num_cols": 2,
              "orig_num_rows": 1,
              "orig_size_bytes": 24,
              "truncated_num_cols": 2,
              "truncated_num_rows": 1,
              "truncated_size_bytes": 24,
              "truncated_string_columns": []
            },
            "display_id": "1ec8e741-8682-41b5-9705-5bb12dbac75b",
            "dx_settings": {
              "ALLOW_NOTEABLE_ATTRS": true,
              "COLUMN_SAMPLING_METHOD": "outer",
              "DB_LOCATION": ":memory:",
              "DEV_MODE": false,
              "DISPLAY_MAX_COLUMNS": 100,
              "DISPLAY_MAX_ROWS": 50000,
              "DISPLAY_MODE": "simple",
              "ENABLE_ASSIGNMENT": true,
              "ENABLE_DATALINK": true,
              "FLATTEN_COLUMN_VALUES": true,
              "FLATTEN_INDEX_VALUES": false,
              "GENERATE_DEX_METADATA": false,
              "HTML_TABLE_SCHEMA": false,
              "LOG_LEVEL": 30,
              "MAX_RENDER_SIZE_BYTES": 104857600,
              "MAX_STRING_LENGTH": 250,
              "NUM_PAST_SAMPLES_TRACKED": 3,
              "RANDOM_STATE": 12648430,
              "RESET_INDEX_VALUES": false,
              "ROW_SAMPLING_METHOD": "random",
              "SAMPLING_FACTOR": 0.1,
              "SAMPLING_METHOD": "random",
              "STRINGIFY_COLUMN_VALUES": true,
              "STRINGIFY_INDEX_VALUES": false
            },
            "sample_history": [],
            "sampling_time": "2023-12-14T18:22:16.556936",
            "user_variable_name": "sql_df_fjdr",
            "variable_name": "sql_df_fjdr"
          }
        }
      },
      "execution_count": null,
      "source": "SELECT AVG(daily_increase_cases) AS avg_daily_cases, AVG(daily_increase_deaths) AS avg_daily_deaths FROM (SELECT date, new_cases - LAG(new_cases, 1) OVER (ORDER BY date) AS daily_increase_cases, new_deaths - LAG(new_deaths, 1) OVER (ORDER BY date) AS daily_increase_deaths FROM `covid19_data.covid19-data`) WHERE daily_increase_cases IS NOT NULL AND daily_increase_deaths IS NOT NULL;",
      "outputs": []
    },
    {
      "id": "75dc4542-c24c-4355-89d2-4d9757adcfb5",
      "cell_type": "markdown",
      "source": "### Geographical Distribution\nExplore the distribution of cases by geographical regions.",
      "metadata": {
        "noteable": {
          "cell_type": "markdown"
        }
      }
    },
    {
      "id": "2cee7c85-6a12-4f55-bfe7-ca073d3c9147",
      "cell_type": "code",
      "metadata": {
        "noteable": {
          "assign_results_to": "sql_df_rbnc",
          "cell_type": "sql",
          "db_connection": "@2746f34db9c74d35b501f3ea8dd249bb",
          "output_collection_id": "2d83501e-befa-4a73-ac6f-939aa42e1b23"
        },
        "ExecuteTime": {
          "end_time": "2023-12-14T18:55:11.966290+00:00",
          "start_time": "2023-12-14T18:55:09.605825+00:00"
        },
        "datalink": {
          "da96294a-af4a-4f07-845c-b1c2daa71f5b": {
            "applied_filters": [],
            "dataframe_info": {
              "default_index_used": true,
              "orig_num_cols": 2,
              "orig_num_rows": 7,
              "orig_size_bytes": 168,
              "truncated_num_cols": 2,
              "truncated_num_rows": 7,
              "truncated_size_bytes": 168,
              "truncated_string_columns": []
            },
            "display_id": "da96294a-af4a-4f07-845c-b1c2daa71f5b",
            "dx_settings": {
              "ALLOW_NOTEABLE_ATTRS": true,
              "COLUMN_SAMPLING_METHOD": "outer",
              "DB_LOCATION": ":memory:",
              "DEV_MODE": false,
              "DISPLAY_MAX_COLUMNS": 100,
              "DISPLAY_MAX_ROWS": 50000,
              "DISPLAY_MODE": "simple",
              "ENABLE_ASSIGNMENT": true,
              "ENABLE_DATALINK": true,
              "FLATTEN_COLUMN_VALUES": true,
              "FLATTEN_INDEX_VALUES": false,
              "GENERATE_DEX_METADATA": false,
              "HTML_TABLE_SCHEMA": false,
              "LOG_LEVEL": 30,
              "MAX_RENDER_SIZE_BYTES": 104857600,
              "MAX_STRING_LENGTH": 250,
              "NUM_PAST_SAMPLES_TRACKED": 3,
              "RANDOM_STATE": 12648430,
              "RESET_INDEX_VALUES": false,
              "ROW_SAMPLING_METHOD": "random",
              "SAMPLING_FACTOR": 0.1,
              "SAMPLING_METHOD": "random",
              "STRINGIFY_COLUMN_VALUES": true,
              "STRINGIFY_INDEX_VALUES": false
            },
            "sample_history": [],
            "sampling_time": "2023-12-14T18:55:11.803153",
            "user_variable_name": "sql_df_rbnc",
            "variable_name": "sql_df_rbnc"
          }
        }
      },
      "execution_count": null,
      "source": "SELECT continent, SUM(total_cases) AS cases_in_continent FROM `covid19_data.covid19-data` GROUP BY continent ORDER BY cases_in_continent DESC;",
      "outputs": []
    },
    {
      "id": "21219e6e-9828-436a-b9ac-fe5439812ff5",
      "cell_type": "markdown",
      "source": "### Comparison of Stats by Income Groupings\nCompare relevant stats based on income groupings in the 'location' column.",
      "metadata": {
        "noteable": {
          "cell_type": "markdown"
        }
      }
    },
    {
      "id": "d4e728fd-0986-405b-8065-28a010ddc356",
      "cell_type": "code",
      "metadata": {
        "noteable": {
          "assign_results_to": "sql_df_glxd",
          "cell_type": "sql",
          "db_connection": "@2746f34db9c74d35b501f3ea8dd249bb",
          "output_collection_id": "c299ca54-80d6-424d-982d-b8866c9a1483"
        },
        "ExecuteTime": {
          "end_time": "2023-12-14T18:59:52.351404+00:00",
          "start_time": "2023-12-14T18:59:50.787612+00:00"
        },
        "datalink": {
          "f9d94c70-97fc-40d0-a7cc-19e0de6deed9": {
            "applied_filters": [],
            "dataframe_info": {
              "default_index_used": true,
              "orig_num_cols": 4,
              "orig_num_rows": 4,
              "orig_size_bytes": 160,
              "truncated_num_cols": 4,
              "truncated_num_rows": 4,
              "truncated_size_bytes": 160,
              "truncated_string_columns": []
            },
            "display_id": "f9d94c70-97fc-40d0-a7cc-19e0de6deed9",
            "dx_settings": {
              "ALLOW_NOTEABLE_ATTRS": true,
              "COLUMN_SAMPLING_METHOD": "outer",
              "DB_LOCATION": ":memory:",
              "DEV_MODE": false,
              "DISPLAY_MAX_COLUMNS": 100,
              "DISPLAY_MAX_ROWS": 50000,
              "DISPLAY_MODE": "simple",
              "ENABLE_ASSIGNMENT": true,
              "ENABLE_DATALINK": true,
              "FLATTEN_COLUMN_VALUES": true,
              "FLATTEN_INDEX_VALUES": false,
              "GENERATE_DEX_METADATA": false,
              "HTML_TABLE_SCHEMA": false,
              "LOG_LEVEL": 30,
              "MAX_RENDER_SIZE_BYTES": 104857600,
              "MAX_STRING_LENGTH": 250,
              "NUM_PAST_SAMPLES_TRACKED": 3,
              "RANDOM_STATE": 12648430,
              "RESET_INDEX_VALUES": false,
              "ROW_SAMPLING_METHOD": "random",
              "SAMPLING_FACTOR": 0.1,
              "SAMPLING_METHOD": "random",
              "STRINGIFY_COLUMN_VALUES": true,
              "STRINGIFY_INDEX_VALUES": false
            },
            "sample_history": [],
            "sampling_time": "2023-12-14T18:59:52.192886",
            "user_variable_name": "sql_df_glxd",
            "variable_name": "sql_df_glxd"
          }
        }
      },
      "execution_count": null,
      "source": "SELECT location, SUM(total_cases) AS total_cases, SUM(total_deaths) AS total_deaths, SUM(total_vaccinations) AS total_vaccinations FROM `covid19_data.covid19-data` WHERE location LIKE '%income%' GROUP BY location ORDER BY total_cases DESC;",
      "outputs": []
    },
    {
      "id": "17cd3804-db5e-4a4c-8422-84939e4c82a2",
      "cell_type": "markdown",
      "source": "### Vaccination Analysis\nExplore vaccination rates and their correlation with case reductions.",
      "metadata": {
        "noteable": {
          "cell_type": "markdown"
        }
      }
    },
    {
      "id": "ee3858ff-6703-4324-be81-9ea9954c7716",
      "cell_type": "code",
      "metadata": {
        "noteable": {
          "assign_results_to": "sql_df_rdva",
          "cell_type": "sql",
          "db_connection": "@2746f34db9c74d35b501f3ea8dd249bb"
        }
      },
      "execution_count": null,
      "source": "SELECT location, SUM(total_vaccinations) AS total_vaccinations, SUM(new_cases) AS new_cases FROM `covid19_data.covid19-data` GROUP BY location ORDER BY total_vaccinations DESC;",
      "outputs": []
    }
  ]
}