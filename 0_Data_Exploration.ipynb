{
  "nbformat": 4,
  "nbformat_minor": 5,
  "metadata": {
    "noteable-chatgpt": {
      "create_notebook": {
        "openai_conversation_id": "bdac8abe-e8ee-53ef-ba5c-97d92453fc05",
        "openai_ephemeral_user_id": "9aa60659-e6ec-599f-89f4-48b2825ec106",
        "openai_subdivision1_iso_code": "US-IN"
      }
    },
    "kernel_info": {
      "name": "python3"
    },
    "kernelspec": {
      "display_name": "Python 3.9",
      "identifier": "legacy",
      "language": "python",
      "language_version": "3.9",
      "name": "python3"
    },
    "selected_hardware_size": "small"
  },
  "cells": [
    {
      "id": "092710b7-ba42-4e62-abc6-c15a1b41c1f6",
      "cell_type": "code",
      "metadata": {
        "jupyter": {
          "outputs_hidden": false,
          "source_hidden": false
        },
        "noteable": {
          "cell_type": "code"
        }
      },
      "execution_count": null,
      "source": "",
      "outputs": []
    },
    {
      "id": "50c70d51-783c-4a7d-84ae-f56887441c52",
      "cell_type": "code",
      "metadata": {
        "noteable": {
          "assign_results_to": "sql_df_clyu",
          "cell_type": "sql",
          "db_connection": "@2746f34db9c74d35b501f3ea8dd249bb",
          "output_collection_id": "e543f6a2-d856-4b48-92b1-87ec696a35e7"
        },
        "ExecuteTime": {
          "end_time": "2023-12-14T17:01:39.622586+00:00",
          "start_time": "2023-12-14T17:01:38.076411+00:00"
        },
        "datalink": {
          "48c855ec-bc77-424a-b283-1b0a39e14d93": {
            "applied_filters": [],
            "dataframe_info": {
              "default_index_used": true,
              "orig_num_cols": 3,
              "orig_num_rows": 1,
              "orig_size_bytes": 32,
              "truncated_num_cols": 3,
              "truncated_num_rows": 1,
              "truncated_size_bytes": 32,
              "truncated_string_columns": []
            },
            "display_id": "48c855ec-bc77-424a-b283-1b0a39e14d93",
            "dx_settings": {
              "ALLOW_NOTEABLE_ATTRS": true,
              "COLUMN_SAMPLING_METHOD": "outer",
              "DB_LOCATION": ":memory:",
              "DEV_MODE": false,
              "DISPLAY_MAX_COLUMNS": 100,
              "DISPLAY_MAX_ROWS": 50000,
              "DISPLAY_MODE": "simple",
              "ENABLE_ASSIGNMENT": true,
              "ENABLE_DATALINK": true,
              "FLATTEN_COLUMN_VALUES": true,
              "FLATTEN_INDEX_VALUES": false,
              "GENERATE_DEX_METADATA": false,
              "HTML_TABLE_SCHEMA": false,
              "LOG_LEVEL": 30,
              "MAX_RENDER_SIZE_BYTES": 104857600,
              "MAX_STRING_LENGTH": 250,
              "NUM_PAST_SAMPLES_TRACKED": 3,
              "RANDOM_STATE": 12648430,
              "RESET_INDEX_VALUES": false,
              "ROW_SAMPLING_METHOD": "random",
              "SAMPLING_FACTOR": 0.1,
              "SAMPLING_METHOD": "random",
              "STRINGIFY_COLUMN_VALUES": true,
              "STRINGIFY_INDEX_VALUES": false
            },
            "sample_history": [],
            "sampling_time": "2023-12-14T17:01:39.461233",
            "user_variable_name": null,
            "variable_name": "unk_dataframe_5043e603c68644cc8c37bc900f593834"
          }
        }
      },
      "execution_count": null,
      "source": "\\list",
      "outputs": []
    },
    {
      "id": "f6b8f05c-5e7e-4d58-8b8c-cabc1b065d1c",
      "cell_type": "code",
      "metadata": {
        "noteable": {
          "assign_results_to": "sql_df_gasz",
          "cell_type": "sql",
          "db_connection": "@2746f34db9c74d35b501f3ea8dd249bb",
          "output_collection_id": "3d72b055-57c5-4470-a932-189e6bde3f16"
        },
        "ExecuteTime": {
          "end_time": "2023-12-14T17:04:00.739187+00:00",
          "start_time": "2023-12-14T17:03:58.200465+00:00"
        },
        "datalink": {
          "44c2819c-8da1-4c75-a9ff-c96c4dac7b99": {
            "applied_filters": [],
            "dataframe_info": {
              "default_index_used": true,
              "orig_num_cols": 67,
              "orig_num_rows": 100,
              "orig_size_bytes": 54400,
              "truncated_num_cols": 67,
              "truncated_num_rows": 100,
              "truncated_size_bytes": 54400,
              "truncated_string_columns": []
            },
            "display_id": "44c2819c-8da1-4c75-a9ff-c96c4dac7b99",
            "dx_settings": {
              "ALLOW_NOTEABLE_ATTRS": true,
              "COLUMN_SAMPLING_METHOD": "outer",
              "DB_LOCATION": ":memory:",
              "DEV_MODE": false,
              "DISPLAY_MAX_COLUMNS": 100,
              "DISPLAY_MAX_ROWS": 50000,
              "DISPLAY_MODE": "simple",
              "ENABLE_ASSIGNMENT": true,
              "ENABLE_DATALINK": true,
              "FLATTEN_COLUMN_VALUES": true,
              "FLATTEN_INDEX_VALUES": false,
              "GENERATE_DEX_METADATA": false,
              "HTML_TABLE_SCHEMA": false,
              "LOG_LEVEL": 30,
              "MAX_RENDER_SIZE_BYTES": 104857600,
              "MAX_STRING_LENGTH": 250,
              "NUM_PAST_SAMPLES_TRACKED": 3,
              "RANDOM_STATE": 12648430,
              "RESET_INDEX_VALUES": false,
              "ROW_SAMPLING_METHOD": "random",
              "SAMPLING_FACTOR": 0.1,
              "SAMPLING_METHOD": "random",
              "STRINGIFY_COLUMN_VALUES": true,
              "STRINGIFY_INDEX_VALUES": false
            },
            "sample_history": [],
            "sampling_time": "2023-12-14T17:04:00.556371",
            "user_variable_name": "sql_df_gasz",
            "variable_name": "sql_df_gasz"
          }
        }
      },
      "execution_count": null,
      "source": "SELECT * FROM `covid19_data.covid19-data` LIMIT 100;",
      "outputs": []
    },
    {
      "id": "22eecbb6-0674-4f60-b329-c4f904e0404a",
      "cell_type": "markdown",
      "source": "### Aggregate Data by Country/Region\nCalculate total cases, deaths, and recoveries per country.",
      "metadata": {
        "noteable": {
          "cell_type": "markdown"
        }
      }
    },
    {
      "id": "b6622b86-c7fa-4cab-9089-74f7dd5c35c6",
      "cell_type": "code",
      "metadata": {
        "noteable": {
          "assign_results_to": "sql_df_yxbz",
          "cell_type": "sql",
          "db_connection": "@2746f34db9c74d35b501f3ea8dd249bb",
          "output_collection_id": "4113c5f1-b545-4614-8a52-94897674ffd8"
        },
        "ExecuteTime": {
          "end_time": "2023-12-14T17:13:28.071681+00:00",
          "start_time": "2023-12-14T17:13:26.267807+00:00"
        }
      },
      "execution_count": null,
      "source": "SELECT country, SUM(confirmed_cases) AS total_cases, SUM(deaths) AS total_deaths, SUM(recoveries) AS total_recoveries FROM `covid19_data.covid19-data` GROUP BY country;",
      "outputs": []
    },
    {
      "id": "f3dd9eea-7026-4039-8186-9798954c238f",
      "cell_type": "markdown",
      "source": "### Corrected Query for Aggregate Data by Country/Region\nAdjusting column names to match the table schema.",
      "metadata": {
        "noteable": {
          "cell_type": "markdown"
        }
      }
    },
    {
      "id": "1cd303f1-6e84-4d7c-ab80-4f4a24847e60",
      "cell_type": "code",
      "metadata": {
        "noteable": {
          "assign_results_to": "sql_df_ryjf",
          "cell_type": "sql",
          "db_connection": "@2746f34db9c74d35b501f3ea8dd249bb",
          "output_collection_id": "ad096efb-4afb-4975-a227-f72df4002270"
        },
        "ExecuteTime": {
          "end_time": "2023-12-14T17:13:53.072666+00:00",
          "start_time": "2023-12-14T17:13:50.940884+00:00"
        },
        "datalink": {
          "55388762-068a-4e5c-a8b5-908466e67bdd": {
            "applied_filters": [],
            "dataframe_info": {
              "default_index_used": true,
              "orig_num_cols": 67,
              "orig_num_rows": 5,
              "orig_size_bytes": 2720,
              "truncated_num_cols": 67,
              "truncated_num_rows": 5,
              "truncated_size_bytes": 2720,
              "truncated_string_columns": []
            },
            "display_id": "55388762-068a-4e5c-a8b5-908466e67bdd",
            "dx_settings": {
              "ALLOW_NOTEABLE_ATTRS": true,
              "COLUMN_SAMPLING_METHOD": "outer",
              "DB_LOCATION": ":memory:",
              "DEV_MODE": false,
              "DISPLAY_MAX_COLUMNS": 100,
              "DISPLAY_MAX_ROWS": 50000,
              "DISPLAY_MODE": "simple",
              "ENABLE_ASSIGNMENT": true,
              "ENABLE_DATALINK": true,
              "FLATTEN_COLUMN_VALUES": true,
              "FLATTEN_INDEX_VALUES": false,
              "GENERATE_DEX_METADATA": false,
              "HTML_TABLE_SCHEMA": false,
              "LOG_LEVEL": 30,
              "MAX_RENDER_SIZE_BYTES": 104857600,
              "MAX_STRING_LENGTH": 250,
              "NUM_PAST_SAMPLES_TRACKED": 3,
              "RANDOM_STATE": 12648430,
              "RESET_INDEX_VALUES": false,
              "ROW_SAMPLING_METHOD": "random",
              "SAMPLING_FACTOR": 0.1,
              "SAMPLING_METHOD": "random",
              "STRINGIFY_COLUMN_VALUES": true,
              "STRINGIFY_INDEX_VALUES": false
            },
            "sample_history": [],
            "sampling_time": "2023-12-14T17:13:52.899697",
            "user_variable_name": "sql_df_ryjf",
            "variable_name": "sql_df_ryjf"
          }
        }
      },
      "execution_count": null,
      "source": "SELECT * FROM `covid19_data.covid19-data` LIMIT 5;",
      "outputs": []
    },
    {
      "id": "e9932603-800c-4bf0-91c4-e8707a6bd876",
      "cell_type": "markdown",
      "source": "### Attempting Aggregate Data by Assumed Columns\nUsing assumed column names for aggregation.",
      "metadata": {
        "noteable": {
          "cell_type": "markdown"
        }
      }
    },
    {
      "id": "ba23322a-d99f-476f-91fc-c85304eb4dc2",
      "cell_type": "code",
      "metadata": {
        "noteable": {
          "assign_results_to": "sql_df_xodu",
          "cell_type": "sql",
          "db_connection": "@2746f34db9c74d35b501f3ea8dd249bb",
          "output_collection_id": "7a25aa75-4f2e-463b-a20f-10cf128ea5d5"
        },
        "ExecuteTime": {
          "end_time": "2023-12-14T17:18:23.265659+00:00",
          "start_time": "2023-12-14T17:18:22.436393+00:00"
        }
      },
      "execution_count": null,
      "source": "SELECT location, SUM(cases) AS total_cases, SUM(deaths) AS total_deaths FROM `covid19_data.covid19-data` GROUP BY location;",
      "outputs": []
    },
    {
      "id": "04aac377-f96e-4560-a24b-60f6c7ef468f",
      "cell_type": "code",
      "metadata": {
        "noteable": {
          "assign_results_to": "sql_df_esqg",
          "cell_type": "sql",
          "db_connection": "@2746f34db9c74d35b501f3ea8dd249bb",
          "output_collection_id": "15c5ea4d-5a73-41fa-99a7-2a07897430ba"
        },
        "ExecuteTime": {
          "end_time": "2023-12-14T17:20:28.750643+00:00",
          "start_time": "2023-12-14T17:20:26.843493+00:00"
        },
        "datalink": {
          "a8f0ee96-9c5e-4698-81be-586ed688b58a": {
            "applied_filters": [],
            "dataframe_info": {
              "default_index_used": true,
              "orig_num_cols": 1,
              "orig_num_rows": 67,
              "orig_size_bytes": 1072,
              "truncated_num_cols": 1,
              "truncated_num_rows": 67,
              "truncated_size_bytes": 1072,
              "truncated_string_columns": []
            },
            "display_id": "a8f0ee96-9c5e-4698-81be-586ed688b58a",
            "dx_settings": {
              "ALLOW_NOTEABLE_ATTRS": true,
              "COLUMN_SAMPLING_METHOD": "outer",
              "DB_LOCATION": ":memory:",
              "DEV_MODE": false,
              "DISPLAY_MAX_COLUMNS": 100,
              "DISPLAY_MAX_ROWS": 50000,
              "DISPLAY_MODE": "simple",
              "ENABLE_ASSIGNMENT": true,
              "ENABLE_DATALINK": true,
              "FLATTEN_COLUMN_VALUES": true,
              "FLATTEN_INDEX_VALUES": false,
              "GENERATE_DEX_METADATA": false,
              "HTML_TABLE_SCHEMA": false,
              "LOG_LEVEL": 30,
              "MAX_RENDER_SIZE_BYTES": 104857600,
              "MAX_STRING_LENGTH": 250,
              "NUM_PAST_SAMPLES_TRACKED": 3,
              "RANDOM_STATE": 12648430,
              "RESET_INDEX_VALUES": false,
              "ROW_SAMPLING_METHOD": "random",
              "SAMPLING_FACTOR": 0.1,
              "SAMPLING_METHOD": "random",
              "STRINGIFY_COLUMN_VALUES": true,
              "STRINGIFY_INDEX_VALUES": false
            },
            "sample_history": [],
            "sampling_time": "2023-12-14T17:20:28.592548",
            "user_variable_name": "sql_df_esqg",
            "variable_name": "sql_df_esqg"
          }
        }
      },
      "execution_count": null,
      "source": "SELECT column_name FROM `covid19_data.INFORMATION_SCHEMA.COLUMNS` WHERE table_name = 'covid19-data';",
      "outputs": []
    },
    {
      "id": "f2cd1a2b-c998-4c2a-804f-b4c68688ab58",
      "cell_type": "markdown",
      "source": "### Aggregate Data by Country/Region\nCalculate total cases, deaths, and recoveries per country, using the correct column names.",
      "metadata": {
        "noteable": {
          "cell_type": "markdown"
        }
      }
    },
    {
      "id": "5c4905bb-2e87-4f90-b888-8d0d6c20ca78",
      "cell_type": "code",
      "metadata": {
        "noteable": {
          "assign_results_to": "sql_df_rsdm",
          "cell_type": "sql",
          "db_connection": "@2746f34db9c74d35b501f3ea8dd249bb",
          "output_collection_id": "0390ee89-3397-4264-a6c1-a0c9a8016a54"
        },
        "ExecuteTime": {
          "end_time": "2023-12-14T17:26:20.905755+00:00",
          "start_time": "2023-12-14T17:26:19.083194+00:00"
        },
        "datalink": {
          "12ed4a7d-af1c-4f21-a305-289977318a72": {
            "applied_filters": [],
            "dataframe_info": {
              "default_index_used": true,
              "orig_num_cols": 3,
              "orig_num_rows": 255,
              "orig_size_bytes": 8160,
              "truncated_num_cols": 3,
              "truncated_num_rows": 255,
              "truncated_size_bytes": 8160,
              "truncated_string_columns": []
            },
            "display_id": "12ed4a7d-af1c-4f21-a305-289977318a72",
            "dx_settings": {
              "ALLOW_NOTEABLE_ATTRS": true,
              "COLUMN_SAMPLING_METHOD": "outer",
              "DB_LOCATION": ":memory:",
              "DEV_MODE": false,
              "DISPLAY_MAX_COLUMNS": 100,
              "DISPLAY_MAX_ROWS": 50000,
              "DISPLAY_MODE": "simple",
              "ENABLE_ASSIGNMENT": true,
              "ENABLE_DATALINK": true,
              "FLATTEN_COLUMN_VALUES": true,
              "FLATTEN_INDEX_VALUES": false,
              "GENERATE_DEX_METADATA": false,
              "HTML_TABLE_SCHEMA": false,
              "LOG_LEVEL": 30,
              "MAX_RENDER_SIZE_BYTES": 104857600,
              "MAX_STRING_LENGTH": 250,
              "NUM_PAST_SAMPLES_TRACKED": 3,
              "RANDOM_STATE": 12648430,
              "RESET_INDEX_VALUES": false,
              "ROW_SAMPLING_METHOD": "random",
              "SAMPLING_FACTOR": 0.1,
              "SAMPLING_METHOD": "random",
              "STRINGIFY_COLUMN_VALUES": true,
              "STRINGIFY_INDEX_VALUES": false
            },
            "sample_history": [],
            "sampling_time": "2023-12-14T17:26:20.742278",
            "user_variable_name": "sql_df_rsdm",
            "variable_name": "sql_df_rsdm"
          }
        }
      },
      "execution_count": null,
      "source": "SELECT location, SUM(total_cases) AS total_cases, SUM(total_deaths) AS total_deaths FROM `covid19_data.covid19-data` GROUP BY location;",
      "outputs": []
    },
    {
      "id": "d3671dac-c0a4-4fa2-b3af-f3089aeaa497",
      "cell_type": "markdown",
      "source": "### Aggregate Data by Country/Region\nCalculate total cases, deaths, and recoveries per country, using the correct column names.",
      "metadata": {
        "noteable": {
          "cell_type": "markdown"
        }
      }
    },
    {
      "id": "e9d514c3-e543-4dcd-94fa-418a69956465",
      "cell_type": "code",
      "metadata": {
        "noteable": {
          "assign_results_to": "sql_df_cazq",
          "cell_type": "sql",
          "db_connection": "@2746f34db9c74d35b501f3ea8dd249bb",
          "output_collection_id": "42950f03-806d-41c9-b089-7a5cb5885dbd"
        },
        "ExecuteTime": {
          "end_time": "2023-12-14T17:54:17.517184+00:00",
          "start_time": "2023-12-14T17:54:15.898286+00:00"
        },
        "datalink": {
          "b6d88471-07e0-4f78-9d0f-b6edd184753e": {
            "applied_filters": [],
            "dataframe_info": {
              "default_index_used": true,
              "orig_num_cols": 3,
              "orig_num_rows": 255,
              "orig_size_bytes": 8160,
              "truncated_num_cols": 3,
              "truncated_num_rows": 255,
              "truncated_size_bytes": 8160,
              "truncated_string_columns": []
            },
            "display_id": "b6d88471-07e0-4f78-9d0f-b6edd184753e",
            "dx_settings": {
              "ALLOW_NOTEABLE_ATTRS": true,
              "COLUMN_SAMPLING_METHOD": "outer",
              "DB_LOCATION": ":memory:",
              "DEV_MODE": false,
              "DISPLAY_MAX_COLUMNS": 100,
              "DISPLAY_MAX_ROWS": 50000,
              "DISPLAY_MODE": "simple",
              "ENABLE_ASSIGNMENT": true,
              "ENABLE_DATALINK": true,
              "FLATTEN_COLUMN_VALUES": true,
              "FLATTEN_INDEX_VALUES": false,
              "GENERATE_DEX_METADATA": false,
              "HTML_TABLE_SCHEMA": false,
              "LOG_LEVEL": 30,
              "MAX_RENDER_SIZE_BYTES": 104857600,
              "MAX_STRING_LENGTH": 250,
              "NUM_PAST_SAMPLES_TRACKED": 3,
              "RANDOM_STATE": 12648430,
              "RESET_INDEX_VALUES": false,
              "ROW_SAMPLING_METHOD": "random",
              "SAMPLING_FACTOR": 0.1,
              "SAMPLING_METHOD": "random",
              "STRINGIFY_COLUMN_VALUES": true,
              "STRINGIFY_INDEX_VALUES": false
            },
            "sample_history": [],
            "sampling_time": "2023-12-14T17:54:17.355636",
            "user_variable_name": "sql_df_rsdm",
            "variable_name": "sql_df_rsdm"
          }
        }
      },
      "execution_count": null,
      "source": "SELECT location, SUM(total_cases) AS total_cases, SUM(total_deaths) AS total_deaths FROM `covid19_data.covid19-data` GROUP BY location;",
      "outputs": []
    },
    {
      "id": "a7689f75-4b1c-4465-b411-672d400b84d0",
      "cell_type": "markdown",
      "source": "### Trend Analysis Over Time\nAnalyze the trend of cases, deaths, and recoveries over time.",
      "metadata": {
        "noteable": {
          "cell_type": "markdown"
        }
      }
    },
    {
      "id": "e31f92a2-93f6-47d9-b64d-7d977a43256b",
      "cell_type": "code",
      "metadata": {
        "noteable": {
          "assign_results_to": "sql_df_pwvr",
          "cell_type": "sql",
          "db_connection": "@2746f34db9c74d35b501f3ea8dd249bb",
          "output_collection_id": "e1c58a0f-1881-405d-84d5-558ade0c9b22"
        },
        "ExecuteTime": {
          "end_time": "2023-12-14T17:59:43.416684+00:00",
          "start_time": "2023-12-14T17:59:41.443711+00:00"
        },
        "datalink": {
          "a770d437-94ae-4b1a-908b-5ad670483439": {
            "applied_filters": [],
            "dataframe_info": {
              "default_index_used": true,
              "orig_num_cols": 3,
              "orig_num_rows": 1185,
              "orig_size_bytes": 37920,
              "truncated_num_cols": 3,
              "truncated_num_rows": 1185,
              "truncated_size_bytes": 37920,
              "truncated_string_columns": []
            },
            "display_id": "a770d437-94ae-4b1a-908b-5ad670483439",
            "dx_settings": {
              "ALLOW_NOTEABLE_ATTRS": true,
              "COLUMN_SAMPLING_METHOD": "outer",
              "DB_LOCATION": ":memory:",
              "DEV_MODE": false,
              "DISPLAY_MAX_COLUMNS": 100,
              "DISPLAY_MAX_ROWS": 50000,
              "DISPLAY_MODE": "simple",
              "ENABLE_ASSIGNMENT": true,
              "ENABLE_DATALINK": true,
              "FLATTEN_COLUMN_VALUES": true,
              "FLATTEN_INDEX_VALUES": false,
              "GENERATE_DEX_METADATA": false,
              "HTML_TABLE_SCHEMA": false,
              "LOG_LEVEL": 30,
              "MAX_RENDER_SIZE_BYTES": 104857600,
              "MAX_STRING_LENGTH": 250,
              "NUM_PAST_SAMPLES_TRACKED": 3,
              "RANDOM_STATE": 12648430,
              "RESET_INDEX_VALUES": false,
              "ROW_SAMPLING_METHOD": "random",
              "SAMPLING_FACTOR": 0.1,
              "SAMPLING_METHOD": "random",
              "STRINGIFY_COLUMN_VALUES": true,
              "STRINGIFY_INDEX_VALUES": false
            },
            "sample_history": [],
            "sampling_time": "2023-12-14T17:59:43.238456",
            "user_variable_name": "sql_df_pwvr",
            "variable_name": "sql_df_pwvr"
          }
        }
      },
      "execution_count": null,
      "source": "SELECT date, SUM(new_cases) AS daily_cases, SUM(new_deaths) AS daily_deaths FROM `covid19_data.covid19-data` GROUP BY date ORDER BY date;",
      "outputs": []
    },
    {
      "id": "85b73b1f-9e21-46c3-a4bb-e443527a6642",
      "cell_type": "markdown",
      "source": "### Yearly Trend Analysis\nAnalyze the trend of cases and deaths per year.",
      "metadata": {
        "noteable": {
          "cell_type": "markdown"
        }
      }
    },
    {
      "id": "90ec9a20-9170-4f6d-8d32-a5d531be2f8b",
      "cell_type": "code",
      "metadata": {
        "noteable": {
          "assign_results_to": "sql_df_twyq",
          "cell_type": "sql",
          "db_connection": "@2746f34db9c74d35b501f3ea8dd249bb",
          "output_collection_id": "cd574434-7f5d-4d57-a0ce-f927b83bf851"
        },
        "ExecuteTime": {
          "end_time": "2023-12-14T18:06:56.488822+00:00",
          "start_time": "2023-12-14T18:06:54.571904+00:00"
        },
        "datalink": {
          "b7c4bb08-bb2b-4e02-8bf7-71c99cea388b": {
            "applied_filters": [],
            "dataframe_info": {
              "default_index_used": true,
              "orig_num_cols": 3,
              "orig_num_rows": 4,
              "orig_size_bytes": 128,
              "truncated_num_cols": 3,
              "truncated_num_rows": 4,
              "truncated_size_bytes": 128,
              "truncated_string_columns": []
            },
            "display_id": "b7c4bb08-bb2b-4e02-8bf7-71c99cea388b",
            "dx_settings": {
              "ALLOW_NOTEABLE_ATTRS": true,
              "COLUMN_SAMPLING_METHOD": "outer",
              "DB_LOCATION": ":memory:",
              "DEV_MODE": false,
              "DISPLAY_MAX_COLUMNS": 100,
              "DISPLAY_MAX_ROWS": 50000,
              "DISPLAY_MODE": "simple",
              "ENABLE_ASSIGNMENT": true,
              "ENABLE_DATALINK": true,
              "FLATTEN_COLUMN_VALUES": true,
              "FLATTEN_INDEX_VALUES": false,
              "GENERATE_DEX_METADATA": false,
              "HTML_TABLE_SCHEMA": false,
              "LOG_LEVEL": 30,
              "MAX_RENDER_SIZE_BYTES": 104857600,
              "MAX_STRING_LENGTH": 250,
              "NUM_PAST_SAMPLES_TRACKED": 3,
              "RANDOM_STATE": 12648430,
              "RESET_INDEX_VALUES": false,
              "ROW_SAMPLING_METHOD": "random",
              "SAMPLING_FACTOR": 0.1,
              "SAMPLING_METHOD": "random",
              "STRINGIFY_COLUMN_VALUES": true,
              "STRINGIFY_INDEX_VALUES": false
            },
            "sample_history": [],
            "sampling_time": "2023-12-14T18:06:56.330624",
            "user_variable_name": "sql_df_twyq",
            "variable_name": "sql_df_twyq"
          }
        }
      },
      "execution_count": null,
      "source": "SELECT EXTRACT(YEAR FROM date) AS year, SUM(new_cases) AS yearly_cases, SUM(new_deaths) AS yearly_deaths FROM `covid19_data.covid19-data` GROUP BY year ORDER BY year;",
      "outputs": []
    }
  ]
}