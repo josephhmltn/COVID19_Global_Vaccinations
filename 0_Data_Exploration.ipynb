{
  "nbformat": 4,
  "nbformat_minor": 5,
  "metadata": {
    "noteable-chatgpt": {
      "create_notebook": {
        "openai_conversation_id": "bdac8abe-e8ee-53ef-ba5c-97d92453fc05",
        "openai_ephemeral_user_id": "9aa60659-e6ec-599f-89f4-48b2825ec106",
        "openai_subdivision1_iso_code": "US-IN"
      }
    },
    "kernel_info": {
      "name": "python3"
    },
    "kernelspec": {
      "display_name": "Python 3.9",
      "identifier": "legacy",
      "language": "python",
      "language_version": "3.9",
      "name": "python3"
    },
    "selected_hardware_size": "small"
  },
  "cells": [
    {
      "id": "d33af38b-a0b9-4ce3-95ac-fb1791ac540c",
      "cell_type": "code",
      "metadata": {
        "noteable": {
          "assign_results_to": "sql_df_1",
          "cell_type": "sql",
          "db_connection": "@5e890ea3a0464f98bd15131b75babbf4",
          "output_collection_id": "a8a2dcb6-fd00-4c89-aec2-a85a243a6d0f"
        },
        "ExecuteTime": {
          "end_time": "2023-12-14T16:22:41.940580+00:00",
          "start_time": "2023-12-14T16:22:41.536078+00:00"
        }
      },
      "execution_count": null,
      "source": "-- Execute this cell to return the list of tables\n-- and views within the default schema of this database\n-- (Use \\help to learn more options)\n\n\\list",
      "outputs": []
    },
    {
      "id": "f14dcc3f-466b-410a-9d68-a2f129169bb3",
      "cell_type": "code",
      "metadata": {
        "jupyter": {
          "outputs_hidden": false,
          "source_hidden": false
        },
        "noteable": {
          "cell_type": "code"
        }
      },
      "execution_count": null,
      "source": "",
      "outputs": []
    },
    {
      "id": "d9c08897-b4fc-46bb-bb88-582df8850818",
      "cell_type": "code",
      "metadata": {
        "noteable": {
          "assign_results_to": "sql_df_jpxp",
          "cell_type": "sql",
          "db_connection": "@5e890ea3a0464f98bd15131b75babbf4",
          "output_collection_id": "f9992a2b-5677-40b4-b0fb-a1793ede7485"
        },
        "ExecuteTime": {
          "end_time": "2023-12-14T16:14:17.052420+00:00",
          "start_time": "2023-12-14T16:14:15.978015+00:00"
        }
      },
      "execution_count": null,
      "source": "\\list",
      "outputs": []
    },
    {
      "id": "f613774c-df69-4ca3-b44b-ace4b398b7ad",
      "cell_type": "code",
      "metadata": {
        "noteable": {
          "assign_results_to": "sql_df_pvts",
          "cell_type": "sql",
          "db_connection": "@5e890ea3a0464f98bd15131b75babbf4",
          "output_collection_id": "9edd4019-c7e0-4bb2-a705-851b04685388"
        },
        "ExecuteTime": {
          "end_time": "2023-12-14T16:14:54.079704+00:00",
          "start_time": "2023-12-14T16:14:53.745653+00:00"
        }
      },
      "execution_count": null,
      "source": "\\list",
      "outputs": []
    },
    {
      "id": "4aa0213f-3ece-4ea8-b390-603145b0aa82",
      "cell_type": "code",
      "metadata": {
        "noteable": {
          "assign_results_to": "sql_df_cumt",
          "cell_type": "sql",
          "db_connection": "@5e890ea3a0464f98bd15131b75babbf4",
          "output_collection_id": "f7dbef47-d77a-4207-bb89-a12b3d6f3629"
        },
        "ExecuteTime": {
          "end_time": "2023-12-14T16:14:50.249521+00:00",
          "start_time": "2023-12-14T16:14:48.641093+00:00"
        }
      },
      "execution_count": null,
      "source": "SELECT table_name FROM information_schema.tables;",
      "outputs": []
    },
    {
      "id": "ef1de84b-935d-4552-acdf-29de86a8dcae",
      "cell_type": "code",
      "metadata": {
        "noteable": {
          "assign_results_to": "sql_df_suaj",
          "cell_type": "sql",
          "db_connection": "@5e890ea3a0464f98bd15131b75babbf4",
          "output_collection_id": "aaf0cddd-fab6-44dd-b10a-df717db690ef"
        },
        "ExecuteTime": {
          "end_time": "2023-12-14T16:15:14.913939+00:00",
          "start_time": "2023-12-14T16:15:13.932135+00:00"
        }
      },
      "execution_count": null,
      "source": "SELECT table_name FROM information_schema.tables;",
      "outputs": []
    }
  ]
}