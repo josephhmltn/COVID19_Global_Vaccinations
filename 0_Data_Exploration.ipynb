{
  "nbformat": 4,
  "nbformat_minor": 5,
  "metadata": {
    "noteable-chatgpt": {
      "create_notebook": {
        "openai_conversation_id": "bdac8abe-e8ee-53ef-ba5c-97d92453fc05",
        "openai_ephemeral_user_id": "9aa60659-e6ec-599f-89f4-48b2825ec106",
        "openai_subdivision1_iso_code": "US-IN"
      }
    },
    "kernel_info": {
      "name": "python3"
    },
    "kernelspec": {
      "display_name": "Python 3.9",
      "identifier": "legacy",
      "language": "python",
      "language_version": "3.9",
      "name": "python3"
    },
    "selected_hardware_size": "small"
  },
  "cells": [
    {
      "id": "79ed2b5b-7f12-4cac-8a6e-691bbe489786",
      "cell_type": "code",
      "metadata": {
        "noteable": {
          "assign_results_to": "sql_df_2",
          "cell_type": "sql",
          "db_connection": "@5e890ea3a0464f98bd15131b75babbf4",
          "output_collection_id": null
        },
        "ExecuteTime": {
          "end_time": "2023-12-14T16:28:12.312425+00:00",
          "start_time": "2023-12-14T16:28:11.947083+00:00"
        }
      },
      "execution_count": null,
      "source": "-- Execute this cell to return the list of tables\n-- and views within the default schema of this database\n-- (Use \\help to learn more options)\n\n\\list",
      "outputs": []
    },
    {
      "id": "6c39ff6d-80cf-4f10-99b1-92505132b92e",
      "cell_type": "code",
      "metadata": {
        "noteable": {
          "assign_results_to": "sql_df_4",
          "cell_type": "sql",
          "db_connection": "@fb307247d5bc411b9967cbbf85bc10e4",
          "output_collection_id": "5001c1f1-6163-4e4f-bb5d-0099135d990a"
        },
        "ExecuteTime": {
          "end_time": "2023-12-14T16:36:21.540893+00:00",
          "start_time": "2023-12-14T16:36:21.385954+00:00"
        }
      },
      "execution_count": null,
      "source": "-- Execute this cell to return the list of tables\n-- and views within the default schema of this database\n-- (Use \\help to learn more options)\n\n\\list",
      "outputs": []
    }
  ]
}